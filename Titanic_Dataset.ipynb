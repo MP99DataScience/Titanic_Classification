{
 "cells": [
  {
   "cell_type": "code",
   "execution_count": 361,
   "id": "f077baff",
   "metadata": {},
   "outputs": [],
   "source": [
    "import pandas as pd\n",
    "import matplotlib.pyplot as plt\n",
    "import seaborn as sns"
   ]
  },
  {
   "cell_type": "code",
   "execution_count": 362,
   "id": "d24fa694",
   "metadata": {},
   "outputs": [],
   "source": [
    "# Importo i dati \n",
    "data = pd.read_csv('C:/Users/massi/OneDrive/Desktop/Titanic.csv')"
   ]
  },
  {
   "cell_type": "code",
   "execution_count": 363,
   "id": "df35d2e1",
   "metadata": {},
   "outputs": [
    {
     "data": {
      "text/plain": [
       "(891, 13)"
      ]
     },
     "execution_count": 363,
     "metadata": {},
     "output_type": "execute_result"
    }
   ],
   "source": [
    "# Dimensioni del data set\n",
    "data.shape  # 891 osservazioni x 13 variabili"
   ]
  },
  {
   "cell_type": "code",
   "execution_count": 364,
   "id": "f0ca9391",
   "metadata": {},
   "outputs": [
    {
     "data": {
      "text/plain": [
       "array(['Unnamed: 0', 'PassengerId', 'Survived', 'Pclass', 'Name', 'Sex',\n",
       "       'Age', 'SibSp', 'Parch', 'Ticket', 'Fare', 'Cabin', 'Embarked'],\n",
       "      dtype=object)"
      ]
     },
     "execution_count": 364,
     "metadata": {},
     "output_type": "execute_result"
    }
   ],
   "source": [
    "# Nomi delle colonne\n",
    "data.columns.values"
   ]
  },
  {
   "cell_type": "code",
   "execution_count": 365,
   "id": "fc7e006d",
   "metadata": {},
   "outputs": [
    {
     "data": {
      "text/plain": [
       "0"
      ]
     },
     "execution_count": 365,
     "metadata": {},
     "output_type": "execute_result"
    }
   ],
   "source": [
    "# Controllo eventuali righe duplicate\n",
    "data.duplicated().sum()"
   ]
  },
  {
   "cell_type": "code",
   "execution_count": 366,
   "id": "63013811",
   "metadata": {},
   "outputs": [],
   "source": [
    "# Rimuovo la colonna Unnamed: 0\n",
    "data.drop('Unnamed: 0', inplace=True, axis=1)"
   ]
  },
  {
   "cell_type": "code",
   "execution_count": 367,
   "id": "9b0bfa5d",
   "metadata": {},
   "outputs": [],
   "source": [
    "# Rimuovo la colonna PassengerId\n",
    "data.drop('PassengerId', inplace=True, axis=1)"
   ]
  },
  {
   "cell_type": "code",
   "execution_count": 368,
   "id": "a6773dd3",
   "metadata": {},
   "outputs": [],
   "source": [
    "# Rimuovo la colonna Ticket\n",
    "data.drop('Ticket', inplace=True, axis=1)"
   ]
  },
  {
   "cell_type": "code",
   "execution_count": 369,
   "id": "c9043ace",
   "metadata": {},
   "outputs": [],
   "source": [
    "# Rimuovo la colonna Name\n",
    "data.drop('Name', inplace=True, axis=1)"
   ]
  },
  {
   "cell_type": "code",
   "execution_count": 370,
   "id": "25003520",
   "metadata": {},
   "outputs": [
    {
     "data": {
      "text/plain": [
       "(891, 9)"
      ]
     },
     "execution_count": 370,
     "metadata": {},
     "output_type": "execute_result"
    }
   ],
   "source": [
    "# Ricontrollo la dimensione del data set\n",
    "data.shape"
   ]
  },
  {
   "cell_type": "code",
   "execution_count": 371,
   "id": "60f408e2",
   "metadata": {},
   "outputs": [
    {
     "data": {
      "text/html": [
       "<div>\n",
       "<style scoped>\n",
       "    .dataframe tbody tr th:only-of-type {\n",
       "        vertical-align: middle;\n",
       "    }\n",
       "\n",
       "    .dataframe tbody tr th {\n",
       "        vertical-align: top;\n",
       "    }\n",
       "\n",
       "    .dataframe thead th {\n",
       "        text-align: right;\n",
       "    }\n",
       "</style>\n",
       "<table border=\"1\" class=\"dataframe\">\n",
       "  <thead>\n",
       "    <tr style=\"text-align: right;\">\n",
       "      <th></th>\n",
       "      <th>Survived</th>\n",
       "      <th>Pclass</th>\n",
       "      <th>Sex</th>\n",
       "      <th>Age</th>\n",
       "      <th>SibSp</th>\n",
       "      <th>Parch</th>\n",
       "      <th>Fare</th>\n",
       "      <th>Cabin</th>\n",
       "      <th>Embarked</th>\n",
       "    </tr>\n",
       "  </thead>\n",
       "  <tbody>\n",
       "    <tr>\n",
       "      <th>0</th>\n",
       "      <td>0</td>\n",
       "      <td>3</td>\n",
       "      <td>male</td>\n",
       "      <td>22.0</td>\n",
       "      <td>1</td>\n",
       "      <td>0</td>\n",
       "      <td>7.2500</td>\n",
       "      <td>NaN</td>\n",
       "      <td>S</td>\n",
       "    </tr>\n",
       "    <tr>\n",
       "      <th>1</th>\n",
       "      <td>1</td>\n",
       "      <td>1</td>\n",
       "      <td>female</td>\n",
       "      <td>38.0</td>\n",
       "      <td>1</td>\n",
       "      <td>0</td>\n",
       "      <td>71.2833</td>\n",
       "      <td>C85</td>\n",
       "      <td>C</td>\n",
       "    </tr>\n",
       "    <tr>\n",
       "      <th>2</th>\n",
       "      <td>1</td>\n",
       "      <td>3</td>\n",
       "      <td>female</td>\n",
       "      <td>26.0</td>\n",
       "      <td>0</td>\n",
       "      <td>0</td>\n",
       "      <td>7.9250</td>\n",
       "      <td>NaN</td>\n",
       "      <td>S</td>\n",
       "    </tr>\n",
       "    <tr>\n",
       "      <th>3</th>\n",
       "      <td>1</td>\n",
       "      <td>1</td>\n",
       "      <td>female</td>\n",
       "      <td>35.0</td>\n",
       "      <td>1</td>\n",
       "      <td>0</td>\n",
       "      <td>53.1000</td>\n",
       "      <td>C123</td>\n",
       "      <td>S</td>\n",
       "    </tr>\n",
       "    <tr>\n",
       "      <th>4</th>\n",
       "      <td>0</td>\n",
       "      <td>3</td>\n",
       "      <td>male</td>\n",
       "      <td>35.0</td>\n",
       "      <td>0</td>\n",
       "      <td>0</td>\n",
       "      <td>8.0500</td>\n",
       "      <td>NaN</td>\n",
       "      <td>S</td>\n",
       "    </tr>\n",
       "    <tr>\n",
       "      <th>...</th>\n",
       "      <td>...</td>\n",
       "      <td>...</td>\n",
       "      <td>...</td>\n",
       "      <td>...</td>\n",
       "      <td>...</td>\n",
       "      <td>...</td>\n",
       "      <td>...</td>\n",
       "      <td>...</td>\n",
       "      <td>...</td>\n",
       "    </tr>\n",
       "    <tr>\n",
       "      <th>886</th>\n",
       "      <td>0</td>\n",
       "      <td>2</td>\n",
       "      <td>male</td>\n",
       "      <td>27.0</td>\n",
       "      <td>0</td>\n",
       "      <td>0</td>\n",
       "      <td>13.0000</td>\n",
       "      <td>NaN</td>\n",
       "      <td>S</td>\n",
       "    </tr>\n",
       "    <tr>\n",
       "      <th>887</th>\n",
       "      <td>1</td>\n",
       "      <td>1</td>\n",
       "      <td>female</td>\n",
       "      <td>19.0</td>\n",
       "      <td>0</td>\n",
       "      <td>0</td>\n",
       "      <td>30.0000</td>\n",
       "      <td>B42</td>\n",
       "      <td>S</td>\n",
       "    </tr>\n",
       "    <tr>\n",
       "      <th>888</th>\n",
       "      <td>0</td>\n",
       "      <td>3</td>\n",
       "      <td>female</td>\n",
       "      <td>NaN</td>\n",
       "      <td>1</td>\n",
       "      <td>2</td>\n",
       "      <td>23.4500</td>\n",
       "      <td>NaN</td>\n",
       "      <td>S</td>\n",
       "    </tr>\n",
       "    <tr>\n",
       "      <th>889</th>\n",
       "      <td>1</td>\n",
       "      <td>1</td>\n",
       "      <td>male</td>\n",
       "      <td>26.0</td>\n",
       "      <td>0</td>\n",
       "      <td>0</td>\n",
       "      <td>30.0000</td>\n",
       "      <td>C148</td>\n",
       "      <td>C</td>\n",
       "    </tr>\n",
       "    <tr>\n",
       "      <th>890</th>\n",
       "      <td>0</td>\n",
       "      <td>3</td>\n",
       "      <td>male</td>\n",
       "      <td>32.0</td>\n",
       "      <td>0</td>\n",
       "      <td>0</td>\n",
       "      <td>7.7500</td>\n",
       "      <td>NaN</td>\n",
       "      <td>Q</td>\n",
       "    </tr>\n",
       "  </tbody>\n",
       "</table>\n",
       "<p>891 rows × 9 columns</p>\n",
       "</div>"
      ],
      "text/plain": [
       "     Survived  Pclass     Sex   Age  SibSp  Parch     Fare Cabin Embarked\n",
       "0           0       3    male  22.0      1      0   7.2500   NaN        S\n",
       "1           1       1  female  38.0      1      0  71.2833   C85        C\n",
       "2           1       3  female  26.0      0      0   7.9250   NaN        S\n",
       "3           1       1  female  35.0      1      0  53.1000  C123        S\n",
       "4           0       3    male  35.0      0      0   8.0500   NaN        S\n",
       "..        ...     ...     ...   ...    ...    ...      ...   ...      ...\n",
       "886         0       2    male  27.0      0      0  13.0000   NaN        S\n",
       "887         1       1  female  19.0      0      0  30.0000   B42        S\n",
       "888         0       3  female   NaN      1      2  23.4500   NaN        S\n",
       "889         1       1    male  26.0      0      0  30.0000  C148        C\n",
       "890         0       3    male  32.0      0      0   7.7500   NaN        Q\n",
       "\n",
       "[891 rows x 9 columns]"
      ]
     },
     "execution_count": 371,
     "metadata": {},
     "output_type": "execute_result"
    }
   ],
   "source": [
    "data # display data set"
   ]
  },
  {
   "cell_type": "code",
   "execution_count": 372,
   "id": "ec6969a9",
   "metadata": {},
   "outputs": [
    {
     "name": "stdout",
     "output_type": "stream",
     "text": [
      "<class 'pandas.core.frame.DataFrame'>\n",
      "RangeIndex: 891 entries, 0 to 890\n",
      "Data columns (total 9 columns):\n",
      " #   Column    Non-Null Count  Dtype  \n",
      "---  ------    --------------  -----  \n",
      " 0   Survived  891 non-null    int64  \n",
      " 1   Pclass    891 non-null    int64  \n",
      " 2   Sex       891 non-null    object \n",
      " 3   Age       714 non-null    float64\n",
      " 4   SibSp     891 non-null    int64  \n",
      " 5   Parch     891 non-null    int64  \n",
      " 6   Fare      891 non-null    float64\n",
      " 7   Cabin     204 non-null    object \n",
      " 8   Embarked  889 non-null    object \n",
      "dtypes: float64(2), int64(4), object(3)\n",
      "memory usage: 62.8+ KB\n"
     ]
    }
   ],
   "source": [
    "# Struttura del data set \n",
    "data.info()"
   ]
  },
  {
   "cell_type": "code",
   "execution_count": 373,
   "id": "42fe47bf",
   "metadata": {},
   "outputs": [
    {
     "data": {
      "text/plain": [
       "Survived      0\n",
       "Pclass        0\n",
       "Sex           0\n",
       "Age         177\n",
       "SibSp         0\n",
       "Parch         0\n",
       "Fare          0\n",
       "Cabin       687\n",
       "Embarked      2\n",
       "dtype: int64"
      ]
     },
     "execution_count": 373,
     "metadata": {},
     "output_type": "execute_result"
    }
   ],
   "source": [
    "# Controllo eventuali valori mancanti\n",
    "data.isnull().sum()"
   ]
  },
  {
   "cell_type": "code",
   "execution_count": 374,
   "id": "9155f552",
   "metadata": {},
   "outputs": [],
   "source": [
    "# Elimino la variabile Cabin \n",
    "data.drop('Cabin', inplace=True, axis=1)"
   ]
  },
  {
   "cell_type": "code",
   "execution_count": 375,
   "id": "d136d239",
   "metadata": {},
   "outputs": [],
   "source": [
    "# Elimino le due osservazioni in cui Embarked is null\n",
    "index = data[data['Embarked'].isnull()].index.tolist() # Indici\n",
    "data.drop(data.index[index], inplace=True)"
   ]
  },
  {
   "cell_type": "code",
   "execution_count": 376,
   "id": "5df22907",
   "metadata": {},
   "outputs": [],
   "source": [
    "# Metodo di imputazione per Age -> Mediana\n",
    "data['Age'] = data['Age'].fillna(data['Age'].median())"
   ]
  },
  {
   "cell_type": "code",
   "execution_count": 377,
   "id": "1bc4219e",
   "metadata": {},
   "outputs": [
    {
     "name": "stdout",
     "output_type": "stream",
     "text": [
      "Non sopravvisuti -> 61.75%, Sopravvisuti --> 38.25%.\n"
     ]
    }
   ],
   "source": [
    "# Data information and visualization\n",
    "not_survived = round((sum(data['Survived'] == 0) / transformed_data.shape[0]) * 100, 2) # Not Survived\n",
    "survived = round((sum(data['Survived'] == 1) / transformed_data.shape[0]) * 100, 2)  # Survived\n",
    "print(f\"Non sopravvisuti -> {not_survived}%, Sopravvisuti --> {survived}%.\")"
   ]
  },
  {
   "cell_type": "code",
   "execution_count": 378,
   "id": "22836b36",
   "metadata": {},
   "outputs": [
    {
     "data": {
      "text/plain": [
       "' Le donne sopravvisute presentano un conteggio maggiore rispetto agli uomini sopravvisuti, viceversa\\n    gli uomini non sopravvisuti presentano un conteggio maggiore rispetto alle donne non sopravvisute '"
      ]
     },
     "execution_count": 378,
     "metadata": {},
     "output_type": "execute_result"
    },
    {
     "data": {
      "image/png": "[encoded data removed]",
      "text/plain": [
       "<Figure size 432x288 with 1 Axes>"
      ]
     },
     "metadata": {
      "needs_background": "light"
     },
     "output_type": "display_data"
    }
   ],
   "source": [
    "# Survived vs Sex\n",
    "analytics_1 = data.groupby(['Survived','Sex']).size().reset_index(name='counts')\n",
    "sns.barplot(x='Sex',y='counts', hue='Survived',data = analytics_1)\n",
    "\n",
    "''' Le donne sopravvisute presentano un conteggio maggiore rispetto agli uomini sopravvisuti, viceversa\n",
    "    gli uomini non sopravvisuti presentano un conteggio maggiore rispetto alle donne non sopravvisute '''"
   ]
  },
  {
   "cell_type": "code",
   "execution_count": 379,
   "id": "b17d9636",
   "metadata": {},
   "outputs": [
    {
     "data": {
      "text/plain": [
       "' In terza classe si ha il conteggio maggiore relativo al numero di persone non sopravvisute, mentre in prima classe \\n    si ha il conteggio maggiore relativo al numero di persone sopravvisute '"
      ]
     },
     "execution_count": 379,
     "metadata": {},
     "output_type": "execute_result"
    },
    {
     "data": {
      "image/png": "[encoded data removed]",
      "text/plain": [
       "<Figure size 432x288 with 1 Axes>"
      ]
     },
     "metadata": {
      "needs_background": "light"
     },
     "output_type": "display_data"
    }
   ],
   "source": [
    "# Survived vs Pclass\n",
    "analytics_2 = data.groupby(['Survived', 'Pclass']).size().reset_index(name='counts')\n",
    "sns.barplot(x='Survived',y='counts', hue='Pclass',data = analytics_2)\n",
    "\n",
    "''' In terza classe si ha il conteggio maggiore relativo al numero di persone non sopravvisute, mentre in prima classe \n",
    "    si ha il conteggio maggiore relativo al numero di persone sopravvisute '''"
   ]
  },
  {
   "cell_type": "code",
   "execution_count": 380,
   "id": "0d7e3c16",
   "metadata": {},
   "outputs": [
    {
     "data": {
      "text/plain": [
       "' In media la tariffa passeggera è pari a 32 dollari, mentre il valore mediano è pari a 14.45. Le tarfiffe più care presentano\\n    un valore superiore ai 31 dollari, mentre la più costosa è pari a 512 dollari. '"
      ]
     },
     "execution_count": 380,
     "metadata": {},
     "output_type": "execute_result"
    }
   ],
   "source": [
    "# Fare  -> Descriptive statistics\n",
    "data['Fare'].describe() # Conteggio - Media - Deviazione Standard - Minimo - Quantile 25% - Mediana - Quantile 75% - Massimo\n",
    "\n",
    "''' In media la tariffa passeggera è pari a 32 dollari, mentre il valore mediano è pari a 14.45. Le tarfiffe più care presentano\n",
    "    un valore superiore ai 31 dollari, mentre la più costosa è pari a 512 dollari. '''"
   ]
  },
  {
   "cell_type": "code",
   "execution_count": 381,
   "id": "61809a9e",
   "metadata": {},
   "outputs": [
    {
     "data": {
      "text/plain": [
       "' Le tariffe passeggere più costose riguardano la prima classe, con un valore mediano che si aggira intorno ai 60 dollari. '"
      ]
     },
     "execution_count": 381,
     "metadata": {},
     "output_type": "execute_result"
    },
    {
     "data": {
      "image/png": "[encoded data removed]",
      "text/plain": [
       "<Figure size 432x288 with 1 Axes>"
      ]
     },
     "metadata": {
      "needs_background": "light"
     },
     "output_type": "display_data"
    }
   ],
   "source": [
    "# Fare vs Pclass\n",
    "analytics_3 = data.groupby(['Pclass']).Fare.median().reset_index(name='Median')\n",
    "sns.barplot(x='Pclass', y ='Median', data=analytics_3 )\n",
    "\n",
    "''' Le tariffe passeggere più costose riguardano la prima classe, con un valore mediano che si aggira intorno ai 60 dollari. '''"
   ]
  },
  {
   "cell_type": "code",
   "execution_count": 382,
   "id": "1b6ba552",
   "metadata": {},
   "outputs": [
    {
     "data": {
      "text/plain": [
       "' Medianamente la tariffa passeggera relativa al sesso femminile è più costosa, viceversa la tariffa passeggera relativa\\n    al sesso maschile è meno costosa. La mediana è robusta ad eventuali valori anomali, in questo caso tariffe passeggere\\n    molto elevate. '"
      ]
     },
     "execution_count": 382,
     "metadata": {},
     "output_type": "execute_result"
    }
   ],
   "source": [
    "# Fare vs Sex\n",
    "analytics_4 = data.groupby(['Sex']).Fare.median().reset_index(name='Median')\n",
    "analytics_4\n",
    "\n",
    "''' Medianamente la tariffa passeggera relativa al sesso femminile è più costosa, viceversa la tariffa passeggera relativa\n",
    "    al sesso maschile è meno costosa. La mediana è robusta ad eventuali valori anomali, in questo caso tariffe passeggere\n",
    "    molto elevate. '''"
   ]
  },
  {
   "cell_type": "code",
   "execution_count": 383,
   "id": "790bb325",
   "metadata": {},
   "outputs": [
    {
     "data": {
      "text/plain": [
       "' Il grafico racchiude quanto detto in precedenza, le donne presentano una tariffa passeggera più elevata, e le tariffe \\n    passeggere sono più elevate per la prima classe. Le donne in prima classe presentano la tariffa passeggera più elevata'"
      ]
     },
     "execution_count": 383,
     "metadata": {},
     "output_type": "execute_result"
    },
    {
     "data": {
      "image/png": "[encoded data removed]",
      "text/plain": [
       "<Figure size 432x288 with 1 Axes>"
      ]
     },
     "metadata": {
      "needs_background": "light"
     },
     "output_type": "display_data"
    }
   ],
   "source": [
    "# Fare  vs Sex vs Pclass\n",
    "analytics_5 = data.groupby(['Sex','Pclass']).Fare.median().reset_index(name='Median')\n",
    "sns.barplot(x='Sex', y='Median', hue='Pclass', data=analytics_5)\n",
    "\n",
    "''' Il grafico racchiude quanto detto in precedenza, le donne presentano una tariffa passeggera più elevata, e le tariffe \n",
    "    passeggere sono più elevate per la prima classe. Le donne in prima classe presentano la tariffa passeggera più elevata'''"
   ]
  },
  {
   "cell_type": "code",
   "execution_count": 384,
   "id": "b8a672e4",
   "metadata": {},
   "outputs": [
    {
     "data": {
      "text/plain": [
       "' Medianamente la tariffa passeggera è più elevata per gli uomini e le donne che si sono imbaracti dal porto di Cherbourg\\n    in Normandia.'"
      ]
     },
     "execution_count": 384,
     "metadata": {},
     "output_type": "execute_result"
    },
    {
     "data": {
      "image/png": "[encoded data removed]",
      "text/plain": [
       "<Figure size 432x288 with 1 Axes>"
      ]
     },
     "metadata": {
      "needs_background": "light"
     },
     "output_type": "display_data"
    }
   ],
   "source": [
    "# Fare vs Embark\n",
    "analytics_6 = data.groupby(['Embarked']).Fare.median().reset_index(name='Median')\n",
    "sns.barplot(x='Embarked', y='Median', data=analytics_6)\n",
    "\n",
    "''' Medianamente la tariffa passeggera è più elevata per gli uomini e le donne che si sono imbaracti dal porto di Cherbourg\n",
    "    in Normandia.'''"
   ]
  },
  {
   "cell_type": "code",
   "execution_count": 385,
   "id": "a85a292d",
   "metadata": {},
   "outputs": [
    {
     "data": {
      "text/plain": [
       "\" Le variabili Pclass e Fare presentano la correlazione più elevata, pari a -0.54. Il loro rapporto è \\n    inversamente proporzionale, infatti all'aumentare di Pclass, Fare diminuisce.  \""
      ]
     },
     "execution_count": 385,
     "metadata": {},
     "output_type": "execute_result"
    }
   ],
   "source": [
    "# Correlation\n",
    "corr = data.corr()\n",
    "corr.style.background_gradient(cmap='coolwarm')\n",
    "\n",
    "''' Le variabili Pclass e Fare presentano la correlazione più elevata, pari a -0.54. Il loro rapporto è \n",
    "    inversamente proporzionale, infatti all'aumentare di Pclass, Fare diminuisce.  '''"
   ]
  },
  {
   "cell_type": "code",
   "execution_count": 386,
   "id": "be565a09",
   "metadata": {},
   "outputs": [],
   "source": [
    "# Machine learning"
   ]
  },
  {
   "cell_type": "code",
   "execution_count": 387,
   "id": "5da27bef",
   "metadata": {},
   "outputs": [
    {
     "data": {
      "text/plain": [
       "' Applichiamo alle variabili di tipo categoriale il OneHotEncoding '"
      ]
     },
     "execution_count": 387,
     "metadata": {},
     "output_type": "execute_result"
    }
   ],
   "source": [
    "# Cambio struttura del data set -> OneHotEncoding \n",
    "from sklearn.preprocessing import OneHotEncoder\n",
    "from sklearn.compose import make_column_transformer\n",
    "\n",
    "transformer = make_column_transformer(\n",
    "    (OneHotEncoder(drop='first', sparse=False), ['Pclass', 'Sex', 'Embarked']),\n",
    "    remainder='passthrough')\n",
    "\n",
    "transformed = transformer.fit_transform(data)\n",
    "transformed_data = pd.DataFrame(\n",
    "    transformed, \n",
    "    columns=transformer.get_feature_names_out()\n",
    ")\n",
    "\n",
    "''' Applichiamo alle variabili di tipo categoriale il OneHotEncoding '''"
   ]
  },
  {
   "cell_type": "code",
   "execution_count": 388,
   "id": "47346301",
   "metadata": {},
   "outputs": [
    {
     "data": {
      "text/plain": [
       "' Per evitare la trappola delle variabili dummy bisogna inserire nel modello un numero di dummy\\n    che è sempre pari a uno in meno rispetto ai vari livelli che la variabile categoriale in esame\\n    assume. Questo è importate per evitare il problema della multicollinearità. '"
      ]
     },
     "execution_count": 388,
     "metadata": {},
     "output_type": "execute_result"
    }
   ],
   "source": [
    "transformed_data # Pclass1, Female, EmbarkedC -> Baseline\n",
    "\n",
    "''' Per evitare la trappola delle variabili dummy bisogna inserire nel modello un numero di dummy\n",
    "    che è sempre pari a uno in meno rispetto ai vari livelli che la variabile categoriale in esame\n",
    "    assume. Questo è importate per evitare il problema della multicollinearità. '''"
   ]
  },
  {
   "cell_type": "code",
   "execution_count": 389,
   "id": "5dfb9e86",
   "metadata": {},
   "outputs": [
    {
     "data": {
      "text/plain": [
       "(889, 10)"
      ]
     },
     "execution_count": 389,
     "metadata": {},
     "output_type": "execute_result"
    }
   ],
   "source": [
    "# Nuove dimensioni del data set\n",
    "transformed_data.shape"
   ]
  },
  {
   "cell_type": "code",
   "execution_count": 390,
   "id": "fe3af0ea",
   "metadata": {},
   "outputs": [
    {
     "data": {
      "text/plain": [
       "array(['onehotencoder__Pclass_2', 'onehotencoder__Pclass_3',\n",
       "       'onehotencoder__Sex_male', 'onehotencoder__Embarked_Q',\n",
       "       'onehotencoder__Embarked_S', 'remainder__Survived',\n",
       "       'remainder__Age', 'remainder__SibSp', 'remainder__Parch',\n",
       "       'remainder__Fare'], dtype=object)"
      ]
     },
     "execution_count": 390,
     "metadata": {},
     "output_type": "execute_result"
    }
   ],
   "source": [
    "# Colonne del data set trasformato\n",
    "transformed_data.columns.values"
   ]
  },
  {
   "cell_type": "code",
   "execution_count": 391,
   "id": "9b17fa08",
   "metadata": {},
   "outputs": [],
   "source": [
    "# Rinominiamo le colonne del data set\n",
    "transformed_data.columns = ['Passenger Class2', 'Passenger Class3', 'Male',\n",
    "                           'Port_of_Embarkation_Q', 'Port_of_Embarkation_S', 'Survived', 'Age', 'SibSp', 'Parch', 'Fare']"
   ]
  },
  {
   "cell_type": "code",
   "execution_count": 392,
   "id": "17fe7a6c",
   "metadata": {},
   "outputs": [
    {
     "data": {
      "text/plain": [
       "array(['Passenger Class2', 'Passenger Class3', 'Male',\n",
       "       'Port_of_Embarkation_Q', 'Port_of_Embarkation_S', 'Survived',\n",
       "       'Age', 'SibSp', 'Parch', 'Fare'], dtype=object)"
      ]
     },
     "execution_count": 392,
     "metadata": {},
     "output_type": "execute_result"
    }
   ],
   "source": [
    "transformed_data.columns.values # Nuovi nomi delle colonne"
   ]
  },
  {
   "cell_type": "code",
   "execution_count": 393,
   "id": "80b3630a",
   "metadata": {},
   "outputs": [
    {
     "data": {
      "text/html": [
       "<div>\n",
       "<style scoped>\n",
       "    .dataframe tbody tr th:only-of-type {\n",
       "        vertical-align: middle;\n",
       "    }\n",
       "\n",
       "    .dataframe tbody tr th {\n",
       "        vertical-align: top;\n",
       "    }\n",
       "\n",
       "    .dataframe thead th {\n",
       "        text-align: right;\n",
       "    }\n",
       "</style>\n",
       "<table border=\"1\" class=\"dataframe\">\n",
       "  <thead>\n",
       "    <tr style=\"text-align: right;\">\n",
       "      <th></th>\n",
       "      <th>Passenger Class2</th>\n",
       "      <th>Passenger Class3</th>\n",
       "      <th>Male</th>\n",
       "      <th>Port_of_Embarkation_Q</th>\n",
       "      <th>Port_of_Embarkation_S</th>\n",
       "      <th>Survived</th>\n",
       "      <th>Age</th>\n",
       "      <th>SibSp</th>\n",
       "      <th>Parch</th>\n",
       "      <th>Fare</th>\n",
       "    </tr>\n",
       "  </thead>\n",
       "  <tbody>\n",
       "    <tr>\n",
       "      <th>0</th>\n",
       "      <td>0.0</td>\n",
       "      <td>1.0</td>\n",
       "      <td>1.0</td>\n",
       "      <td>0.0</td>\n",
       "      <td>1.0</td>\n",
       "      <td>0.0</td>\n",
       "      <td>22.0</td>\n",
       "      <td>1.0</td>\n",
       "      <td>0.0</td>\n",
       "      <td>7.2500</td>\n",
       "    </tr>\n",
       "    <tr>\n",
       "      <th>1</th>\n",
       "      <td>0.0</td>\n",
       "      <td>0.0</td>\n",
       "      <td>0.0</td>\n",
       "      <td>0.0</td>\n",
       "      <td>0.0</td>\n",
       "      <td>1.0</td>\n",
       "      <td>38.0</td>\n",
       "      <td>1.0</td>\n",
       "      <td>0.0</td>\n",
       "      <td>71.2833</td>\n",
       "    </tr>\n",
       "    <tr>\n",
       "      <th>2</th>\n",
       "      <td>0.0</td>\n",
       "      <td>1.0</td>\n",
       "      <td>0.0</td>\n",
       "      <td>0.0</td>\n",
       "      <td>1.0</td>\n",
       "      <td>1.0</td>\n",
       "      <td>26.0</td>\n",
       "      <td>0.0</td>\n",
       "      <td>0.0</td>\n",
       "      <td>7.9250</td>\n",
       "    </tr>\n",
       "    <tr>\n",
       "      <th>3</th>\n",
       "      <td>0.0</td>\n",
       "      <td>0.0</td>\n",
       "      <td>0.0</td>\n",
       "      <td>0.0</td>\n",
       "      <td>1.0</td>\n",
       "      <td>1.0</td>\n",
       "      <td>35.0</td>\n",
       "      <td>1.0</td>\n",
       "      <td>0.0</td>\n",
       "      <td>53.1000</td>\n",
       "    </tr>\n",
       "    <tr>\n",
       "      <th>4</th>\n",
       "      <td>0.0</td>\n",
       "      <td>1.0</td>\n",
       "      <td>1.0</td>\n",
       "      <td>0.0</td>\n",
       "      <td>1.0</td>\n",
       "      <td>0.0</td>\n",
       "      <td>35.0</td>\n",
       "      <td>0.0</td>\n",
       "      <td>0.0</td>\n",
       "      <td>8.0500</td>\n",
       "    </tr>\n",
       "    <tr>\n",
       "      <th>...</th>\n",
       "      <td>...</td>\n",
       "      <td>...</td>\n",
       "      <td>...</td>\n",
       "      <td>...</td>\n",
       "      <td>...</td>\n",
       "      <td>...</td>\n",
       "      <td>...</td>\n",
       "      <td>...</td>\n",
       "      <td>...</td>\n",
       "      <td>...</td>\n",
       "    </tr>\n",
       "    <tr>\n",
       "      <th>884</th>\n",
       "      <td>1.0</td>\n",
       "      <td>0.0</td>\n",
       "      <td>1.0</td>\n",
       "      <td>0.0</td>\n",
       "      <td>1.0</td>\n",
       "      <td>0.0</td>\n",
       "      <td>27.0</td>\n",
       "      <td>0.0</td>\n",
       "      <td>0.0</td>\n",
       "      <td>13.0000</td>\n",
       "    </tr>\n",
       "    <tr>\n",
       "      <th>885</th>\n",
       "      <td>0.0</td>\n",
       "      <td>0.0</td>\n",
       "      <td>0.0</td>\n",
       "      <td>0.0</td>\n",
       "      <td>1.0</td>\n",
       "      <td>1.0</td>\n",
       "      <td>19.0</td>\n",
       "      <td>0.0</td>\n",
       "      <td>0.0</td>\n",
       "      <td>30.0000</td>\n",
       "    </tr>\n",
       "    <tr>\n",
       "      <th>886</th>\n",
       "      <td>0.0</td>\n",
       "      <td>1.0</td>\n",
       "      <td>0.0</td>\n",
       "      <td>0.0</td>\n",
       "      <td>1.0</td>\n",
       "      <td>0.0</td>\n",
       "      <td>28.0</td>\n",
       "      <td>1.0</td>\n",
       "      <td>2.0</td>\n",
       "      <td>23.4500</td>\n",
       "    </tr>\n",
       "    <tr>\n",
       "      <th>887</th>\n",
       "      <td>0.0</td>\n",
       "      <td>0.0</td>\n",
       "      <td>1.0</td>\n",
       "      <td>0.0</td>\n",
       "      <td>0.0</td>\n",
       "      <td>1.0</td>\n",
       "      <td>26.0</td>\n",
       "      <td>0.0</td>\n",
       "      <td>0.0</td>\n",
       "      <td>30.0000</td>\n",
       "    </tr>\n",
       "    <tr>\n",
       "      <th>888</th>\n",
       "      <td>0.0</td>\n",
       "      <td>1.0</td>\n",
       "      <td>1.0</td>\n",
       "      <td>1.0</td>\n",
       "      <td>0.0</td>\n",
       "      <td>0.0</td>\n",
       "      <td>32.0</td>\n",
       "      <td>0.0</td>\n",
       "      <td>0.0</td>\n",
       "      <td>7.7500</td>\n",
       "    </tr>\n",
       "  </tbody>\n",
       "</table>\n",
       "<p>889 rows × 10 columns</p>\n",
       "</div>"
      ],
      "text/plain": [
       "     Passenger Class2  Passenger Class3  Male  Port_of_Embarkation_Q  \\\n",
       "0                 0.0               1.0   1.0                    0.0   \n",
       "1                 0.0               0.0   0.0                    0.0   \n",
       "2                 0.0               1.0   0.0                    0.0   \n",
       "3                 0.0               0.0   0.0                    0.0   \n",
       "4                 0.0               1.0   1.0                    0.0   \n",
       "..                ...               ...   ...                    ...   \n",
       "884               1.0               0.0   1.0                    0.0   \n",
       "885               0.0               0.0   0.0                    0.0   \n",
       "886               0.0               1.0   0.0                    0.0   \n",
       "887               0.0               0.0   1.0                    0.0   \n",
       "888               0.0               1.0   1.0                    1.0   \n",
       "\n",
       "     Port_of_Embarkation_S  Survived   Age  SibSp  Parch     Fare  \n",
       "0                      1.0       0.0  22.0    1.0    0.0   7.2500  \n",
       "1                      0.0       1.0  38.0    1.0    0.0  71.2833  \n",
       "2                      1.0       1.0  26.0    0.0    0.0   7.9250  \n",
       "3                      1.0       1.0  35.0    1.0    0.0  53.1000  \n",
       "4                      1.0       0.0  35.0    0.0    0.0   8.0500  \n",
       "..                     ...       ...   ...    ...    ...      ...  \n",
       "884                    1.0       0.0  27.0    0.0    0.0  13.0000  \n",
       "885                    1.0       1.0  19.0    0.0    0.0  30.0000  \n",
       "886                    1.0       0.0  28.0    1.0    2.0  23.4500  \n",
       "887                    0.0       1.0  26.0    0.0    0.0  30.0000  \n",
       "888                    0.0       0.0  32.0    0.0    0.0   7.7500  \n",
       "\n",
       "[889 rows x 10 columns]"
      ]
     },
     "execution_count": 393,
     "metadata": {},
     "output_type": "execute_result"
    }
   ],
   "source": [
    "transformed_data # display data set "
   ]
  },
  {
   "cell_type": "code",
   "execution_count": 394,
   "id": "4423cc95",
   "metadata": {},
   "outputs": [
    {
     "data": {
      "text/plain": [
       "Passenger Class2         0\n",
       "Passenger Class3         0\n",
       "Male                     0\n",
       "Port_of_Embarkation_Q    0\n",
       "Port_of_Embarkation_S    0\n",
       "Survived                 0\n",
       "Age                      0\n",
       "SibSp                    0\n",
       "Parch                    0\n",
       "Fare                     0\n",
       "dtype: int64"
      ]
     },
     "execution_count": 394,
     "metadata": {},
     "output_type": "execute_result"
    }
   ],
   "source": [
    "transformed_data.isnull().sum()"
   ]
  },
  {
   "cell_type": "code",
   "execution_count": 395,
   "id": "252a4636",
   "metadata": {},
   "outputs": [
    {
     "name": "stdout",
     "output_type": "stream",
     "text": [
      "<class 'pandas.core.frame.DataFrame'>\n",
      "RangeIndex: 889 entries, 0 to 888\n",
      "Data columns (total 10 columns):\n",
      " #   Column                 Non-Null Count  Dtype  \n",
      "---  ------                 --------------  -----  \n",
      " 0   Passenger Class2       889 non-null    float64\n",
      " 1   Passenger Class3       889 non-null    float64\n",
      " 2   Male                   889 non-null    float64\n",
      " 3   Port_of_Embarkation_Q  889 non-null    float64\n",
      " 4   Port_of_Embarkation_S  889 non-null    float64\n",
      " 5   Survived               889 non-null    float64\n",
      " 6   Age                    889 non-null    float64\n",
      " 7   SibSp                  889 non-null    float64\n",
      " 8   Parch                  889 non-null    float64\n",
      " 9   Fare                   889 non-null    float64\n",
      "dtypes: float64(10)\n",
      "memory usage: 69.6 KB\n"
     ]
    }
   ],
   "source": [
    "transformed_data.info()"
   ]
  },
  {
   "cell_type": "code",
   "execution_count": 396,
   "id": "92723119",
   "metadata": {},
   "outputs": [],
   "source": [
    "# Split data in Train and Test set \n",
    "features = ['Passenger Class2','Passenger Class3', 'Male', 'Port_of_Embarkation_Q', 'Port_of_Embarkation_S',\n",
    "           'Age', 'SibSp', 'Parch', 'Fare']\n",
    "\n",
    "X = transformed_data.loc[:, features]  \n",
    "\n",
    "y = transformed_data.loc[:, ['Survived']] "
   ]
  },
  {
   "cell_type": "code",
   "execution_count": 397,
   "id": "105a7ba0",
   "metadata": {},
   "outputs": [
    {
     "data": {
      "text/plain": [
       "' Dividiamo il data set in Train and Test set. Il train set è composto dall’75%\\n    delle osservazioni totali, mentre il test set è composto dall’25% delle osservazioni rimanenti. '"
      ]
     },
     "execution_count": 397,
     "metadata": {},
     "output_type": "execute_result"
    }
   ],
   "source": [
    "from sklearn.model_selection import train_test_split\n",
    "X_train, X_test, y_train, y_test = train_test_split(X, y, random_state=0, train_size = .75)\n",
    "\n",
    "''' Dividiamo il data set in Train and Test set. Il train set è composto dall’75%\n",
    "    delle osservazioni totali, mentre il test set è composto dall’25% delle osservazioni rimanenti. '''"
   ]
  },
  {
   "cell_type": "code",
   "execution_count": 398,
   "id": "9fcd2823",
   "metadata": {},
   "outputs": [
    {
     "data": {
      "text/plain": [
       "' Standardizziamo le colonne numeriche Age e Fare '"
      ]
     },
     "execution_count": 398,
     "metadata": {},
     "output_type": "execute_result"
    }
   ],
   "source": [
    "# Standardization\n",
    "from sklearn.preprocessing import StandardScaler\n",
    "X_train[['Age', 'Fare']] = StandardScaler().fit_transform(X_train[['Age', 'Fare']])\n",
    "X_test[['Age', 'Fare']] = StandardScaler().fit_transform(X_test[['Age', 'Fare']])\n",
    "\n",
    "''' Standardizziamo le colonne numeriche Age e Fare '''"
   ]
  },
  {
   "cell_type": "code",
   "execution_count": 399,
   "id": "be41c76d",
   "metadata": {},
   "outputs": [],
   "source": [
    "# Models "
   ]
  },
  {
   "cell_type": "code",
   "execution_count": 400,
   "id": "3a61101d",
   "metadata": {},
   "outputs": [
    {
     "data": {
      "text/plain": [
       "' Addestriamo il modello KNN con K = 5 sui dati di training '"
      ]
     },
     "execution_count": 400,
     "metadata": {},
     "output_type": "execute_result"
    }
   ],
   "source": [
    "# KNN -> K = 5 Train set\n",
    "from sklearn import neighbors\n",
    "knn_5 = neighbors.KNeighborsClassifier(n_neighbors=5)\n",
    "knn_5.fit(X_train, y_train.values.ravel())\n",
    "\n",
    "''' Addestriamo il modello KNN con K = 5 sui dati di training '''"
   ]
  },
  {
   "cell_type": "code",
   "execution_count": 401,
   "id": "20fd1ae3",
   "metadata": {},
   "outputs": [
    {
     "data": {
      "text/plain": [
       "' Addestriamo il modello KNN con K = 10 sui dati di training '"
      ]
     },
     "execution_count": 401,
     "metadata": {},
     "output_type": "execute_result"
    }
   ],
   "source": [
    "# KNN -> K = 10 Train set\n",
    "knn_10 = neighbors.KNeighborsClassifier(n_neighbors=10)\n",
    "knn_10.fit(X_train, y_train.values.ravel())\n",
    "\n",
    "''' Addestriamo il modello KNN con K = 10 sui dati di training '''"
   ]
  },
  {
   "cell_type": "code",
   "execution_count": 402,
   "id": "31a41bc5",
   "metadata": {},
   "outputs": [],
   "source": [
    "# Predict on Test set"
   ]
  },
  {
   "cell_type": "code",
   "execution_count": 403,
   "id": "e316ad84",
   "metadata": {},
   "outputs": [
    {
     "data": {
      "text/plain": [
       "' Previsione sui dati di test utilizzando il modello knn con k = 5 addestrato in precedenza sui dati di training '"
      ]
     },
     "execution_count": 403,
     "metadata": {},
     "output_type": "execute_result"
    }
   ],
   "source": [
    "knn_5.predict(X_test) \n",
    "\n",
    "''' Previsione sui dati di test utilizzando il modello knn con k = 5 addestrato in precedenza sui dati di training '''"
   ]
  },
  {
   "cell_type": "code",
   "execution_count": 404,
   "id": "53f9583b",
   "metadata": {},
   "outputs": [
    {
     "data": {
      "text/plain": [
       "' Previsione sui dati di test utilizzando il modello knn con k = 10 addestrato in precedenza sui dati di training '"
      ]
     },
     "execution_count": 404,
     "metadata": {},
     "output_type": "execute_result"
    }
   ],
   "source": [
    "knn_10.predict(X_test)\n",
    "\n",
    "\n",
    "''' Previsione sui dati di test utilizzando il modello knn con k = 10 addestrato in precedenza sui dati di training '''"
   ]
  },
  {
   "cell_type": "code",
   "execution_count": 405,
   "id": "221dee37",
   "metadata": {},
   "outputs": [
    {
     "data": {
      "text/plain": [
       "\" L'accuratezza è pari all'75%. 75 volte su 100 classifichiamo correttamente le osservazioni del test set \""
      ]
     },
     "execution_count": 405,
     "metadata": {},
     "output_type": "execute_result"
    }
   ],
   "source": [
    "# Accuracy Score Test set KNN -> K = 5 \n",
    "round(knn_5.score(X_test, y_test),2) # 75 % Accuracy \n",
    "\n",
    "''' L'accuratezza è pari all'75%. 75 volte su 100 classifichiamo correttamente le osservazioni del test set '''"
   ]
  },
  {
   "cell_type": "code",
   "execution_count": 406,
   "id": "9415c208",
   "metadata": {},
   "outputs": [],
   "source": [
    "# Confusion Matrix KNN -> K = 5 on Test set"
   ]
  },
  {
   "cell_type": "code",
   "execution_count": 407,
   "id": "4b29c812",
   "metadata": {},
   "outputs": [
    {
     "data": {
      "image/png": "[encoded data removed]",
      "text/plain": [
       "<Figure size 432x288 with 2 Axes>"
      ]
     },
     "metadata": {
      "needs_background": "light"
     },
     "output_type": "display_data"
    },
    {
     "data": {
      "text/plain": [
       "' 110 -> TRUE NEGATIVE(Veri negativi) -> Persone non sopravvisute correttamente classificate\\n    58  -> TRUE POSITIVE(Veri positivi) -> Persone sopravvisute correttamente classificate\\n    22  -> FALSE POSITIVE(Falsi positivi) -> Persone classificate come sopravvisute, ma in realtà esse\\n    sono non sopravvisute\\n    33  -> FALSE NEGATIVE(Falsi negativi) -> Persone classificate come non sopravvisute, ma in realtà esse\\n    sono sopravvisute. '"
      ]
     },
     "execution_count": 407,
     "metadata": {},
     "output_type": "execute_result"
    }
   ],
   "source": [
    "from sklearn.metrics import confusion_matrix, ConfusionMatrixDisplay\n",
    "cm = confusion_matrix(y_test, knn_5.predict(X_test), labels=knn_5.classes_)\n",
    "disp = ConfusionMatrixDisplay(confusion_matrix=cm,\n",
    "                               display_labels=knn_5.classes_)\n",
    "disp.plot()\n",
    "plt.show()\n",
    "\n",
    "\n",
    "''' 110 -> TRUE NEGATIVE(Veri negativi) -> Persone non sopravvisute correttamente classificate\n",
    "    58  -> TRUE POSITIVE(Veri positivi) -> Persone sopravvisute correttamente classificate\n",
    "    22  -> FALSE POSITIVE(Falsi positivi) -> Persone classificate come sopravvisute, ma in realtà esse\n",
    "    sono non sopravvisute\n",
    "    33  -> FALSE NEGATIVE(Falsi negativi) -> Persone classificate come non sopravvisute, ma in realtà esse\n",
    "    sono sopravvisute. ''' "
   ]
  },
  {
   "cell_type": "code",
   "execution_count": 408,
   "id": "d927dcb9",
   "metadata": {},
   "outputs": [],
   "source": [
    "# Classification Report KNN -> K = 5 on Test set"
   ]
  },
  {
   "cell_type": "code",
   "execution_count": 409,
   "id": "0c932fea",
   "metadata": {},
   "outputs": [
    {
     "name": "stdout",
     "output_type": "stream",
     "text": [
      "              precision    recall  f1-score   support\n",
      "\n",
      "         0.0       0.77      0.83      0.80       132\n",
      "         1.0       0.72      0.64      0.68        91\n",
      "\n",
      "    accuracy                           0.75       223\n",
      "   macro avg       0.75      0.74      0.74       223\n",
      "weighted avg       0.75      0.75      0.75       223\n",
      "\n"
     ]
    },
    {
     "data": {
      "text/plain": [
       "' Precision(Precisione) = TRUE POSITIVE / (TRUE POSITIVE + FALSE POSITIVE)\\n    Recall(Sensitivity)   = TRUE POSITIVE / (TRUE POSITIVE + FALSE NEGATIVE)\\n    F1-Score              = 2 * ( (PRECISION * RECALL) / (PRECISION + RECALL) )'"
      ]
     },
     "execution_count": 409,
     "metadata": {},
     "output_type": "execute_result"
    }
   ],
   "source": [
    "from sklearn.metrics import classification_report\n",
    "print(classification_report(y_test, knn_5.predict(X_test)))\n",
    "\n",
    "''' Precision(Precisione) = TRUE POSITIVE / (TRUE POSITIVE + FALSE POSITIVE)\n",
    "    Recall(Sensitivity)   = TRUE POSITIVE / (TRUE POSITIVE + FALSE NEGATIVE)\n",
    "    F1-Score              = 2 * ( (PRECISION * RECALL) / (PRECISION + RECALL) )'''"
   ]
  },
  {
   "cell_type": "code",
   "execution_count": 410,
   "id": "4929b125",
   "metadata": {},
   "outputs": [
    {
     "data": {
      "text/plain": [
       "\" L'accuratezza è pari all'77%. 77 volte su 100 classifichiamo correttamente le osservazioni del test set \""
      ]
     },
     "execution_count": 410,
     "metadata": {},
     "output_type": "execute_result"
    }
   ],
   "source": [
    "# Accuracy Score Test set KNN -> K = 10 \n",
    "round(knn_10.score(X_test, y_test),2) # 77 % Accuracy\n",
    "\n",
    "\n",
    "''' L'accuratezza è pari all'77%. 77 volte su 100 classifichiamo correttamente le osservazioni del test set '''"
   ]
  },
  {
   "cell_type": "code",
   "execution_count": 411,
   "id": "ceb05d5e",
   "metadata": {},
   "outputs": [],
   "source": [
    "# Confusion Matrix KNN -> K = 10 on Test set"
   ]
  },
  {
   "cell_type": "code",
   "execution_count": 412,
   "id": "f8502fb3",
   "metadata": {},
   "outputs": [
    {
     "data": {
      "image/png": "[encoded data removed]",
      "text/plain": [
       "<Figure size 432x288 with 2 Axes>"
      ]
     },
     "metadata": {
      "needs_background": "light"
     },
     "output_type": "display_data"
    },
    {
     "data": {
      "text/plain": [
       "' 119 -> TRUE NEGATIVE(Veri negativi) -> Persone non sopravvisute correttamente classificate\\n    52  -> TRUE POSITIVE(Veri positivi) -> Persone sopravvisute correttamente classificate\\n    13  -> FALSE POSITIVE(Falsi positivi) -> Persone classificate come sopravvisute, ma in realtà esse\\n    sono non sopravvisute\\n    39  -> FALSE NEGATIVE(Falsi negativi) -> Persone classificate come non sopravvisute, ma in realtà esse\\n    sono sopravvisute. '"
      ]
     },
     "execution_count": 412,
     "metadata": {},
     "output_type": "execute_result"
    }
   ],
   "source": [
    "\n",
    "from sklearn.metrics import confusion_matrix, ConfusionMatrixDisplay\n",
    "cm = confusion_matrix(y_test, knn_10.predict(X_test), labels=knn_10.classes_)\n",
    "disp = ConfusionMatrixDisplay(confusion_matrix=cm,\n",
    "                               display_labels=knn_10.classes_)\n",
    "disp.plot()\n",
    "plt.show()\n",
    "\n",
    "''' 119 -> TRUE NEGATIVE(Veri negativi) -> Persone non sopravvisute correttamente classificate\n",
    "    52  -> TRUE POSITIVE(Veri positivi) -> Persone sopravvisute correttamente classificate\n",
    "    13  -> FALSE POSITIVE(Falsi positivi) -> Persone classificate come sopravvisute, ma in realtà esse\n",
    "    sono non sopravvisute\n",
    "    39  -> FALSE NEGATIVE(Falsi negativi) -> Persone classificate come non sopravvisute, ma in realtà esse\n",
    "    sono sopravvisute. ''' "
   ]
  },
  {
   "cell_type": "code",
   "execution_count": 413,
   "id": "b5db32c6",
   "metadata": {},
   "outputs": [],
   "source": [
    "# Classification Report KNN -> K = 10 on Test set"
   ]
  },
  {
   "cell_type": "code",
   "execution_count": 414,
   "id": "b00cd157",
   "metadata": {},
   "outputs": [
    {
     "name": "stdout",
     "output_type": "stream",
     "text": [
      "              precision    recall  f1-score   support\n",
      "\n",
      "         0.0       0.75      0.90      0.82       132\n",
      "         1.0       0.80      0.57      0.67        91\n",
      "\n",
      "    accuracy                           0.77       223\n",
      "   macro avg       0.78      0.74      0.74       223\n",
      "weighted avg       0.77      0.77      0.76       223\n",
      "\n"
     ]
    },
    {
     "data": {
      "text/plain": [
       "' Precision(Precisione) = TRUE POSITIVE / (TRUE POSITIVE + FALSE POSITIVE)\\n    Recall(Sensitivity)   = TRUE POSITIVE / (TRUE POSITIVE + FALSE NEGATIVE)\\n    F1-Score              = 2 * ( (PRECISION * RECALL) / (PRECISION + RECALL) )'"
      ]
     },
     "execution_count": 414,
     "metadata": {},
     "output_type": "execute_result"
    }
   ],
   "source": [
    "print(classification_report(y_test, knn_10.predict(X_test)))\n",
    "\n",
    "''' Precision(Precisione) = TRUE POSITIVE / (TRUE POSITIVE + FALSE POSITIVE)\n",
    "    Recall(Sensitivity)   = TRUE POSITIVE / (TRUE POSITIVE + FALSE NEGATIVE)\n",
    "    F1-Score              = 2 * ( (PRECISION * RECALL) / (PRECISION + RECALL) )'''"
   ]
  },
  {
   "cell_type": "code",
   "execution_count": 415,
   "id": "513c6594",
   "metadata": {},
   "outputs": [],
   "source": [
    "# creating the Numpy array\n",
    "array = np.array([[0, 1, 1, 0, 1, 40, 0, 0, 31.0], [1, 0, 0, 1, 0, 20, 0, 0, 31],\n",
    "                 [0, 1, 1, 0, 1, 35, 1, 1, 7 ], \n",
    "                 [0, 0, 0, 1, 0, 15, 0, 0, 31]])\n",
    "  \n",
    "# creating a list of index names\n",
    "index_values = ['first', 'second', 'third', 'fourth']\n",
    "   \n",
    "# creating a list of column names\n",
    "column_values = ['Passenger Class2', 'Passenger Class3', 'Male',\n",
    "       'Port_of_Embarkation_Q', 'Port_of_Embarkation_S', 'Age', 'SibSp',\n",
    "       'Parch', 'Fare']\n",
    "  \n",
    "# creating the dataframe\n",
    "df = pd.DataFrame(data = array, \n",
    "                  index = index_values, \n",
    "                  columns = column_values)\n",
    "\n",
    "# First observation -> Pclass3 - Male - Port_of_Embarkation_S - 40 Age - 31 Fare\n",
    "# Second observation -> Pclass2- Female - Port_of_Embarkation_Q - 20 Age - 31 Fare  \n",
    "# Third observation -> Pclass3 - Male- Port_of_Embarkation_S - 35 Age - 1 SibSp - 1 Parch - 31 Fare\n",
    "# Fourth observation -> Pclass1 - Female - Port_of_Embarkation_Q - 15 Age - 31 Fare "
   ]
  },
  {
   "cell_type": "code",
   "execution_count": 416,
   "id": "8698970f",
   "metadata": {},
   "outputs": [
    {
     "data": {
      "text/html": [
       "<div>\n",
       "<style scoped>\n",
       "    .dataframe tbody tr th:only-of-type {\n",
       "        vertical-align: middle;\n",
       "    }\n",
       "\n",
       "    .dataframe tbody tr th {\n",
       "        vertical-align: top;\n",
       "    }\n",
       "\n",
       "    .dataframe thead th {\n",
       "        text-align: right;\n",
       "    }\n",
       "</style>\n",
       "<table border=\"1\" class=\"dataframe\">\n",
       "  <thead>\n",
       "    <tr style=\"text-align: right;\">\n",
       "      <th></th>\n",
       "      <th>Passenger Class2</th>\n",
       "      <th>Passenger Class3</th>\n",
       "      <th>Male</th>\n",
       "      <th>Port_of_Embarkation_Q</th>\n",
       "      <th>Port_of_Embarkation_S</th>\n",
       "      <th>Age</th>\n",
       "      <th>SibSp</th>\n",
       "      <th>Parch</th>\n",
       "      <th>Fare</th>\n",
       "    </tr>\n",
       "  </thead>\n",
       "  <tbody>\n",
       "    <tr>\n",
       "      <th>first</th>\n",
       "      <td>0.0</td>\n",
       "      <td>1.0</td>\n",
       "      <td>1.0</td>\n",
       "      <td>0.0</td>\n",
       "      <td>1.0</td>\n",
       "      <td>40.0</td>\n",
       "      <td>0.0</td>\n",
       "      <td>0.0</td>\n",
       "      <td>31.0</td>\n",
       "    </tr>\n",
       "    <tr>\n",
       "      <th>second</th>\n",
       "      <td>1.0</td>\n",
       "      <td>0.0</td>\n",
       "      <td>0.0</td>\n",
       "      <td>1.0</td>\n",
       "      <td>0.0</td>\n",
       "      <td>20.0</td>\n",
       "      <td>0.0</td>\n",
       "      <td>0.0</td>\n",
       "      <td>31.0</td>\n",
       "    </tr>\n",
       "    <tr>\n",
       "      <th>third</th>\n",
       "      <td>0.0</td>\n",
       "      <td>1.0</td>\n",
       "      <td>1.0</td>\n",
       "      <td>0.0</td>\n",
       "      <td>1.0</td>\n",
       "      <td>35.0</td>\n",
       "      <td>1.0</td>\n",
       "      <td>1.0</td>\n",
       "      <td>7.0</td>\n",
       "    </tr>\n",
       "    <tr>\n",
       "      <th>fourth</th>\n",
       "      <td>0.0</td>\n",
       "      <td>0.0</td>\n",
       "      <td>0.0</td>\n",
       "      <td>1.0</td>\n",
       "      <td>0.0</td>\n",
       "      <td>15.0</td>\n",
       "      <td>0.0</td>\n",
       "      <td>0.0</td>\n",
       "      <td>31.0</td>\n",
       "    </tr>\n",
       "  </tbody>\n",
       "</table>\n",
       "</div>"
      ],
      "text/plain": [
       "        Passenger Class2  Passenger Class3  Male  Port_of_Embarkation_Q  \\\n",
       "first                0.0               1.0   1.0                    0.0   \n",
       "second               1.0               0.0   0.0                    1.0   \n",
       "third                0.0               1.0   1.0                    0.0   \n",
       "fourth               0.0               0.0   0.0                    1.0   \n",
       "\n",
       "        Port_of_Embarkation_S   Age  SibSp  Parch  Fare  \n",
       "first                     1.0  40.0    0.0    0.0  31.0  \n",
       "second                    0.0  20.0    0.0    0.0  31.0  \n",
       "third                     1.0  35.0    1.0    1.0   7.0  \n",
       "fourth                    0.0  15.0    0.0    0.0  31.0  "
      ]
     },
     "execution_count": 416,
     "metadata": {},
     "output_type": "execute_result"
    }
   ],
   "source": [
    " df # display observations"
   ]
  },
  {
   "cell_type": "code",
   "execution_count": 417,
   "id": "4e5d52b7",
   "metadata": {},
   "outputs": [
    {
     "data": {
      "text/plain": [
       "array([1., 1., 0., 1.])"
      ]
     },
     "execution_count": 417,
     "metadata": {},
     "output_type": "execute_result"
    }
   ],
   "source": [
    "# Predict on df KNN -> K = 5\n",
    "knn_5.predict(df) # Survived, Survived, Not Survived, Survived"
   ]
  },
  {
   "cell_type": "code",
   "execution_count": 418,
   "id": "7cf7a38a",
   "metadata": {},
   "outputs": [
    {
     "data": {
      "text/plain": [
       "array([1., 1., 0., 1.])"
      ]
     },
     "execution_count": 418,
     "metadata": {},
     "output_type": "execute_result"
    }
   ],
   "source": [
    "# Predict on df KNN -> K = 10\n",
    "knn_10.predict(df) # Survived, Survived, Not Survived, Survived"
   ]
  },
  {
   "cell_type": "code",
   "execution_count": null,
   "id": "1d072f7f",
   "metadata": {},
   "outputs": [],
   "source": []
  },
  {
   "cell_type": "code",
   "execution_count": null,
   "id": "69345414",
   "metadata": {},
   "outputs": [],
   "source": []
  },
  {
   "cell_type": "code",
   "execution_count": null,
   "id": "5ab9b3cc",
   "metadata": {},
   "outputs": [],
   "source": []
  },
  {
   "cell_type": "code",
   "execution_count": null,
   "id": "078ee1c6",
   "metadata": {},
   "outputs": [],
   "source": []
  }
 ],
 "metadata": {
  "kernelspec": {
   "display_name": "Python 3 (ipykernel)",
   "language": "python",
   "name": "python3"
  },
  "language_info": {
   "codemirror_mode": {
    "name": "ipython",
    "version": 3
   },
   "file_extension": ".py",
   "mimetype": "text/x-python",
   "name": "python",
   "nbconvert_exporter": "python",
   "pygments_lexer": "ipython3",
   "version": "3.9.12"
  }
 },
 "nbformat": 4,
 "nbformat_minor": 5
}
