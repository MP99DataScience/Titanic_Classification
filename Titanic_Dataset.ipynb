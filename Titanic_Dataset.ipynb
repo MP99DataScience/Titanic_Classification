{
 "cells": [
  {
   "cell_type": "code",
   "execution_count": 547,
   "id": "f077baff",
   "metadata": {},
   "outputs": [],
   "source": [
    "import pandas as pd\n",
    "import matplotlib.pyplot as plt\n",
    "import seaborn as sns"
   ]
  },
  {
   "cell_type": "code",
   "execution_count": 548,
   "id": "d24fa694",
   "metadata": {},
   "outputs": [],
   "source": [
    "# Importo i dati \n",
    "data = pd.read_csv('C:/Users/massi/OneDrive/Desktop/Titanic.csv')"
   ]
  },
  {
   "cell_type": "code",
   "execution_count": 549,
   "id": "df35d2e1",
   "metadata": {},
   "outputs": [
    {
     "data": {
      "text/plain": [
       "(891, 13)"
      ]
     },
     "execution_count": 549,
     "metadata": {},
     "output_type": "execute_result"
    }
   ],
   "source": [
    "# Dimensioni del data set\n",
    "data.shape  # 891 osservazioni x 13 variabili"
   ]
  },
  {
   "cell_type": "code",
   "execution_count": 550,
   "id": "f0ca9391",
   "metadata": {},
   "outputs": [
    {
     "data": {
      "text/plain": [
       "array(['Unnamed: 0', 'PassengerId', 'Survived', 'Pclass', 'Name', 'Sex',\n",
       "       'Age', 'SibSp', 'Parch', 'Ticket', 'Fare', 'Cabin', 'Embarked'],\n",
       "      dtype=object)"
      ]
     },
     "execution_count": 550,
     "metadata": {},
     "output_type": "execute_result"
    }
   ],
   "source": [
    "# Nomi delle colonne\n",
    "data.columns.values"
   ]
  },
  {
   "cell_type": "code",
   "execution_count": 551,
   "id": "fc7e006d",
   "metadata": {},
   "outputs": [
    {
     "data": {
      "text/plain": [
       "0"
      ]
     },
     "execution_count": 551,
     "metadata": {},
     "output_type": "execute_result"
    }
   ],
   "source": [
    "# Controllo eventuali righe duplicate\n",
    "data.duplicated().sum()"
   ]
  },
  {
   "cell_type": "code",
   "execution_count": 552,
   "id": "63013811",
   "metadata": {},
   "outputs": [],
   "source": [
    "# Rimuovo la colonna Unnamed: 0\n",
    "data.drop('Unnamed: 0', inplace=True, axis=1)"
   ]
  },
  {
   "cell_type": "code",
   "execution_count": 553,
   "id": "9b0bfa5d",
   "metadata": {},
   "outputs": [],
   "source": [
    "# Rimuovo la colonna PassengerId\n",
    "data.drop('PassengerId', inplace=True, axis=1)"
   ]
  },
  {
   "cell_type": "code",
   "execution_count": 554,
   "id": "a6773dd3",
   "metadata": {},
   "outputs": [],
   "source": [
    "# Rimuovo la colonna Ticket\n",
    "data.drop('Ticket', inplace=True, axis=1)"
   ]
  },
  {
   "cell_type": "code",
   "execution_count": 555,
   "id": "c9043ace",
   "metadata": {},
   "outputs": [],
   "source": [
    "# Rimuovo la colonna Name\n",
    "data.drop('Name', inplace=True, axis=1)"
   ]
  },
  {
   "cell_type": "code",
   "execution_count": 556,
   "id": "25003520",
   "metadata": {},
   "outputs": [
    {
     "data": {
      "text/plain": [
       "(891, 9)"
      ]
     },
     "execution_count": 556,
     "metadata": {},
     "output_type": "execute_result"
    }
   ],
   "source": [
    "# Ricontrollo la dimensione del data set\n",
    "data.shape"
   ]
  },
  {
   "cell_type": "code",
   "execution_count": 557,
   "id": "60f408e2",
   "metadata": {},
   "outputs": [
    {
     "data": {
      "text/html": [
       "<div>\n",
       "<style scoped>\n",
       "    .dataframe tbody tr th:only-of-type {\n",
       "        vertical-align: middle;\n",
       "    }\n",
       "\n",
       "    .dataframe tbody tr th {\n",
       "        vertical-align: top;\n",
       "    }\n",
       "\n",
       "    .dataframe thead th {\n",
       "        text-align: right;\n",
       "    }\n",
       "</style>\n",
       "<table border=\"1\" class=\"dataframe\">\n",
       "  <thead>\n",
       "    <tr style=\"text-align: right;\">\n",
       "      <th></th>\n",
       "      <th>Survived</th>\n",
       "      <th>Pclass</th>\n",
       "      <th>Sex</th>\n",
       "      <th>Age</th>\n",
       "      <th>SibSp</th>\n",
       "      <th>Parch</th>\n",
       "      <th>Fare</th>\n",
       "      <th>Cabin</th>\n",
       "      <th>Embarked</th>\n",
       "    </tr>\n",
       "  </thead>\n",
       "  <tbody>\n",
       "    <tr>\n",
       "      <th>0</th>\n",
       "      <td>0</td>\n",
       "      <td>3</td>\n",
       "      <td>male</td>\n",
       "      <td>22.0</td>\n",
       "      <td>1</td>\n",
       "      <td>0</td>\n",
       "      <td>7.2500</td>\n",
       "      <td>NaN</td>\n",
       "      <td>S</td>\n",
       "    </tr>\n",
       "    <tr>\n",
       "      <th>1</th>\n",
       "      <td>1</td>\n",
       "      <td>1</td>\n",
       "      <td>female</td>\n",
       "      <td>38.0</td>\n",
       "      <td>1</td>\n",
       "      <td>0</td>\n",
       "      <td>71.2833</td>\n",
       "      <td>C85</td>\n",
       "      <td>C</td>\n",
       "    </tr>\n",
       "    <tr>\n",
       "      <th>2</th>\n",
       "      <td>1</td>\n",
       "      <td>3</td>\n",
       "      <td>female</td>\n",
       "      <td>26.0</td>\n",
       "      <td>0</td>\n",
       "      <td>0</td>\n",
       "      <td>7.9250</td>\n",
       "      <td>NaN</td>\n",
       "      <td>S</td>\n",
       "    </tr>\n",
       "    <tr>\n",
       "      <th>3</th>\n",
       "      <td>1</td>\n",
       "      <td>1</td>\n",
       "      <td>female</td>\n",
       "      <td>35.0</td>\n",
       "      <td>1</td>\n",
       "      <td>0</td>\n",
       "      <td>53.1000</td>\n",
       "      <td>C123</td>\n",
       "      <td>S</td>\n",
       "    </tr>\n",
       "    <tr>\n",
       "      <th>4</th>\n",
       "      <td>0</td>\n",
       "      <td>3</td>\n",
       "      <td>male</td>\n",
       "      <td>35.0</td>\n",
       "      <td>0</td>\n",
       "      <td>0</td>\n",
       "      <td>8.0500</td>\n",
       "      <td>NaN</td>\n",
       "      <td>S</td>\n",
       "    </tr>\n",
       "    <tr>\n",
       "      <th>...</th>\n",
       "      <td>...</td>\n",
       "      <td>...</td>\n",
       "      <td>...</td>\n",
       "      <td>...</td>\n",
       "      <td>...</td>\n",
       "      <td>...</td>\n",
       "      <td>...</td>\n",
       "      <td>...</td>\n",
       "      <td>...</td>\n",
       "    </tr>\n",
       "    <tr>\n",
       "      <th>886</th>\n",
       "      <td>0</td>\n",
       "      <td>2</td>\n",
       "      <td>male</td>\n",
       "      <td>27.0</td>\n",
       "      <td>0</td>\n",
       "      <td>0</td>\n",
       "      <td>13.0000</td>\n",
       "      <td>NaN</td>\n",
       "      <td>S</td>\n",
       "    </tr>\n",
       "    <tr>\n",
       "      <th>887</th>\n",
       "      <td>1</td>\n",
       "      <td>1</td>\n",
       "      <td>female</td>\n",
       "      <td>19.0</td>\n",
       "      <td>0</td>\n",
       "      <td>0</td>\n",
       "      <td>30.0000</td>\n",
       "      <td>B42</td>\n",
       "      <td>S</td>\n",
       "    </tr>\n",
       "    <tr>\n",
       "      <th>888</th>\n",
       "      <td>0</td>\n",
       "      <td>3</td>\n",
       "      <td>female</td>\n",
       "      <td>NaN</td>\n",
       "      <td>1</td>\n",
       "      <td>2</td>\n",
       "      <td>23.4500</td>\n",
       "      <td>NaN</td>\n",
       "      <td>S</td>\n",
       "    </tr>\n",
       "    <tr>\n",
       "      <th>889</th>\n",
       "      <td>1</td>\n",
       "      <td>1</td>\n",
       "      <td>male</td>\n",
       "      <td>26.0</td>\n",
       "      <td>0</td>\n",
       "      <td>0</td>\n",
       "      <td>30.0000</td>\n",
       "      <td>C148</td>\n",
       "      <td>C</td>\n",
       "    </tr>\n",
       "    <tr>\n",
       "      <th>890</th>\n",
       "      <td>0</td>\n",
       "      <td>3</td>\n",
       "      <td>male</td>\n",
       "      <td>32.0</td>\n",
       "      <td>0</td>\n",
       "      <td>0</td>\n",
       "      <td>7.7500</td>\n",
       "      <td>NaN</td>\n",
       "      <td>Q</td>\n",
       "    </tr>\n",
       "  </tbody>\n",
       "</table>\n",
       "<p>891 rows × 9 columns</p>\n",
       "</div>"
      ],
      "text/plain": [
       "     Survived  Pclass     Sex   Age  SibSp  Parch     Fare Cabin Embarked\n",
       "0           0       3    male  22.0      1      0   7.2500   NaN        S\n",
       "1           1       1  female  38.0      1      0  71.2833   C85        C\n",
       "2           1       3  female  26.0      0      0   7.9250   NaN        S\n",
       "3           1       1  female  35.0      1      0  53.1000  C123        S\n",
       "4           0       3    male  35.0      0      0   8.0500   NaN        S\n",
       "..        ...     ...     ...   ...    ...    ...      ...   ...      ...\n",
       "886         0       2    male  27.0      0      0  13.0000   NaN        S\n",
       "887         1       1  female  19.0      0      0  30.0000   B42        S\n",
       "888         0       3  female   NaN      1      2  23.4500   NaN        S\n",
       "889         1       1    male  26.0      0      0  30.0000  C148        C\n",
       "890         0       3    male  32.0      0      0   7.7500   NaN        Q\n",
       "\n",
       "[891 rows x 9 columns]"
      ]
     },
     "execution_count": 557,
     "metadata": {},
     "output_type": "execute_result"
    }
   ],
   "source": [
    "data # display data set"
   ]
  },
  {
   "cell_type": "code",
   "execution_count": 558,
   "id": "ec6969a9",
   "metadata": {},
   "outputs": [
    {
     "name": "stdout",
     "output_type": "stream",
     "text": [
      "<class 'pandas.core.frame.DataFrame'>\n",
      "RangeIndex: 891 entries, 0 to 890\n",
      "Data columns (total 9 columns):\n",
      " #   Column    Non-Null Count  Dtype  \n",
      "---  ------    --------------  -----  \n",
      " 0   Survived  891 non-null    int64  \n",
      " 1   Pclass    891 non-null    int64  \n",
      " 2   Sex       891 non-null    object \n",
      " 3   Age       714 non-null    float64\n",
      " 4   SibSp     891 non-null    int64  \n",
      " 5   Parch     891 non-null    int64  \n",
      " 6   Fare      891 non-null    float64\n",
      " 7   Cabin     204 non-null    object \n",
      " 8   Embarked  889 non-null    object \n",
      "dtypes: float64(2), int64(4), object(3)\n",
      "memory usage: 62.8+ KB\n"
     ]
    }
   ],
   "source": [
    "# Struttura del data set \n",
    "data.info()"
   ]
  },
  {
   "cell_type": "code",
   "execution_count": 559,
   "id": "42fe47bf",
   "metadata": {},
   "outputs": [
    {
     "data": {
      "text/plain": [
       "Survived      0\n",
       "Pclass        0\n",
       "Sex           0\n",
       "Age         177\n",
       "SibSp         0\n",
       "Parch         0\n",
       "Fare          0\n",
       "Cabin       687\n",
       "Embarked      2\n",
       "dtype: int64"
      ]
     },
     "execution_count": 559,
     "metadata": {},
     "output_type": "execute_result"
    }
   ],
   "source": [
    "# Controllo eventuali valori mancanti\n",
    "data.isnull().sum()"
   ]
  },
  {
   "cell_type": "code",
   "execution_count": 560,
   "id": "9155f552",
   "metadata": {},
   "outputs": [],
   "source": [
    "# Elimino la variabile Cabin \n",
    "data.drop('Cabin', inplace=True, axis=1)"
   ]
  },
  {
   "cell_type": "code",
   "execution_count": 561,
   "id": "d136d239",
   "metadata": {},
   "outputs": [],
   "source": [
    "# Elimino le due osservazioni in cui Embarked is null\n",
    "index = data[data['Embarked'].isnull()].index.tolist() # Indici\n",
    "data.drop(data.index[index], inplace=True)"
   ]
  },
  {
   "cell_type": "code",
   "execution_count": 562,
   "id": "5df22907",
   "metadata": {},
   "outputs": [],
   "source": [
    "# Metodo di imputazione per Age -> Mediana\n",
    "data['Age'] = data['Age'].fillna(data['Age'].median())"
   ]
  },
  {
   "cell_type": "code",
   "execution_count": 563,
   "id": "1bc4219e",
   "metadata": {},
   "outputs": [
    {
     "name": "stdout",
     "output_type": "stream",
     "text": [
      "Non sopravvisuti -> 61.75%, Sopravvisuti --> 38.25%.\n"
     ]
    }
   ],
   "source": [
    "# Data information and visualization\n",
    "not_survived = round((sum(data['Survived'] == 0) / data.shape[0]) * 100, 2) # Not Survived\n",
    "survived = round((sum(data['Survived'] == 1) / data.shape[0]) * 100, 2)  # Survived\n",
    "print(f\"Non sopravvisuti -> {not_survived}%, Sopravvisuti --> {survived}%.\")"
   ]
  },
  {
   "cell_type": "code",
   "execution_count": 564,
   "id": "22836b36",
   "metadata": {},
   "outputs": [
    {
     "data": {
      "text/plain": [
       "' Le donne sopravvisute presentano un conteggio maggiore rispetto agli uomini sopravvisuti, viceversa\\n    gli uomini non sopravvisuti presentano un conteggio maggiore rispetto alle donne non sopravvisute '"
      ]
     },
     "execution_count": 564,
     "metadata": {},
     "output_type": "execute_result"
    },
    {
     "data": {
      "image/png": "[encoded data removed]",
      "text/plain": [
       "<Figure size 432x288 with 1 Axes>"
      ]
     },
     "metadata": {
      "needs_background": "light"
     },
     "output_type": "display_data"
    }
   ],
   "source": [
    "# Survived vs Sex\n",
    "analytics_1 = data.groupby(['Survived','Sex']).size().reset_index(name='counts')\n",
    "sns.barplot(x='Sex',y='counts', hue='Survived',data = analytics_1)\n",
    "\n",
    "''' Le donne sopravvisute presentano un conteggio maggiore rispetto agli uomini sopravvisuti, viceversa\n",
    "    gli uomini non sopravvisuti presentano un conteggio maggiore rispetto alle donne non sopravvisute '''"
   ]
  },
  {
   "cell_type": "code",
   "execution_count": 565,
   "id": "b17d9636",
   "metadata": {},
   "outputs": [
    {
     "data": {
      "text/plain": [
       "' In terza classe si ha il conteggio maggiore relativo al numero di persone non sopravvisute, mentre in prima classe \\n    si ha il conteggio maggiore relativo al numero di persone sopravvisute '"
      ]
     },
     "execution_count": 565,
     "metadata": {},
     "output_type": "execute_result"
    },
    {
     "data": {
      "image/png": "[encoded data removed]",
      "text/plain": [
       "<Figure size 432x288 with 1 Axes>"
      ]
     },
     "metadata": {
      "needs_background": "light"
     },
     "output_type": "display_data"
    }
   ],
   "source": [
    "# Survived vs Pclass\n",
    "analytics_2 = data.groupby(['Survived', 'Pclass']).size().reset_index(name='counts')\n",
    "sns.barplot(x='Survived',y='counts', hue='Pclass',data = analytics_2)\n",
    "\n",
    "''' In terza classe si ha il conteggio maggiore relativo al numero di persone non sopravvisute, mentre in prima classe \n",
    "    si ha il conteggio maggiore relativo al numero di persone sopravvisute '''"
   ]
  },
  {
   "cell_type": "code",
   "execution_count": 566,
   "id": "0d7e3c16",
   "metadata": {},
   "outputs": [
    {
     "data": {
      "text/plain": [
       "count    889.000000\n",
       "mean      32.096681\n",
       "std       49.697504\n",
       "min        0.000000\n",
       "25%        7.895800\n",
       "50%       14.454200\n",
       "75%       31.000000\n",
       "max      512.329200\n",
       "Name: Fare, dtype: float64"
      ]
     },
     "execution_count": 566,
     "metadata": {},
     "output_type": "execute_result"
    }
   ],
   "source": [
    "# Fare  -> Descriptive statistics\n",
    "data['Fare'].describe() # Conteggio - Media - Deviazione Standard - Minimo - Quantile 25% - Mediana - Quantile 75% - Massimo\n"
   ]
  },
  {
   "cell_type": "code",
   "execution_count": 567,
   "id": "a8c2ee07",
   "metadata": {},
   "outputs": [
    {
     "data": {
      "text/plain": [
       "' In media la tariffa passeggera è pari a 32 dollari, mentre il valore mediano è pari a 14.45. Le tarfiffe più care presentano\\n    un valore superiore ai 31 dollari, mentre la più costosa è pari a 512 dollari. '"
      ]
     },
     "execution_count": 567,
     "metadata": {},
     "output_type": "execute_result"
    }
   ],
   "source": [
    "''' In media la tariffa passeggera è pari a 32 dollari, mentre il valore mediano è pari a 14.45. Le tarfiffe più care presentano\n",
    "    un valore superiore ai 31 dollari, mentre la più costosa è pari a 512 dollari. '''"
   ]
  },
  {
   "cell_type": "code",
   "execution_count": 568,
   "id": "61809a9e",
   "metadata": {},
   "outputs": [
    {
     "data": {
      "text/plain": [
       "' Le tariffe passeggere più costose riguardano la prima classe, con un valore mediano che si aggira intorno ai 60 dollari. '"
      ]
     },
     "execution_count": 568,
     "metadata": {},
     "output_type": "execute_result"
    },
    {
     "data": {
      "image/png": "[encoded data removed]",
      "text/plain": [
       "<Figure size 432x288 with 1 Axes>"
      ]
     },
     "metadata": {
      "needs_background": "light"
     },
     "output_type": "display_data"
    }
   ],
   "source": [
    "# Fare vs Pclass\n",
    "analytics_3 = data.groupby(['Pclass']).Fare.median().reset_index(name='Median')\n",
    "sns.barplot(x='Pclass', y ='Median', data=analytics_3 )\n",
    "\n",
    "''' Le tariffe passeggere più costose riguardano la prima classe, con un valore mediano che si aggira intorno ai 60 dollari. '''"
   ]
  },
  {
   "cell_type": "code",
   "execution_count": 569,
   "id": "1b6ba552",
   "metadata": {},
   "outputs": [
    {
     "data": {
      "text/html": [
       "<div>\n",
       "<style scoped>\n",
       "    .dataframe tbody tr th:only-of-type {\n",
       "        vertical-align: middle;\n",
       "    }\n",
       "\n",
       "    .dataframe tbody tr th {\n",
       "        vertical-align: top;\n",
       "    }\n",
       "\n",
       "    .dataframe thead th {\n",
       "        text-align: right;\n",
       "    }\n",
       "</style>\n",
       "<table border=\"1\" class=\"dataframe\">\n",
       "  <thead>\n",
       "    <tr style=\"text-align: right;\">\n",
       "      <th></th>\n",
       "      <th>Sex</th>\n",
       "      <th>Median</th>\n",
       "    </tr>\n",
       "  </thead>\n",
       "  <tbody>\n",
       "    <tr>\n",
       "      <th>0</th>\n",
       "      <td>female</td>\n",
       "      <td>23.0</td>\n",
       "    </tr>\n",
       "    <tr>\n",
       "      <th>1</th>\n",
       "      <td>male</td>\n",
       "      <td>10.5</td>\n",
       "    </tr>\n",
       "  </tbody>\n",
       "</table>\n",
       "</div>"
      ],
      "text/plain": [
       "      Sex  Median\n",
       "0  female    23.0\n",
       "1    male    10.5"
      ]
     },
     "execution_count": 569,
     "metadata": {},
     "output_type": "execute_result"
    }
   ],
   "source": [
    "# Fare vs Sex\n",
    "analytics_4 = data.groupby(['Sex']).Fare.median().reset_index(name='Median')\n",
    "analytics_4"
   ]
  },
  {
   "cell_type": "code",
   "execution_count": 570,
   "id": "806e67e2",
   "metadata": {},
   "outputs": [
    {
     "data": {
      "text/plain": [
       "' Medianamente la tariffa passeggera relativa al sesso femminile è più costosa, viceversa la tariffa passeggera relativa\\n    al sesso maschile è meno costosa. La mediana è robusta ad eventuali valori anomali, in questo caso tariffe passeggere\\n    molto elevate. '"
      ]
     },
     "execution_count": 570,
     "metadata": {},
     "output_type": "execute_result"
    }
   ],
   "source": [
    "''' Medianamente la tariffa passeggera relativa al sesso femminile è più costosa, viceversa la tariffa passeggera relativa\n",
    "    al sesso maschile è meno costosa. La mediana è robusta ad eventuali valori anomali, in questo caso tariffe passeggere\n",
    "    molto elevate. '''"
   ]
  },
  {
   "cell_type": "code",
   "execution_count": 571,
   "id": "790bb325",
   "metadata": {},
   "outputs": [
    {
     "data": {
      "text/plain": [
       "' Il grafico racchiude quanto detto in precedenza, le donne presentano una tariffa passeggera più elevata, e le tariffe \\n    passeggere sono più elevate per la prima classe. Le donne in prima classe presentano la tariffa passeggera più elevata'"
      ]
     },
     "execution_count": 571,
     "metadata": {},
     "output_type": "execute_result"
    },
    {
     "data": {
      "image/png": "[encoded data removed]",
      "text/plain": [
       "<Figure size 432x288 with 1 Axes>"
      ]
     },
     "metadata": {
      "needs_background": "light"
     },
     "output_type": "display_data"
    }
   ],
   "source": [
    "# Fare  vs Sex vs Pclass\n",
    "analytics_5 = data.groupby(['Sex','Pclass']).Fare.median().reset_index(name='Median')\n",
    "sns.barplot(x='Sex', y='Median', hue='Pclass', data=analytics_5)\n",
    "\n",
    "''' Il grafico racchiude quanto detto in precedenza, le donne presentano una tariffa passeggera più elevata, e le tariffe \n",
    "    passeggere sono più elevate per la prima classe. Le donne in prima classe presentano la tariffa passeggera più elevata'''"
   ]
  },
  {
   "cell_type": "code",
   "execution_count": 572,
   "id": "b8a672e4",
   "metadata": {},
   "outputs": [
    {
     "data": {
      "text/plain": [
       "' Medianamente la tariffa passeggera è più elevata per gli uomini e le donne che si sono imbaracti dal porto di Cherbourg\\n    in Normandia.'"
      ]
     },
     "execution_count": 572,
     "metadata": {},
     "output_type": "execute_result"
    },
    {
     "data": {
      "image/png": "[encoded data removed]",
      "text/plain": [
       "<Figure size 432x288 with 1 Axes>"
      ]
     },
     "metadata": {
      "needs_background": "light"
     },
     "output_type": "display_data"
    }
   ],
   "source": [
    "# Fare vs Embark\n",
    "analytics_6 = data.groupby(['Embarked']).Fare.median().reset_index(name='Median')\n",
    "sns.barplot(x='Embarked', y='Median', data=analytics_6)\n",
    "\n",
    "''' Medianamente la tariffa passeggera è più elevata per gli uomini e le donne che si sono imbaracti dal porto di Cherbourg\n",
    "    in Normandia.'''"
   ]
  },
  {
   "cell_type": "code",
   "execution_count": 573,
   "id": "a85a292d",
   "metadata": {},
   "outputs": [
    {
     "data": {
      "text/html": [
       "<style type=\"text/css\">\n",
       "#T_09eb9_row0_col0, #T_09eb9_row1_col1, #T_09eb9_row2_col2, #T_09eb9_row3_col3, #T_09eb9_row4_col4, #T_09eb9_row5_col5 {\n",
       "  background-color: #b40426;\n",
       "  color: #f1f1f1;\n",
       "}\n",
       "#T_09eb9_row0_col1, #T_09eb9_row2_col1 {\n",
       "  background-color: #6687ed;\n",
       "  color: #f1f1f1;\n",
       "}\n",
       "#T_09eb9_row0_col2 {\n",
       "  background-color: #7b9ff9;\n",
       "  color: #f1f1f1;\n",
       "}\n",
       "#T_09eb9_row0_col3, #T_09eb9_row1_col4 {\n",
       "  background-color: #6e90f2;\n",
       "  color: #f1f1f1;\n",
       "}\n",
       "#T_09eb9_row0_col4 {\n",
       "  background-color: #81a4fb;\n",
       "  color: #f1f1f1;\n",
       "}\n",
       "#T_09eb9_row0_col5 {\n",
       "  background-color: #e1dad6;\n",
       "  color: #000000;\n",
       "}\n",
       "#T_09eb9_row1_col0, #T_09eb9_row1_col2, #T_09eb9_row1_col5, #T_09eb9_row2_col3, #T_09eb9_row2_col4, #T_09eb9_row5_col1 {\n",
       "  background-color: #3b4cc0;\n",
       "  color: #f1f1f1;\n",
       "}\n",
       "#T_09eb9_row1_col3 {\n",
       "  background-color: #8fb1fe;\n",
       "  color: #000000;\n",
       "}\n",
       "#T_09eb9_row2_col0 {\n",
       "  background-color: #7a9df8;\n",
       "  color: #f1f1f1;\n",
       "}\n",
       "#T_09eb9_row2_col5 {\n",
       "  background-color: #c5d6f2;\n",
       "  color: #000000;\n",
       "}\n",
       "#T_09eb9_row3_col0 {\n",
       "  background-color: #84a7fc;\n",
       "  color: #f1f1f1;\n",
       "}\n",
       "#T_09eb9_row3_col1 {\n",
       "  background-color: #c3d5f4;\n",
       "  color: #000000;\n",
       "}\n",
       "#T_09eb9_row3_col2 {\n",
       "  background-color: #516ddb;\n",
       "  color: #f1f1f1;\n",
       "}\n",
       "#T_09eb9_row3_col4 {\n",
       "  background-color: #dddcdc;\n",
       "  color: #000000;\n",
       "}\n",
       "#T_09eb9_row3_col5 {\n",
       "  background-color: #d2dbe8;\n",
       "  color: #000000;\n",
       "}\n",
       "#T_09eb9_row4_col0 {\n",
       "  background-color: #a3c2fe;\n",
       "  color: #000000;\n",
       "}\n",
       "#T_09eb9_row4_col1 {\n",
       "  background-color: #b5cdfa;\n",
       "  color: #000000;\n",
       "}\n",
       "#T_09eb9_row4_col2 {\n",
       "  background-color: #6180e9;\n",
       "  color: #f1f1f1;\n",
       "}\n",
       "#T_09eb9_row4_col3 {\n",
       "  background-color: #e3d9d3;\n",
       "  color: #000000;\n",
       "}\n",
       "#T_09eb9_row4_col5 {\n",
       "  background-color: #dbdcde;\n",
       "  color: #000000;\n",
       "}\n",
       "#T_09eb9_row5_col0 {\n",
       "  background-color: #cdd9ec;\n",
       "  color: #000000;\n",
       "}\n",
       "#T_09eb9_row5_col2 {\n",
       "  background-color: #a6c4fe;\n",
       "  color: #000000;\n",
       "}\n",
       "#T_09eb9_row5_col3 {\n",
       "  background-color: #a5c3fe;\n",
       "  color: #000000;\n",
       "}\n",
       "#T_09eb9_row5_col4 {\n",
       "  background-color: #aac7fd;\n",
       "  color: #000000;\n",
       "}\n",
       "</style>\n",
       "<table id=\"T_09eb9\">\n",
       "  <thead>\n",
       "    <tr>\n",
       "      <th class=\"blank level0\" >&nbsp;</th>\n",
       "      <th id=\"T_09eb9_level0_col0\" class=\"col_heading level0 col0\" >Survived</th>\n",
       "      <th id=\"T_09eb9_level0_col1\" class=\"col_heading level0 col1\" >Pclass</th>\n",
       "      <th id=\"T_09eb9_level0_col2\" class=\"col_heading level0 col2\" >Age</th>\n",
       "      <th id=\"T_09eb9_level0_col3\" class=\"col_heading level0 col3\" >SibSp</th>\n",
       "      <th id=\"T_09eb9_level0_col4\" class=\"col_heading level0 col4\" >Parch</th>\n",
       "      <th id=\"T_09eb9_level0_col5\" class=\"col_heading level0 col5\" >Fare</th>\n",
       "    </tr>\n",
       "  </thead>\n",
       "  <tbody>\n",
       "    <tr>\n",
       "      <th id=\"T_09eb9_level0_row0\" class=\"row_heading level0 row0\" >Survived</th>\n",
       "      <td id=\"T_09eb9_row0_col0\" class=\"data row0 col0\" >1.000000</td>\n",
       "      <td id=\"T_09eb9_row0_col1\" class=\"data row0 col1\" >-0.335549</td>\n",
       "      <td id=\"T_09eb9_row0_col2\" class=\"data row0 col2\" >-0.069822</td>\n",
       "      <td id=\"T_09eb9_row0_col3\" class=\"data row0 col3\" >-0.034040</td>\n",
       "      <td id=\"T_09eb9_row0_col4\" class=\"data row0 col4\" >0.083151</td>\n",
       "      <td id=\"T_09eb9_row0_col5\" class=\"data row0 col5\" >0.255290</td>\n",
       "    </tr>\n",
       "    <tr>\n",
       "      <th id=\"T_09eb9_level0_row1\" class=\"row_heading level0 row1\" >Pclass</th>\n",
       "      <td id=\"T_09eb9_row1_col0\" class=\"data row1 col0\" >-0.335549</td>\n",
       "      <td id=\"T_09eb9_row1_col1\" class=\"data row1 col1\" >1.000000</td>\n",
       "      <td id=\"T_09eb9_row1_col2\" class=\"data row1 col2\" >-0.336512</td>\n",
       "      <td id=\"T_09eb9_row1_col3\" class=\"data row1 col3\" >0.081656</td>\n",
       "      <td id=\"T_09eb9_row1_col4\" class=\"data row1 col4\" >0.016824</td>\n",
       "      <td id=\"T_09eb9_row1_col5\" class=\"data row1 col5\" >-0.548193</td>\n",
       "    </tr>\n",
       "    <tr>\n",
       "      <th id=\"T_09eb9_level0_row2\" class=\"row_heading level0 row2\" >Age</th>\n",
       "      <td id=\"T_09eb9_row2_col0\" class=\"data row2 col0\" >-0.069822</td>\n",
       "      <td id=\"T_09eb9_row2_col1\" class=\"data row2 col1\" >-0.336512</td>\n",
       "      <td id=\"T_09eb9_row2_col2\" class=\"data row2 col2\" >1.000000</td>\n",
       "      <td id=\"T_09eb9_row2_col3\" class=\"data row2 col3\" >-0.232543</td>\n",
       "      <td id=\"T_09eb9_row2_col4\" class=\"data row2 col4\" >-0.171485</td>\n",
       "      <td id=\"T_09eb9_row2_col5\" class=\"data row2 col5\" >0.093707</td>\n",
       "    </tr>\n",
       "    <tr>\n",
       "      <th id=\"T_09eb9_level0_row3\" class=\"row_heading level0 row3\" >SibSp</th>\n",
       "      <td id=\"T_09eb9_row3_col0\" class=\"data row3 col0\" >-0.034040</td>\n",
       "      <td id=\"T_09eb9_row3_col1\" class=\"data row3 col1\" >0.081656</td>\n",
       "      <td id=\"T_09eb9_row3_col2\" class=\"data row3 col2\" >-0.232543</td>\n",
       "      <td id=\"T_09eb9_row3_col3\" class=\"data row3 col3\" >1.000000</td>\n",
       "      <td id=\"T_09eb9_row3_col4\" class=\"data row3 col4\" >0.414542</td>\n",
       "      <td id=\"T_09eb9_row3_col5\" class=\"data row3 col5\" >0.160887</td>\n",
       "    </tr>\n",
       "    <tr>\n",
       "      <th id=\"T_09eb9_level0_row4\" class=\"row_heading level0 row4\" >Parch</th>\n",
       "      <td id=\"T_09eb9_row4_col0\" class=\"data row4 col0\" >0.083151</td>\n",
       "      <td id=\"T_09eb9_row4_col1\" class=\"data row4 col1\" >0.016824</td>\n",
       "      <td id=\"T_09eb9_row4_col2\" class=\"data row4 col2\" >-0.171485</td>\n",
       "      <td id=\"T_09eb9_row4_col3\" class=\"data row4 col3\" >0.414542</td>\n",
       "      <td id=\"T_09eb9_row4_col4\" class=\"data row4 col4\" >1.000000</td>\n",
       "      <td id=\"T_09eb9_row4_col5\" class=\"data row4 col5\" >0.217532</td>\n",
       "    </tr>\n",
       "    <tr>\n",
       "      <th id=\"T_09eb9_level0_row5\" class=\"row_heading level0 row5\" >Fare</th>\n",
       "      <td id=\"T_09eb9_row5_col0\" class=\"data row5 col0\" >0.255290</td>\n",
       "      <td id=\"T_09eb9_row5_col1\" class=\"data row5 col1\" >-0.548193</td>\n",
       "      <td id=\"T_09eb9_row5_col2\" class=\"data row5 col2\" >0.093707</td>\n",
       "      <td id=\"T_09eb9_row5_col3\" class=\"data row5 col3\" >0.160887</td>\n",
       "      <td id=\"T_09eb9_row5_col4\" class=\"data row5 col4\" >0.217532</td>\n",
       "      <td id=\"T_09eb9_row5_col5\" class=\"data row5 col5\" >1.000000</td>\n",
       "    </tr>\n",
       "  </tbody>\n",
       "</table>\n"
      ],
      "text/plain": [
       "<pandas.io.formats.style.Styler at 0x1babc080d00>"
      ]
     },
     "execution_count": 573,
     "metadata": {},
     "output_type": "execute_result"
    }
   ],
   "source": [
    "# Correlation\n",
    "corr = data.corr()\n",
    "corr.style.background_gradient(cmap='coolwarm')"
   ]
  },
  {
   "cell_type": "code",
   "execution_count": 574,
   "id": "30762839",
   "metadata": {},
   "outputs": [
    {
     "data": {
      "text/plain": [
       "\" Le variabili Pclass e Fare presentano la correlazione più elevata, pari a -0.54. Il loro rapporto è \\n    inversamente proporzionale, infatti all'aumentare di Pclass, Fare diminuisce.  \""
      ]
     },
     "execution_count": 574,
     "metadata": {},
     "output_type": "execute_result"
    }
   ],
   "source": [
    "''' Le variabili Pclass e Fare presentano la correlazione più elevata, pari a -0.54. Il loro rapporto è \n",
    "    inversamente proporzionale, infatti all'aumentare di Pclass, Fare diminuisce.  '''"
   ]
  },
  {
   "cell_type": "code",
   "execution_count": 575,
   "id": "be565a09",
   "metadata": {},
   "outputs": [],
   "source": [
    "# Machine learning"
   ]
  },
  {
   "cell_type": "code",
   "execution_count": 576,
   "id": "5da27bef",
   "metadata": {},
   "outputs": [
    {
     "data": {
      "text/plain": [
       "' Applichiamo alle variabili di tipo categoriale il OneHotEncoding '"
      ]
     },
     "execution_count": 576,
     "metadata": {},
     "output_type": "execute_result"
    }
   ],
   "source": [
    "# Cambio struttura del data set -> OneHotEncoding \n",
    "from sklearn.preprocessing import OneHotEncoder\n",
    "from sklearn.compose import make_column_transformer\n",
    "\n",
    "transformer = make_column_transformer(\n",
    "    (OneHotEncoder(drop='first', sparse=False), ['Pclass', 'Sex', 'Embarked']),\n",
    "    remainder='passthrough')\n",
    "\n",
    "transformed = transformer.fit_transform(data)\n",
    "transformed_data = pd.DataFrame(\n",
    "    transformed, \n",
    "    columns=transformer.get_feature_names_out()\n",
    ")\n",
    "\n",
    "''' Applichiamo alle variabili di tipo categoriale il OneHotEncoding '''"
   ]
  },
  {
   "cell_type": "code",
   "execution_count": 577,
   "id": "47346301",
   "metadata": {},
   "outputs": [
    {
     "data": {
      "text/html": [
       "<div>\n",
       "<style scoped>\n",
       "    .dataframe tbody tr th:only-of-type {\n",
       "        vertical-align: middle;\n",
       "    }\n",
       "\n",
       "    .dataframe tbody tr th {\n",
       "        vertical-align: top;\n",
       "    }\n",
       "\n",
       "    .dataframe thead th {\n",
       "        text-align: right;\n",
       "    }\n",
       "</style>\n",
       "<table border=\"1\" class=\"dataframe\">\n",
       "  <thead>\n",
       "    <tr style=\"text-align: right;\">\n",
       "      <th></th>\n",
       "      <th>onehotencoder__Pclass_2</th>\n",
       "      <th>onehotencoder__Pclass_3</th>\n",
       "      <th>onehotencoder__Sex_male</th>\n",
       "      <th>onehotencoder__Embarked_Q</th>\n",
       "      <th>onehotencoder__Embarked_S</th>\n",
       "      <th>remainder__Survived</th>\n",
       "      <th>remainder__Age</th>\n",
       "      <th>remainder__SibSp</th>\n",
       "      <th>remainder__Parch</th>\n",
       "      <th>remainder__Fare</th>\n",
       "    </tr>\n",
       "  </thead>\n",
       "  <tbody>\n",
       "    <tr>\n",
       "      <th>0</th>\n",
       "      <td>0.0</td>\n",
       "      <td>1.0</td>\n",
       "      <td>1.0</td>\n",
       "      <td>0.0</td>\n",
       "      <td>1.0</td>\n",
       "      <td>0.0</td>\n",
       "      <td>22.0</td>\n",
       "      <td>1.0</td>\n",
       "      <td>0.0</td>\n",
       "      <td>7.2500</td>\n",
       "    </tr>\n",
       "    <tr>\n",
       "      <th>1</th>\n",
       "      <td>0.0</td>\n",
       "      <td>0.0</td>\n",
       "      <td>0.0</td>\n",
       "      <td>0.0</td>\n",
       "      <td>0.0</td>\n",
       "      <td>1.0</td>\n",
       "      <td>38.0</td>\n",
       "      <td>1.0</td>\n",
       "      <td>0.0</td>\n",
       "      <td>71.2833</td>\n",
       "    </tr>\n",
       "    <tr>\n",
       "      <th>2</th>\n",
       "      <td>0.0</td>\n",
       "      <td>1.0</td>\n",
       "      <td>0.0</td>\n",
       "      <td>0.0</td>\n",
       "      <td>1.0</td>\n",
       "      <td>1.0</td>\n",
       "      <td>26.0</td>\n",
       "      <td>0.0</td>\n",
       "      <td>0.0</td>\n",
       "      <td>7.9250</td>\n",
       "    </tr>\n",
       "    <tr>\n",
       "      <th>3</th>\n",
       "      <td>0.0</td>\n",
       "      <td>0.0</td>\n",
       "      <td>0.0</td>\n",
       "      <td>0.0</td>\n",
       "      <td>1.0</td>\n",
       "      <td>1.0</td>\n",
       "      <td>35.0</td>\n",
       "      <td>1.0</td>\n",
       "      <td>0.0</td>\n",
       "      <td>53.1000</td>\n",
       "    </tr>\n",
       "    <tr>\n",
       "      <th>4</th>\n",
       "      <td>0.0</td>\n",
       "      <td>1.0</td>\n",
       "      <td>1.0</td>\n",
       "      <td>0.0</td>\n",
       "      <td>1.0</td>\n",
       "      <td>0.0</td>\n",
       "      <td>35.0</td>\n",
       "      <td>0.0</td>\n",
       "      <td>0.0</td>\n",
       "      <td>8.0500</td>\n",
       "    </tr>\n",
       "    <tr>\n",
       "      <th>...</th>\n",
       "      <td>...</td>\n",
       "      <td>...</td>\n",
       "      <td>...</td>\n",
       "      <td>...</td>\n",
       "      <td>...</td>\n",
       "      <td>...</td>\n",
       "      <td>...</td>\n",
       "      <td>...</td>\n",
       "      <td>...</td>\n",
       "      <td>...</td>\n",
       "    </tr>\n",
       "    <tr>\n",
       "      <th>884</th>\n",
       "      <td>1.0</td>\n",
       "      <td>0.0</td>\n",
       "      <td>1.0</td>\n",
       "      <td>0.0</td>\n",
       "      <td>1.0</td>\n",
       "      <td>0.0</td>\n",
       "      <td>27.0</td>\n",
       "      <td>0.0</td>\n",
       "      <td>0.0</td>\n",
       "      <td>13.0000</td>\n",
       "    </tr>\n",
       "    <tr>\n",
       "      <th>885</th>\n",
       "      <td>0.0</td>\n",
       "      <td>0.0</td>\n",
       "      <td>0.0</td>\n",
       "      <td>0.0</td>\n",
       "      <td>1.0</td>\n",
       "      <td>1.0</td>\n",
       "      <td>19.0</td>\n",
       "      <td>0.0</td>\n",
       "      <td>0.0</td>\n",
       "      <td>30.0000</td>\n",
       "    </tr>\n",
       "    <tr>\n",
       "      <th>886</th>\n",
       "      <td>0.0</td>\n",
       "      <td>1.0</td>\n",
       "      <td>0.0</td>\n",
       "      <td>0.0</td>\n",
       "      <td>1.0</td>\n",
       "      <td>0.0</td>\n",
       "      <td>28.0</td>\n",
       "      <td>1.0</td>\n",
       "      <td>2.0</td>\n",
       "      <td>23.4500</td>\n",
       "    </tr>\n",
       "    <tr>\n",
       "      <th>887</th>\n",
       "      <td>0.0</td>\n",
       "      <td>0.0</td>\n",
       "      <td>1.0</td>\n",
       "      <td>0.0</td>\n",
       "      <td>0.0</td>\n",
       "      <td>1.0</td>\n",
       "      <td>26.0</td>\n",
       "      <td>0.0</td>\n",
       "      <td>0.0</td>\n",
       "      <td>30.0000</td>\n",
       "    </tr>\n",
       "    <tr>\n",
       "      <th>888</th>\n",
       "      <td>0.0</td>\n",
       "      <td>1.0</td>\n",
       "      <td>1.0</td>\n",
       "      <td>1.0</td>\n",
       "      <td>0.0</td>\n",
       "      <td>0.0</td>\n",
       "      <td>32.0</td>\n",
       "      <td>0.0</td>\n",
       "      <td>0.0</td>\n",
       "      <td>7.7500</td>\n",
       "    </tr>\n",
       "  </tbody>\n",
       "</table>\n",
       "<p>889 rows × 10 columns</p>\n",
       "</div>"
      ],
      "text/plain": [
       "     onehotencoder__Pclass_2  onehotencoder__Pclass_3  \\\n",
       "0                        0.0                      1.0   \n",
       "1                        0.0                      0.0   \n",
       "2                        0.0                      1.0   \n",
       "3                        0.0                      0.0   \n",
       "4                        0.0                      1.0   \n",
       "..                       ...                      ...   \n",
       "884                      1.0                      0.0   \n",
       "885                      0.0                      0.0   \n",
       "886                      0.0                      1.0   \n",
       "887                      0.0                      0.0   \n",
       "888                      0.0                      1.0   \n",
       "\n",
       "     onehotencoder__Sex_male  onehotencoder__Embarked_Q  \\\n",
       "0                        1.0                        0.0   \n",
       "1                        0.0                        0.0   \n",
       "2                        0.0                        0.0   \n",
       "3                        0.0                        0.0   \n",
       "4                        1.0                        0.0   \n",
       "..                       ...                        ...   \n",
       "884                      1.0                        0.0   \n",
       "885                      0.0                        0.0   \n",
       "886                      0.0                        0.0   \n",
       "887                      1.0                        0.0   \n",
       "888                      1.0                        1.0   \n",
       "\n",
       "     onehotencoder__Embarked_S  remainder__Survived  remainder__Age  \\\n",
       "0                          1.0                  0.0            22.0   \n",
       "1                          0.0                  1.0            38.0   \n",
       "2                          1.0                  1.0            26.0   \n",
       "3                          1.0                  1.0            35.0   \n",
       "4                          1.0                  0.0            35.0   \n",
       "..                         ...                  ...             ...   \n",
       "884                        1.0                  0.0            27.0   \n",
       "885                        1.0                  1.0            19.0   \n",
       "886                        1.0                  0.0            28.0   \n",
       "887                        0.0                  1.0            26.0   \n",
       "888                        0.0                  0.0            32.0   \n",
       "\n",
       "     remainder__SibSp  remainder__Parch  remainder__Fare  \n",
       "0                 1.0               0.0           7.2500  \n",
       "1                 1.0               0.0          71.2833  \n",
       "2                 0.0               0.0           7.9250  \n",
       "3                 1.0               0.0          53.1000  \n",
       "4                 0.0               0.0           8.0500  \n",
       "..                ...               ...              ...  \n",
       "884               0.0               0.0          13.0000  \n",
       "885               0.0               0.0          30.0000  \n",
       "886               1.0               2.0          23.4500  \n",
       "887               0.0               0.0          30.0000  \n",
       "888               0.0               0.0           7.7500  \n",
       "\n",
       "[889 rows x 10 columns]"
      ]
     },
     "execution_count": 577,
     "metadata": {},
     "output_type": "execute_result"
    }
   ],
   "source": [
    "transformed_data # Pclass1, Female, EmbarkedC -> Baseline"
   ]
  },
  {
   "cell_type": "code",
   "execution_count": 578,
   "id": "b66bc02d",
   "metadata": {},
   "outputs": [
    {
     "data": {
      "text/plain": [
       "' Per evitare la trappola delle variabili dummy bisogna inserire nel modello un numero di dummy\\n    che è sempre pari a uno in meno rispetto ai vari livelli che la variabile categoriale in esame\\n    assume. Questo è importate per evitare il problema della multicollinearità. '"
      ]
     },
     "execution_count": 578,
     "metadata": {},
     "output_type": "execute_result"
    }
   ],
   "source": [
    "''' Per evitare la trappola delle variabili dummy bisogna inserire nel modello un numero di dummy\n",
    "    che è sempre pari a uno in meno rispetto ai vari livelli che la variabile categoriale in esame\n",
    "    assume. Questo è importate per evitare il problema della multicollinearità. '''"
   ]
  },
  {
   "cell_type": "code",
   "execution_count": 579,
   "id": "5dfb9e86",
   "metadata": {},
   "outputs": [
    {
     "data": {
      "text/plain": [
       "(889, 10)"
      ]
     },
     "execution_count": 579,
     "metadata": {},
     "output_type": "execute_result"
    }
   ],
   "source": [
    "# Nuove dimensioni del data set\n",
    "transformed_data.shape"
   ]
  },
  {
   "cell_type": "code",
   "execution_count": 580,
   "id": "fe3af0ea",
   "metadata": {},
   "outputs": [
    {
     "data": {
      "text/plain": [
       "array(['onehotencoder__Pclass_2', 'onehotencoder__Pclass_3',\n",
       "       'onehotencoder__Sex_male', 'onehotencoder__Embarked_Q',\n",
       "       'onehotencoder__Embarked_S', 'remainder__Survived',\n",
       "       'remainder__Age', 'remainder__SibSp', 'remainder__Parch',\n",
       "       'remainder__Fare'], dtype=object)"
      ]
     },
     "execution_count": 580,
     "metadata": {},
     "output_type": "execute_result"
    }
   ],
   "source": [
    "# Colonne del data set trasformato\n",
    "transformed_data.columns.values"
   ]
  },
  {
   "cell_type": "code",
   "execution_count": 581,
   "id": "9b17fa08",
   "metadata": {},
   "outputs": [],
   "source": [
    "# Rinominiamo le colonne del data set\n",
    "transformed_data.columns = ['Passenger Class2', 'Passenger Class3', 'Male',\n",
    "                           'Port_of_Embarkation_Q', 'Port_of_Embarkation_S', 'Survived', 'Age', 'SibSp', 'Parch', 'Fare']"
   ]
  },
  {
   "cell_type": "code",
   "execution_count": 582,
   "id": "17fe7a6c",
   "metadata": {},
   "outputs": [
    {
     "data": {
      "text/plain": [
       "array(['Passenger Class2', 'Passenger Class3', 'Male',\n",
       "       'Port_of_Embarkation_Q', 'Port_of_Embarkation_S', 'Survived',\n",
       "       'Age', 'SibSp', 'Parch', 'Fare'], dtype=object)"
      ]
     },
     "execution_count": 582,
     "metadata": {},
     "output_type": "execute_result"
    }
   ],
   "source": [
    "transformed_data.columns.values # Nuovi nomi delle colonne"
   ]
  },
  {
   "cell_type": "code",
   "execution_count": 583,
   "id": "80b3630a",
   "metadata": {},
   "outputs": [
    {
     "data": {
      "text/html": [
       "<div>\n",
       "<style scoped>\n",
       "    .dataframe tbody tr th:only-of-type {\n",
       "        vertical-align: middle;\n",
       "    }\n",
       "\n",
       "    .dataframe tbody tr th {\n",
       "        vertical-align: top;\n",
       "    }\n",
       "\n",
       "    .dataframe thead th {\n",
       "        text-align: right;\n",
       "    }\n",
       "</style>\n",
       "<table border=\"1\" class=\"dataframe\">\n",
       "  <thead>\n",
       "    <tr style=\"text-align: right;\">\n",
       "      <th></th>\n",
       "      <th>Passenger Class2</th>\n",
       "      <th>Passenger Class3</th>\n",
       "      <th>Male</th>\n",
       "      <th>Port_of_Embarkation_Q</th>\n",
       "      <th>Port_of_Embarkation_S</th>\n",
       "      <th>Survived</th>\n",
       "      <th>Age</th>\n",
       "      <th>SibSp</th>\n",
       "      <th>Parch</th>\n",
       "      <th>Fare</th>\n",
       "    </tr>\n",
       "  </thead>\n",
       "  <tbody>\n",
       "    <tr>\n",
       "      <th>0</th>\n",
       "      <td>0.0</td>\n",
       "      <td>1.0</td>\n",
       "      <td>1.0</td>\n",
       "      <td>0.0</td>\n",
       "      <td>1.0</td>\n",
       "      <td>0.0</td>\n",
       "      <td>22.0</td>\n",
       "      <td>1.0</td>\n",
       "      <td>0.0</td>\n",
       "      <td>7.2500</td>\n",
       "    </tr>\n",
       "    <tr>\n",
       "      <th>1</th>\n",
       "      <td>0.0</td>\n",
       "      <td>0.0</td>\n",
       "      <td>0.0</td>\n",
       "      <td>0.0</td>\n",
       "      <td>0.0</td>\n",
       "      <td>1.0</td>\n",
       "      <td>38.0</td>\n",
       "      <td>1.0</td>\n",
       "      <td>0.0</td>\n",
       "      <td>71.2833</td>\n",
       "    </tr>\n",
       "    <tr>\n",
       "      <th>2</th>\n",
       "      <td>0.0</td>\n",
       "      <td>1.0</td>\n",
       "      <td>0.0</td>\n",
       "      <td>0.0</td>\n",
       "      <td>1.0</td>\n",
       "      <td>1.0</td>\n",
       "      <td>26.0</td>\n",
       "      <td>0.0</td>\n",
       "      <td>0.0</td>\n",
       "      <td>7.9250</td>\n",
       "    </tr>\n",
       "    <tr>\n",
       "      <th>3</th>\n",
       "      <td>0.0</td>\n",
       "      <td>0.0</td>\n",
       "      <td>0.0</td>\n",
       "      <td>0.0</td>\n",
       "      <td>1.0</td>\n",
       "      <td>1.0</td>\n",
       "      <td>35.0</td>\n",
       "      <td>1.0</td>\n",
       "      <td>0.0</td>\n",
       "      <td>53.1000</td>\n",
       "    </tr>\n",
       "    <tr>\n",
       "      <th>4</th>\n",
       "      <td>0.0</td>\n",
       "      <td>1.0</td>\n",
       "      <td>1.0</td>\n",
       "      <td>0.0</td>\n",
       "      <td>1.0</td>\n",
       "      <td>0.0</td>\n",
       "      <td>35.0</td>\n",
       "      <td>0.0</td>\n",
       "      <td>0.0</td>\n",
       "      <td>8.0500</td>\n",
       "    </tr>\n",
       "    <tr>\n",
       "      <th>...</th>\n",
       "      <td>...</td>\n",
       "      <td>...</td>\n",
       "      <td>...</td>\n",
       "      <td>...</td>\n",
       "      <td>...</td>\n",
       "      <td>...</td>\n",
       "      <td>...</td>\n",
       "      <td>...</td>\n",
       "      <td>...</td>\n",
       "      <td>...</td>\n",
       "    </tr>\n",
       "    <tr>\n",
       "      <th>884</th>\n",
       "      <td>1.0</td>\n",
       "      <td>0.0</td>\n",
       "      <td>1.0</td>\n",
       "      <td>0.0</td>\n",
       "      <td>1.0</td>\n",
       "      <td>0.0</td>\n",
       "      <td>27.0</td>\n",
       "      <td>0.0</td>\n",
       "      <td>0.0</td>\n",
       "      <td>13.0000</td>\n",
       "    </tr>\n",
       "    <tr>\n",
       "      <th>885</th>\n",
       "      <td>0.0</td>\n",
       "      <td>0.0</td>\n",
       "      <td>0.0</td>\n",
       "      <td>0.0</td>\n",
       "      <td>1.0</td>\n",
       "      <td>1.0</td>\n",
       "      <td>19.0</td>\n",
       "      <td>0.0</td>\n",
       "      <td>0.0</td>\n",
       "      <td>30.0000</td>\n",
       "    </tr>\n",
       "    <tr>\n",
       "      <th>886</th>\n",
       "      <td>0.0</td>\n",
       "      <td>1.0</td>\n",
       "      <td>0.0</td>\n",
       "      <td>0.0</td>\n",
       "      <td>1.0</td>\n",
       "      <td>0.0</td>\n",
       "      <td>28.0</td>\n",
       "      <td>1.0</td>\n",
       "      <td>2.0</td>\n",
       "      <td>23.4500</td>\n",
       "    </tr>\n",
       "    <tr>\n",
       "      <th>887</th>\n",
       "      <td>0.0</td>\n",
       "      <td>0.0</td>\n",
       "      <td>1.0</td>\n",
       "      <td>0.0</td>\n",
       "      <td>0.0</td>\n",
       "      <td>1.0</td>\n",
       "      <td>26.0</td>\n",
       "      <td>0.0</td>\n",
       "      <td>0.0</td>\n",
       "      <td>30.0000</td>\n",
       "    </tr>\n",
       "    <tr>\n",
       "      <th>888</th>\n",
       "      <td>0.0</td>\n",
       "      <td>1.0</td>\n",
       "      <td>1.0</td>\n",
       "      <td>1.0</td>\n",
       "      <td>0.0</td>\n",
       "      <td>0.0</td>\n",
       "      <td>32.0</td>\n",
       "      <td>0.0</td>\n",
       "      <td>0.0</td>\n",
       "      <td>7.7500</td>\n",
       "    </tr>\n",
       "  </tbody>\n",
       "</table>\n",
       "<p>889 rows × 10 columns</p>\n",
       "</div>"
      ],
      "text/plain": [
       "     Passenger Class2  Passenger Class3  Male  Port_of_Embarkation_Q  \\\n",
       "0                 0.0               1.0   1.0                    0.0   \n",
       "1                 0.0               0.0   0.0                    0.0   \n",
       "2                 0.0               1.0   0.0                    0.0   \n",
       "3                 0.0               0.0   0.0                    0.0   \n",
       "4                 0.0               1.0   1.0                    0.0   \n",
       "..                ...               ...   ...                    ...   \n",
       "884               1.0               0.0   1.0                    0.0   \n",
       "885               0.0               0.0   0.0                    0.0   \n",
       "886               0.0               1.0   0.0                    0.0   \n",
       "887               0.0               0.0   1.0                    0.0   \n",
       "888               0.0               1.0   1.0                    1.0   \n",
       "\n",
       "     Port_of_Embarkation_S  Survived   Age  SibSp  Parch     Fare  \n",
       "0                      1.0       0.0  22.0    1.0    0.0   7.2500  \n",
       "1                      0.0       1.0  38.0    1.0    0.0  71.2833  \n",
       "2                      1.0       1.0  26.0    0.0    0.0   7.9250  \n",
       "3                      1.0       1.0  35.0    1.0    0.0  53.1000  \n",
       "4                      1.0       0.0  35.0    0.0    0.0   8.0500  \n",
       "..                     ...       ...   ...    ...    ...      ...  \n",
       "884                    1.0       0.0  27.0    0.0    0.0  13.0000  \n",
       "885                    1.0       1.0  19.0    0.0    0.0  30.0000  \n",
       "886                    1.0       0.0  28.0    1.0    2.0  23.4500  \n",
       "887                    0.0       1.0  26.0    0.0    0.0  30.0000  \n",
       "888                    0.0       0.0  32.0    0.0    0.0   7.7500  \n",
       "\n",
       "[889 rows x 10 columns]"
      ]
     },
     "execution_count": 583,
     "metadata": {},
     "output_type": "execute_result"
    }
   ],
   "source": [
    "transformed_data # display data set "
   ]
  },
  {
   "cell_type": "code",
   "execution_count": 584,
   "id": "4423cc95",
   "metadata": {},
   "outputs": [
    {
     "data": {
      "text/plain": [
       "Passenger Class2         0\n",
       "Passenger Class3         0\n",
       "Male                     0\n",
       "Port_of_Embarkation_Q    0\n",
       "Port_of_Embarkation_S    0\n",
       "Survived                 0\n",
       "Age                      0\n",
       "SibSp                    0\n",
       "Parch                    0\n",
       "Fare                     0\n",
       "dtype: int64"
      ]
     },
     "execution_count": 584,
     "metadata": {},
     "output_type": "execute_result"
    }
   ],
   "source": [
    "transformed_data.isnull().sum()"
   ]
  },
  {
   "cell_type": "code",
   "execution_count": 585,
   "id": "252a4636",
   "metadata": {},
   "outputs": [
    {
     "name": "stdout",
     "output_type": "stream",
     "text": [
      "<class 'pandas.core.frame.DataFrame'>\n",
      "RangeIndex: 889 entries, 0 to 888\n",
      "Data columns (total 10 columns):\n",
      " #   Column                 Non-Null Count  Dtype  \n",
      "---  ------                 --------------  -----  \n",
      " 0   Passenger Class2       889 non-null    float64\n",
      " 1   Passenger Class3       889 non-null    float64\n",
      " 2   Male                   889 non-null    float64\n",
      " 3   Port_of_Embarkation_Q  889 non-null    float64\n",
      " 4   Port_of_Embarkation_S  889 non-null    float64\n",
      " 5   Survived               889 non-null    float64\n",
      " 6   Age                    889 non-null    float64\n",
      " 7   SibSp                  889 non-null    float64\n",
      " 8   Parch                  889 non-null    float64\n",
      " 9   Fare                   889 non-null    float64\n",
      "dtypes: float64(10)\n",
      "memory usage: 69.6 KB\n"
     ]
    }
   ],
   "source": [
    "transformed_data.info()"
   ]
  },
  {
   "cell_type": "code",
   "execution_count": 586,
   "id": "92723119",
   "metadata": {},
   "outputs": [],
   "source": [
    "# Split data in Train and Test set \n",
    "features = ['Passenger Class2','Passenger Class3', 'Male', 'Port_of_Embarkation_Q', 'Port_of_Embarkation_S',\n",
    "           'Age', 'SibSp', 'Parch', 'Fare']\n",
    "\n",
    "X = transformed_data.loc[:, features]  \n",
    "\n",
    "y = transformed_data.loc[:, ['Survived']] "
   ]
  },
  {
   "cell_type": "code",
   "execution_count": 587,
   "id": "105a7ba0",
   "metadata": {},
   "outputs": [
    {
     "data": {
      "text/plain": [
       "' Dividiamo il data set in Train and Test set. Il train set è composto dall’75%\\n    delle osservazioni totali, mentre il test set è composto dall’25% delle osservazioni rimanenti. '"
      ]
     },
     "execution_count": 587,
     "metadata": {},
     "output_type": "execute_result"
    }
   ],
   "source": [
    "from sklearn.model_selection import train_test_split\n",
    "X_train, X_test, y_train, y_test = train_test_split(X, y, random_state=0, train_size = .75)\n",
    "\n",
    "''' Dividiamo il data set in Train and Test set. Il train set è composto dall’75%\n",
    "    delle osservazioni totali, mentre il test set è composto dall’25% delle osservazioni rimanenti. '''"
   ]
  },
  {
   "cell_type": "code",
   "execution_count": 588,
   "id": "9fcd2823",
   "metadata": {},
   "outputs": [
    {
     "data": {
      "text/plain": [
       "' Standardizziamo le colonne numeriche Age e Fare '"
      ]
     },
     "execution_count": 588,
     "metadata": {},
     "output_type": "execute_result"
    }
   ],
   "source": [
    "# Standardization\n",
    "from sklearn.preprocessing import StandardScaler\n",
    "X_train[['Age', 'Fare']] = StandardScaler().fit_transform(X_train[['Age', 'Fare']])\n",
    "X_test[['Age', 'Fare']] = StandardScaler().fit_transform(X_test[['Age', 'Fare']])\n",
    "\n",
    "''' Standardizziamo le colonne numeriche Age e Fare '''"
   ]
  },
  {
   "cell_type": "code",
   "execution_count": 589,
   "id": "be41c76d",
   "metadata": {},
   "outputs": [],
   "source": [
    "# Models "
   ]
  },
  {
   "cell_type": "code",
   "execution_count": 590,
   "id": "3a61101d",
   "metadata": {},
   "outputs": [
    {
     "data": {
      "text/plain": [
       "' Addestriamo il modello KNN con K = 5 sui dati di training '"
      ]
     },
     "execution_count": 590,
     "metadata": {},
     "output_type": "execute_result"
    }
   ],
   "source": [
    "# KNN -> K = 5 Train set\n",
    "from sklearn import neighbors\n",
    "knn_5 = neighbors.KNeighborsClassifier(n_neighbors=5)\n",
    "knn_5.fit(X_train, y_train.values.ravel())\n",
    "\n",
    "''' Addestriamo il modello KNN con K = 5 sui dati di training '''"
   ]
  },
  {
   "cell_type": "code",
   "execution_count": 591,
   "id": "20fd1ae3",
   "metadata": {},
   "outputs": [
    {
     "data": {
      "text/plain": [
       "' Addestriamo il modello KNN con K = 10 sui dati di training '"
      ]
     },
     "execution_count": 591,
     "metadata": {},
     "output_type": "execute_result"
    }
   ],
   "source": [
    "# KNN -> K = 10 Train set\n",
    "knn_10 = neighbors.KNeighborsClassifier(n_neighbors=10)\n",
    "knn_10.fit(X_train, y_train.values.ravel())\n",
    "\n",
    "''' Addestriamo il modello KNN con K = 10 sui dati di training '''"
   ]
  },
  {
   "cell_type": "code",
   "execution_count": 592,
   "id": "31a41bc5",
   "metadata": {},
   "outputs": [],
   "source": [
    "# Predict on Test set"
   ]
  },
  {
   "cell_type": "code",
   "execution_count": 593,
   "id": "e316ad84",
   "metadata": {},
   "outputs": [
    {
     "data": {
      "text/plain": [
       "' Previsione sui dati di test utilizzando il modello knn con k = 5 addestrato in precedenza sui dati di training '"
      ]
     },
     "execution_count": 593,
     "metadata": {},
     "output_type": "execute_result"
    }
   ],
   "source": [
    "knn_5.predict(X_test) \n",
    "\n",
    "''' Previsione sui dati di test utilizzando il modello knn con k = 5 addestrato in precedenza sui dati di training '''"
   ]
  },
  {
   "cell_type": "code",
   "execution_count": 594,
   "id": "53f9583b",
   "metadata": {},
   "outputs": [
    {
     "data": {
      "text/plain": [
       "' Previsione sui dati di test utilizzando il modello knn con k = 10 addestrato in precedenza sui dati di training '"
      ]
     },
     "execution_count": 594,
     "metadata": {},
     "output_type": "execute_result"
    }
   ],
   "source": [
    "knn_10.predict(X_test)\n",
    "\n",
    "\n",
    "''' Previsione sui dati di test utilizzando il modello knn con k = 10 addestrato in precedenza sui dati di training '''"
   ]
  },
  {
   "cell_type": "code",
   "execution_count": 595,
   "id": "221dee37",
   "metadata": {},
   "outputs": [
    {
     "data": {
      "text/plain": [
       "\" L'accuratezza è pari all'75%. 75 volte su 100 classifichiamo correttamente le osservazioni del test set \""
      ]
     },
     "execution_count": 595,
     "metadata": {},
     "output_type": "execute_result"
    }
   ],
   "source": [
    "# Accuracy Score Test set KNN -> K = 5 \n",
    "round(knn_5.score(X_test, y_test),2) # 75 % Accuracy \n",
    "\n",
    "''' L'accuratezza è pari all'75%. 75 volte su 100 classifichiamo correttamente le osservazioni del test set '''"
   ]
  },
  {
   "cell_type": "code",
   "execution_count": 596,
   "id": "9415c208",
   "metadata": {},
   "outputs": [],
   "source": [
    "# Confusion Matrix KNN -> K = 5 on Test set"
   ]
  },
  {
   "cell_type": "code",
   "execution_count": 597,
   "id": "4b29c812",
   "metadata": {},
   "outputs": [
    {
     "data": {
      "image/png": "[encoded data removed]",
      "text/plain": [
       "<Figure size 432x288 with 2 Axes>"
      ]
     },
     "metadata": {
      "needs_background": "light"
     },
     "output_type": "display_data"
    },
    {
     "data": {
      "text/plain": [
       "' 110 -> TRUE NEGATIVE(Veri negativi) -> Persone non sopravvisute correttamente classificate\\n    58  -> TRUE POSITIVE(Veri positivi) -> Persone sopravvisute correttamente classificate\\n    22  -> FALSE POSITIVE(Falsi positivi) -> Persone classificate come sopravvisute, ma in realtà esse\\n    sono non sopravvisute\\n    33  -> FALSE NEGATIVE(Falsi negativi) -> Persone classificate come non sopravvisute, ma in realtà esse\\n    sono sopravvisute. '"
      ]
     },
     "execution_count": 597,
     "metadata": {},
     "output_type": "execute_result"
    }
   ],
   "source": [
    "from sklearn.metrics import confusion_matrix, ConfusionMatrixDisplay\n",
    "cm = confusion_matrix(y_test, knn_5.predict(X_test), labels=knn_5.classes_)\n",
    "disp = ConfusionMatrixDisplay(confusion_matrix=cm,\n",
    "                               display_labels=knn_5.classes_)\n",
    "disp.plot()\n",
    "plt.show()\n",
    "\n",
    "\n",
    "''' 110 -> TRUE NEGATIVE(Veri negativi) -> Persone non sopravvisute correttamente classificate\n",
    "    58  -> TRUE POSITIVE(Veri positivi) -> Persone sopravvisute correttamente classificate\n",
    "    22  -> FALSE POSITIVE(Falsi positivi) -> Persone classificate come sopravvisute, ma in realtà esse\n",
    "    sono non sopravvisute\n",
    "    33  -> FALSE NEGATIVE(Falsi negativi) -> Persone classificate come non sopravvisute, ma in realtà esse\n",
    "    sono sopravvisute. ''' "
   ]
  },
  {
   "cell_type": "code",
   "execution_count": 598,
   "id": "d927dcb9",
   "metadata": {},
   "outputs": [],
   "source": [
    "# Classification Report KNN -> K = 5 on Test set"
   ]
  },
  {
   "cell_type": "code",
   "execution_count": 599,
   "id": "0c932fea",
   "metadata": {},
   "outputs": [
    {
     "name": "stdout",
     "output_type": "stream",
     "text": [
      "              precision    recall  f1-score   support\n",
      "\n",
      "         0.0       0.77      0.83      0.80       132\n",
      "         1.0       0.72      0.64      0.68        91\n",
      "\n",
      "    accuracy                           0.75       223\n",
      "   macro avg       0.75      0.74      0.74       223\n",
      "weighted avg       0.75      0.75      0.75       223\n",
      "\n"
     ]
    },
    {
     "data": {
      "text/plain": [
       "' Precision(Precisione) = TRUE POSITIVE / (TRUE POSITIVE + FALSE POSITIVE)\\n    Recall(Sensitivity)   = TRUE POSITIVE / (TRUE POSITIVE + FALSE NEGATIVE)\\n    F1-Score              = 2 * ( (PRECISION * RECALL) / (PRECISION + RECALL) )'"
      ]
     },
     "execution_count": 599,
     "metadata": {},
     "output_type": "execute_result"
    }
   ],
   "source": [
    "from sklearn.metrics import classification_report\n",
    "print(classification_report(y_test, knn_5.predict(X_test)))\n",
    "\n",
    "''' Precision(Precisione) = TRUE POSITIVE / (TRUE POSITIVE + FALSE POSITIVE)\n",
    "    Recall(Sensitivity)   = TRUE POSITIVE / (TRUE POSITIVE + FALSE NEGATIVE)\n",
    "    F1-Score              = 2 * ( (PRECISION * RECALL) / (PRECISION + RECALL) )'''"
   ]
  },
  {
   "cell_type": "code",
   "execution_count": 600,
   "id": "4929b125",
   "metadata": {},
   "outputs": [
    {
     "data": {
      "text/plain": [
       "\" L'accuratezza è pari all'77%. 77 volte su 100 classifichiamo correttamente le osservazioni del test set \""
      ]
     },
     "execution_count": 600,
     "metadata": {},
     "output_type": "execute_result"
    }
   ],
   "source": [
    "# Accuracy Score Test set KNN -> K = 10 \n",
    "round(knn_10.score(X_test, y_test),2) # 77 % Accuracy\n",
    "\n",
    "''' L'accuratezza è pari all'77%. 77 volte su 100 classifichiamo correttamente le osservazioni del test set '''"
   ]
  },
  {
   "cell_type": "code",
   "execution_count": 601,
   "id": "ceb05d5e",
   "metadata": {},
   "outputs": [],
   "source": [
    "# Confusion Matrix KNN -> K = 10 on Test set"
   ]
  },
  {
   "cell_type": "code",
   "execution_count": 602,
   "id": "f8502fb3",
   "metadata": {},
   "outputs": [
    {
     "data": {
      "image/png": "[encoded data removed]",
      "text/plain": [
       "<Figure size 432x288 with 2 Axes>"
      ]
     },
     "metadata": {
      "needs_background": "light"
     },
     "output_type": "display_data"
    },
    {
     "data": {
      "text/plain": [
       "' 119 -> TRUE NEGATIVE(Veri negativi) -> Persone non sopravvisute correttamente classificate\\n    52  -> TRUE POSITIVE(Veri positivi) -> Persone sopravvisute correttamente classificate\\n    13  -> FALSE POSITIVE(Falsi positivi) -> Persone classificate come sopravvisute, ma in realtà esse\\n    sono non sopravvisute\\n    39  -> FALSE NEGATIVE(Falsi negativi) -> Persone classificate come non sopravvisute, ma in realtà esse\\n    sono sopravvisute. '"
      ]
     },
     "execution_count": 602,
     "metadata": {},
     "output_type": "execute_result"
    }
   ],
   "source": [
    "cm = confusion_matrix(y_test, knn_10.predict(X_test), labels=knn_10.classes_)\n",
    "disp = ConfusionMatrixDisplay(confusion_matrix=cm,\n",
    "                               display_labels=knn_10.classes_)\n",
    "disp.plot()\n",
    "plt.show()\n",
    "\n",
    "''' 119 -> TRUE NEGATIVE(Veri negativi) -> Persone non sopravvisute correttamente classificate\n",
    "    52  -> TRUE POSITIVE(Veri positivi) -> Persone sopravvisute correttamente classificate\n",
    "    13  -> FALSE POSITIVE(Falsi positivi) -> Persone classificate come sopravvisute, ma in realtà esse\n",
    "    sono non sopravvisute\n",
    "    39  -> FALSE NEGATIVE(Falsi negativi) -> Persone classificate come non sopravvisute, ma in realtà esse\n",
    "    sono sopravvisute. ''' "
   ]
  },
  {
   "cell_type": "code",
   "execution_count": 603,
   "id": "b5db32c6",
   "metadata": {},
   "outputs": [],
   "source": [
    "# Classification Report KNN -> K = 10 on Test set"
   ]
  },
  {
   "cell_type": "code",
   "execution_count": 604,
   "id": "b00cd157",
   "metadata": {},
   "outputs": [
    {
     "name": "stdout",
     "output_type": "stream",
     "text": [
      "              precision    recall  f1-score   support\n",
      "\n",
      "         0.0       0.75      0.90      0.82       132\n",
      "         1.0       0.80      0.57      0.67        91\n",
      "\n",
      "    accuracy                           0.77       223\n",
      "   macro avg       0.78      0.74      0.74       223\n",
      "weighted avg       0.77      0.77      0.76       223\n",
      "\n"
     ]
    },
    {
     "data": {
      "text/plain": [
       "' Precision(Precisione) = TRUE POSITIVE / (TRUE POSITIVE + FALSE POSITIVE)\\n    Recall(Sensitivity)   = TRUE POSITIVE / (TRUE POSITIVE + FALSE NEGATIVE)\\n    F1-Score              = 2 * ( (PRECISION * RECALL) / (PRECISION + RECALL) )'"
      ]
     },
     "execution_count": 604,
     "metadata": {},
     "output_type": "execute_result"
    }
   ],
   "source": [
    "print(classification_report(y_test, knn_10.predict(X_test)))\n",
    "\n",
    "''' Precision(Precisione) = TRUE POSITIVE / (TRUE POSITIVE + FALSE POSITIVE)\n",
    "    Recall(Sensitivity)   = TRUE POSITIVE / (TRUE POSITIVE + FALSE NEGATIVE)\n",
    "    F1-Score              = 2 * ( (PRECISION * RECALL) / (PRECISION + RECALL) )'''"
   ]
  },
  {
   "cell_type": "code",
   "execution_count": 605,
   "id": "b6cc5c1f",
   "metadata": {},
   "outputs": [
    {
     "data": {
      "text/plain": [
       "' Addestriamo il modello logistico sui dati di training set'"
      ]
     },
     "execution_count": 605,
     "metadata": {},
     "output_type": "execute_result"
    }
   ],
   "source": [
    "# Regressione Logistica\n",
    "from sklearn.linear_model import LogisticRegression\n",
    "lr = LogisticRegression()\n",
    "lrModel = lr.fit(X_train, y_train.values.ravel())\n",
    "\n",
    "''' Addestriamo il modello logistico sui dati di training set'''"
   ]
  },
  {
   "cell_type": "code",
   "execution_count": 606,
   "id": "208e874c",
   "metadata": {},
   "outputs": [],
   "source": [
    "# Predict on Test set"
   ]
  },
  {
   "cell_type": "code",
   "execution_count": 607,
   "id": "dd5427e0",
   "metadata": {},
   "outputs": [
    {
     "data": {
      "text/plain": [
       "array([1., 0., 1., 0., 0., 0., 0., 0., 1., 0., 0., 1., 1., 0., 1., 0., 1.,\n",
       "       1., 0., 1., 0., 1., 0., 0., 0., 0., 1., 0., 0., 0., 1., 0., 0., 1.,\n",
       "       0., 0., 0., 0., 0., 0., 1., 0., 1., 0., 1., 0., 0., 0., 0., 0., 1.,\n",
       "       1., 0., 1., 0., 1., 1., 1., 0., 0., 1., 0., 0., 0., 0., 0., 1., 1.,\n",
       "       0., 1., 1., 0., 0., 1., 0., 0., 0., 0., 1., 0., 0., 1., 1., 1., 1.,\n",
       "       1., 0., 0., 0., 0., 0., 1., 1., 0., 0., 1., 1., 1., 0., 1., 0., 1.,\n",
       "       0., 1., 0., 1., 0., 0., 0., 1., 1., 1., 0., 1., 0., 0., 0., 0., 0.,\n",
       "       0., 0., 0., 0., 0., 0., 0., 0., 0., 0., 0., 0., 0., 1., 0., 0., 1.,\n",
       "       0., 1., 1., 0., 0., 0., 1., 0., 1., 0., 1., 1., 0., 0., 0., 0., 1.,\n",
       "       0., 0., 0., 1., 1., 1., 0., 0., 0., 1., 0., 0., 1., 0., 1., 0., 1.,\n",
       "       0., 0., 0., 0., 0., 0., 1., 1., 0., 1., 0., 1., 1., 0., 0., 0., 0.,\n",
       "       0., 1., 0., 0., 0., 0., 0., 0., 0., 0., 0., 0., 0., 1., 1., 1., 0.,\n",
       "       0., 1., 0., 1., 0., 0., 1., 1., 0., 1., 1., 0., 1., 0., 0., 1., 1.,\n",
       "       0., 1.])"
      ]
     },
     "execution_count": 607,
     "metadata": {},
     "output_type": "execute_result"
    }
   ],
   "source": [
    "lrModel.predict(X_test) # Previsioni -> 1: Sopravvisuto 0: Non sopravvisuto\n",
    " "
   ]
  },
  {
   "cell_type": "code",
   "execution_count": 608,
   "id": "19a37ee2",
   "metadata": {},
   "outputs": [
    {
     "data": {
      "text/plain": [
       "\" L'accuratezza è pari all'76%. 76 volte su 100 classifichiamo correttamente le osservazioni del test set \""
      ]
     },
     "execution_count": 608,
     "metadata": {},
     "output_type": "execute_result"
    }
   ],
   "source": [
    "# Accuracy Score Test set Regressione Logistica \n",
    "round(lrModel.score(X_test, y_test),2) # 76 % Accuracy \n",
    "\n",
    "''' L'accuratezza è pari all'76%. 76 volte su 100 classifichiamo correttamente le osservazioni del test set '''"
   ]
  },
  {
   "cell_type": "code",
   "execution_count": 609,
   "id": "507abdde",
   "metadata": {},
   "outputs": [],
   "source": [
    "# Confusion Matrix Regressione Logistica on Test set"
   ]
  },
  {
   "cell_type": "code",
   "execution_count": 610,
   "id": "4052f5fb",
   "metadata": {},
   "outputs": [
    {
     "data": {
      "image/png": "[encoded data removed]",
      "text/plain": [
       "<Figure size 432x288 with 2 Axes>"
      ]
     },
     "metadata": {
      "needs_background": "light"
     },
     "output_type": "display_data"
    },
    {
     "data": {
      "text/plain": [
       "' 110 -> TRUE NEGATIVE(Veri negativi) -> Persone non sopravvisute correttamente classificate\\n    60  -> TRUE POSITIVE(Veri positivi) -> Persone sopravvisute correttamente classificate\\n    22  -> FALSE POSITIVE(Falsi positivi) -> Persone classificate come sopravvisute, ma in realtà esse\\n    sono non sopravvisute\\n    31  -> FALSE NEGATIVE(Falsi negativi) -> Persone classificate come non sopravvisute, ma in realtà esse\\n    sono sopravvisute. '"
      ]
     },
     "execution_count": 610,
     "metadata": {},
     "output_type": "execute_result"
    }
   ],
   "source": [
    "cm = confusion_matrix(y_test, lrModel.predict(X_test), labels=lrModel.classes_)\n",
    "disp = ConfusionMatrixDisplay(confusion_matrix=cm,\n",
    "                               display_labels=lrModel.classes_)\n",
    "disp.plot()\n",
    "plt.show()\n",
    "\n",
    "''' 110 -> TRUE NEGATIVE(Veri negativi) -> Persone non sopravvisute correttamente classificate\n",
    "    60  -> TRUE POSITIVE(Veri positivi) -> Persone sopravvisute correttamente classificate\n",
    "    22  -> FALSE POSITIVE(Falsi positivi) -> Persone classificate come sopravvisute, ma in realtà esse\n",
    "    sono non sopravvisute\n",
    "    31  -> FALSE NEGATIVE(Falsi negativi) -> Persone classificate come non sopravvisute, ma in realtà esse\n",
    "    sono sopravvisute. ''' "
   ]
  },
  {
   "cell_type": "code",
   "execution_count": 611,
   "id": "16702644",
   "metadata": {},
   "outputs": [],
   "source": [
    "# Classification Report Regressione Logistica on Test set"
   ]
  },
  {
   "cell_type": "code",
   "execution_count": 612,
   "id": "24bd4972",
   "metadata": {},
   "outputs": [
    {
     "name": "stdout",
     "output_type": "stream",
     "text": [
      "              precision    recall  f1-score   support\n",
      "\n",
      "         0.0       0.78      0.83      0.81       132\n",
      "         1.0       0.73      0.66      0.69        91\n",
      "\n",
      "    accuracy                           0.76       223\n",
      "   macro avg       0.76      0.75      0.75       223\n",
      "weighted avg       0.76      0.76      0.76       223\n",
      "\n"
     ]
    },
    {
     "data": {
      "text/plain": [
       "' Precision(Precisione) = TRUE POSITIVE / (TRUE POSITIVE + FALSE POSITIVE)\\n    Recall(Sensitivity)   = TRUE POSITIVE / (TRUE POSITIVE + FALSE NEGATIVE)\\n    F1-Score              = 2 * ( (PRECISION * RECALL) / (PRECISION + RECALL) )'"
      ]
     },
     "execution_count": 612,
     "metadata": {},
     "output_type": "execute_result"
    }
   ],
   "source": [
    "print(classification_report(y_test, lrModel.predict(X_test)))\n",
    "\n",
    "''' Precision(Precisione) = TRUE POSITIVE / (TRUE POSITIVE + FALSE POSITIVE)\n",
    "    Recall(Sensitivity)   = TRUE POSITIVE / (TRUE POSITIVE + FALSE NEGATIVE)\n",
    "    F1-Score              = 2 * ( (PRECISION * RECALL) / (PRECISION + RECALL) )'''"
   ]
  },
  {
   "cell_type": "code",
   "execution_count": 613,
   "id": "cdd6d936",
   "metadata": {},
   "outputs": [],
   "source": [
    "# Naive Bayes\n",
    "from sklearn.naive_bayes import GaussianNB\n",
    "gnb = GaussianNB()\n",
    "gnbModel = gnb.fit(X_train, y_train.values.ravel())"
   ]
  },
  {
   "cell_type": "code",
   "execution_count": 614,
   "id": "79a05cc2",
   "metadata": {},
   "outputs": [],
   "source": [
    "# Predict on Test set"
   ]
  },
  {
   "cell_type": "code",
   "execution_count": 615,
   "id": "9c85aa1f",
   "metadata": {},
   "outputs": [
    {
     "data": {
      "text/plain": [
       "array([1., 0., 1., 0., 1., 1., 0., 0., 1., 0., 0., 1., 1., 0., 1., 0., 1.,\n",
       "       0., 0., 1., 1., 1., 0., 0., 0., 0., 1., 0., 0., 0., 0., 0., 0., 1.,\n",
       "       0., 0., 0., 0., 0., 0., 1., 0., 1., 0., 1., 0., 0., 0., 0., 0., 1.,\n",
       "       0., 0., 1., 0., 1., 1., 1., 0., 0., 1., 0., 1., 0., 0., 0., 1., 1.,\n",
       "       0., 1., 1., 0., 0., 1., 1., 0., 0., 0., 1., 0., 0., 1., 1., 1., 1.,\n",
       "       1., 0., 0., 0., 0., 0., 1., 1., 0., 0., 1., 1., 1., 0., 1., 0., 1.,\n",
       "       0., 1., 0., 1., 0., 0., 0., 1., 1., 1., 0., 1., 0., 1., 0., 0., 0.,\n",
       "       0., 1., 0., 0., 0., 0., 0., 0., 0., 0., 0., 0., 0., 1., 0., 0., 1.,\n",
       "       0., 1., 1., 0., 0., 0., 1., 1., 1., 0., 0., 0., 0., 0., 0., 0., 1.,\n",
       "       0., 0., 0., 1., 1., 1., 0., 0., 0., 1., 0., 0., 1., 0., 1., 0., 1.,\n",
       "       0., 0., 0., 0., 0., 0., 0., 1., 0., 1., 0., 1., 1., 0., 0., 0., 0.,\n",
       "       1., 1., 0., 0., 0., 0., 1., 0., 0., 0., 0., 0., 0., 1., 1., 1., 0.,\n",
       "       0., 1., 0., 1., 0., 0., 1., 1., 1., 1., 1., 0., 1., 0., 0., 1., 1.,\n",
       "       0., 1.])"
      ]
     },
     "execution_count": 615,
     "metadata": {},
     "output_type": "execute_result"
    }
   ],
   "source": [
    "gnbModel.predict(X_test) # Previsioni -> 1: Sopravvisuto 0: Non sopravvisuto"
   ]
  },
  {
   "cell_type": "code",
   "execution_count": 616,
   "id": "a0755057",
   "metadata": {},
   "outputs": [
    {
     "data": {
      "text/plain": [
       "\" L'accuratezza è pari all'76%. 76 volte su 100 classifichiamo correttamente le osservazioni del test set \""
      ]
     },
     "execution_count": 616,
     "metadata": {},
     "output_type": "execute_result"
    }
   ],
   "source": [
    "# Accuracy Score Test set Naive Bayes\n",
    "round(gnbModel.score(X_test, y_test),2) # 76 % Accuracy \n",
    "\n",
    "''' L'accuratezza è pari all'76%. 76 volte su 100 classifichiamo correttamente le osservazioni del test set '''"
   ]
  },
  {
   "cell_type": "code",
   "execution_count": 617,
   "id": "240f09e7",
   "metadata": {},
   "outputs": [],
   "source": [
    "# Confusion Matrix Naive Bayes on Test set"
   ]
  },
  {
   "cell_type": "code",
   "execution_count": 618,
   "id": "7d06daa3",
   "metadata": {},
   "outputs": [
    {
     "data": {
      "image/png": "[encoded data removed]",
      "text/plain": [
       "<Figure size 432x288 with 2 Axes>"
      ]
     },
     "metadata": {
      "needs_background": "light"
     },
     "output_type": "display_data"
    },
    {
     "data": {
      "text/plain": [
       "' 107 -> TRUE NEGATIVE(Veri negativi) -> Persone non sopravvisute correttamente classificate\\n    62  -> TRUE POSITIVE(Veri positivi) -> Persone sopravvisute correttamente classificate\\n    25  -> FALSE POSITIVE(Falsi positivi) -> Persone classificate come sopravvisute, ma in realtà esse\\n    sono non sopravvisute\\n    29  -> FALSE NEGATIVE(Falsi negativi) -> Persone classificate come non sopravvisute, ma in realtà esse\\n    sono sopravvisute. '"
      ]
     },
     "execution_count": 618,
     "metadata": {},
     "output_type": "execute_result"
    }
   ],
   "source": [
    "cm = confusion_matrix(y_test, gnbModel.predict(X_test), labels=gnbModel.classes_)\n",
    "disp = ConfusionMatrixDisplay(confusion_matrix=cm,\n",
    "                               display_labels=gnbModel.classes_)\n",
    "disp.plot()\n",
    "plt.show()\n",
    "\n",
    "''' 107 -> TRUE NEGATIVE(Veri negativi) -> Persone non sopravvisute correttamente classificate\n",
    "    62  -> TRUE POSITIVE(Veri positivi) -> Persone sopravvisute correttamente classificate\n",
    "    25  -> FALSE POSITIVE(Falsi positivi) -> Persone classificate come sopravvisute, ma in realtà esse\n",
    "    sono non sopravvisute\n",
    "    29  -> FALSE NEGATIVE(Falsi negativi) -> Persone classificate come non sopravvisute, ma in realtà esse\n",
    "    sono sopravvisute. ''' "
   ]
  },
  {
   "cell_type": "code",
   "execution_count": 619,
   "id": "4940b564",
   "metadata": {},
   "outputs": [],
   "source": [
    "# Classification Report Naive Bayes regressione Logistica on Test set"
   ]
  },
  {
   "cell_type": "code",
   "execution_count": 620,
   "id": "b8f843b3",
   "metadata": {},
   "outputs": [
    {
     "name": "stdout",
     "output_type": "stream",
     "text": [
      "              precision    recall  f1-score   support\n",
      "\n",
      "         0.0       0.79      0.81      0.80       132\n",
      "         1.0       0.71      0.68      0.70        91\n",
      "\n",
      "    accuracy                           0.76       223\n",
      "   macro avg       0.75      0.75      0.75       223\n",
      "weighted avg       0.76      0.76      0.76       223\n",
      "\n"
     ]
    },
    {
     "data": {
      "text/plain": [
       "' Precision(Precisione) = TRUE POSITIVE / (TRUE POSITIVE + FALSE POSITIVE)\\n    Recall(Sensitivity)   = TRUE POSITIVE / (TRUE POSITIVE + FALSE NEGATIVE)\\n    F1-Score              = 2 * ( (PRECISION * RECALL) / (PRECISION + RECALL) )'"
      ]
     },
     "execution_count": 620,
     "metadata": {},
     "output_type": "execute_result"
    }
   ],
   "source": [
    "print(classification_report(y_test, gnbModel.predict(X_test)))\n",
    "\n",
    "''' Precision(Precisione) = TRUE POSITIVE / (TRUE POSITIVE + FALSE POSITIVE)\n",
    "    Recall(Sensitivity)   = TRUE POSITIVE / (TRUE POSITIVE + FALSE NEGATIVE)\n",
    "    F1-Score              = 2 * ( (PRECISION * RECALL) / (PRECISION + RECALL) )'''"
   ]
  },
  {
   "cell_type": "code",
   "execution_count": 621,
   "id": "513c6594",
   "metadata": {},
   "outputs": [],
   "source": [
    "import numpy as np\n",
    "# creating the Numpy array\n",
    "array = np.array([[0, 1, 1, 0, 1, 40, 0, 0, 31.0], [1, 0, 0, 1, 0, 20, 0, 0, 31],\n",
    "                 [0, 1, 1, 0, 1, 35, 1, 1, 7 ], \n",
    "                 [0, 0, 0, 1, 0, 15, 0, 0, 31]])\n",
    "  \n",
    "# creating a list of index names\n",
    "index_values = ['first', 'second', 'third', 'fourth']\n",
    "   \n",
    "# creating a list of column names\n",
    "column_values = ['Passenger Class2', 'Passenger Class3', 'Male',\n",
    "       'Port_of_Embarkation_Q', 'Port_of_Embarkation_S', 'Age', 'SibSp',\n",
    "       'Parch', 'Fare']\n",
    "  \n",
    "# creating the dataframe\n",
    "df = pd.DataFrame(data = array, \n",
    "                  index = index_values, \n",
    "                  columns = column_values)\n",
    "\n",
    "# First observation -> Pclass3 - Male - Port_of_Embarkation_S - 40 Age - 31 Fare\n",
    "# Second observation -> Pclass2- Female - Port_of_Embarkation_Q - 20 Age - 31 Fare  \n",
    "# Third observation -> Pclass3 - Male- Port_of_Embarkation_S - 35 Age - 1 SibSp - 1 Parch - 31 Fare\n",
    "# Fourth observation -> Pclass1 - Female - Port_of_Embarkation_Q - 15 Age - 31 Fare "
   ]
  },
  {
   "cell_type": "code",
   "execution_count": 622,
   "id": "8698970f",
   "metadata": {},
   "outputs": [
    {
     "data": {
      "text/html": [
       "<div>\n",
       "<style scoped>\n",
       "    .dataframe tbody tr th:only-of-type {\n",
       "        vertical-align: middle;\n",
       "    }\n",
       "\n",
       "    .dataframe tbody tr th {\n",
       "        vertical-align: top;\n",
       "    }\n",
       "\n",
       "    .dataframe thead th {\n",
       "        text-align: right;\n",
       "    }\n",
       "</style>\n",
       "<table border=\"1\" class=\"dataframe\">\n",
       "  <thead>\n",
       "    <tr style=\"text-align: right;\">\n",
       "      <th></th>\n",
       "      <th>Passenger Class2</th>\n",
       "      <th>Passenger Class3</th>\n",
       "      <th>Male</th>\n",
       "      <th>Port_of_Embarkation_Q</th>\n",
       "      <th>Port_of_Embarkation_S</th>\n",
       "      <th>Age</th>\n",
       "      <th>SibSp</th>\n",
       "      <th>Parch</th>\n",
       "      <th>Fare</th>\n",
       "    </tr>\n",
       "  </thead>\n",
       "  <tbody>\n",
       "    <tr>\n",
       "      <th>first</th>\n",
       "      <td>0.0</td>\n",
       "      <td>1.0</td>\n",
       "      <td>1.0</td>\n",
       "      <td>0.0</td>\n",
       "      <td>1.0</td>\n",
       "      <td>40.0</td>\n",
       "      <td>0.0</td>\n",
       "      <td>0.0</td>\n",
       "      <td>31.0</td>\n",
       "    </tr>\n",
       "    <tr>\n",
       "      <th>second</th>\n",
       "      <td>1.0</td>\n",
       "      <td>0.0</td>\n",
       "      <td>0.0</td>\n",
       "      <td>1.0</td>\n",
       "      <td>0.0</td>\n",
       "      <td>20.0</td>\n",
       "      <td>0.0</td>\n",
       "      <td>0.0</td>\n",
       "      <td>31.0</td>\n",
       "    </tr>\n",
       "    <tr>\n",
       "      <th>third</th>\n",
       "      <td>0.0</td>\n",
       "      <td>1.0</td>\n",
       "      <td>1.0</td>\n",
       "      <td>0.0</td>\n",
       "      <td>1.0</td>\n",
       "      <td>35.0</td>\n",
       "      <td>1.0</td>\n",
       "      <td>1.0</td>\n",
       "      <td>7.0</td>\n",
       "    </tr>\n",
       "    <tr>\n",
       "      <th>fourth</th>\n",
       "      <td>0.0</td>\n",
       "      <td>0.0</td>\n",
       "      <td>0.0</td>\n",
       "      <td>1.0</td>\n",
       "      <td>0.0</td>\n",
       "      <td>15.0</td>\n",
       "      <td>0.0</td>\n",
       "      <td>0.0</td>\n",
       "      <td>31.0</td>\n",
       "    </tr>\n",
       "  </tbody>\n",
       "</table>\n",
       "</div>"
      ],
      "text/plain": [
       "        Passenger Class2  Passenger Class3  Male  Port_of_Embarkation_Q  \\\n",
       "first                0.0               1.0   1.0                    0.0   \n",
       "second               1.0               0.0   0.0                    1.0   \n",
       "third                0.0               1.0   1.0                    0.0   \n",
       "fourth               0.0               0.0   0.0                    1.0   \n",
       "\n",
       "        Port_of_Embarkation_S   Age  SibSp  Parch  Fare  \n",
       "first                     1.0  40.0    0.0    0.0  31.0  \n",
       "second                    0.0  20.0    0.0    0.0  31.0  \n",
       "third                     1.0  35.0    1.0    1.0   7.0  \n",
       "fourth                    0.0  15.0    0.0    0.0  31.0  "
      ]
     },
     "execution_count": 622,
     "metadata": {},
     "output_type": "execute_result"
    }
   ],
   "source": [
    " df # display observations"
   ]
  },
  {
   "cell_type": "code",
   "execution_count": 623,
   "id": "4e5d52b7",
   "metadata": {},
   "outputs": [
    {
     "data": {
      "text/plain": [
       "array([1., 1., 0., 1.])"
      ]
     },
     "execution_count": 623,
     "metadata": {},
     "output_type": "execute_result"
    }
   ],
   "source": [
    "# Predict on df KNN -> K = 5\n",
    "knn_5.predict(df) # Survived, Survived, Not Survived, Survived"
   ]
  },
  {
   "cell_type": "code",
   "execution_count": 624,
   "id": "7cf7a38a",
   "metadata": {},
   "outputs": [
    {
     "data": {
      "text/plain": [
       "array([1., 1., 0., 1.])"
      ]
     },
     "execution_count": 624,
     "metadata": {},
     "output_type": "execute_result"
    }
   ],
   "source": [
    "# Predict on df KNN -> K = 10\n",
    "knn_10.predict(df) # Survived, Survived, Not Survived, Survived"
   ]
  },
  {
   "cell_type": "code",
   "execution_count": 625,
   "id": "1d072f7f",
   "metadata": {},
   "outputs": [
    {
     "data": {
      "text/plain": [
       "array([0., 0., 0., 0.])"
      ]
     },
     "execution_count": 625,
     "metadata": {},
     "output_type": "execute_result"
    }
   ],
   "source": [
    "# Predict on df Regressione Logistica\n",
    "lrModel.predict(df) # Not Survived, Not Survived, Not Survived, Not Survived "
   ]
  },
  {
   "cell_type": "code",
   "execution_count": 626,
   "id": "69345414",
   "metadata": {},
   "outputs": [
    {
     "data": {
      "text/plain": [
       "array([1., 1., 1., 1.])"
      ]
     },
     "execution_count": 626,
     "metadata": {},
     "output_type": "execute_result"
    }
   ],
   "source": [
    "gnbModel.predict(df) # Survived, Survived, Survived, Survived"
   ]
  },
  {
   "cell_type": "code",
   "execution_count": null,
   "id": "5ab9b3cc",
   "metadata": {},
   "outputs": [],
   "source": []
  },
  {
   "cell_type": "code",
   "execution_count": null,
   "id": "078ee1c6",
   "metadata": {},
   "outputs": [],
   "source": []
  },
  {
   "cell_type": "code",
   "execution_count": null,
   "id": "2bce1fb7",
   "metadata": {},
   "outputs": [],
   "source": []
  },
  {
   "cell_type": "code",
   "execution_count": null,
   "id": "34d415a4",
   "metadata": {},
   "outputs": [],
   "source": []
  },
  {
   "cell_type": "code",
   "execution_count": null,
   "id": "8afecf85",
   "metadata": {},
   "outputs": [],
   "source": []
  },
  {
   "cell_type": "code",
   "execution_count": null,
   "id": "b9d85daf",
   "metadata": {},
   "outputs": [],
   "source": []
  },
  {
   "cell_type": "code",
   "execution_count": null,
   "id": "09e6ab35",
   "metadata": {},
   "outputs": [],
   "source": []
  },
  {
   "cell_type": "code",
   "execution_count": null,
   "id": "ece6d1dc",
   "metadata": {},
   "outputs": [],
   "source": []
  },
  {
   "cell_type": "code",
   "execution_count": null,
   "id": "3d9cab3f",
   "metadata": {},
   "outputs": [],
   "source": [
    "\n"
   ]
  },
  {
   "cell_type": "code",
   "execution_count": null,
   "id": "850764ba",
   "metadata": {},
   "outputs": [],
   "source": []
  },
  {
   "cell_type": "code",
   "execution_count": null,
   "id": "10c951db",
   "metadata": {},
   "outputs": [],
   "source": []
  }
 ],
 "metadata": {
  "kernelspec": {
   "display_name": "Python 3 (ipykernel)",
   "language": "python",
   "name": "python3"
  },
  "language_info": {
   "codemirror_mode": {
    "name": "ipython",
    "version": 3
   },
   "file_extension": ".py",
   "mimetype": "text/x-python",
   "name": "python",
   "nbconvert_exporter": "python",
   "pygments_lexer": "ipython3",
   "version": "3.9.12"
  }
 },
 "nbformat": 4,
 "nbformat_minor": 5
}
