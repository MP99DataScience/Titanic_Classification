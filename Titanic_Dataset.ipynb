{
 "cells": [
  {
   "cell_type": "code",
   "execution_count": 193,
   "id": "f077baff",
   "metadata": {},
   "outputs": [],
   "source": [
    "import pandas as pd\n",
    "import matplotlib.pyplot as plt\n",
    "import seaborn as sns"
   ]
  },
  {
   "cell_type": "code",
   "execution_count": 194,
   "id": "d24fa694",
   "metadata": {},
   "outputs": [],
   "source": [
    "# Importo i dati \n",
    "data = pd.read_csv('C:/Users/massi/OneDrive/Desktop/Titanic.csv')"
   ]
  },
  {
   "cell_type": "code",
   "execution_count": 195,
   "id": "df35d2e1",
   "metadata": {},
   "outputs": [
    {
     "data": {
      "text/plain": [
       "(891, 13)"
      ]
     },
     "execution_count": 195,
     "metadata": {},
     "output_type": "execute_result"
    }
   ],
   "source": [
    "# Dimensioni del data set\n",
    "data.shape  # 891 osservazioni x 13 variabili"
   ]
  },
  {
   "cell_type": "code",
   "execution_count": 196,
   "id": "f0ca9391",
   "metadata": {},
   "outputs": [
    {
     "data": {
      "text/plain": [
       "array(['Unnamed: 0', 'PassengerId', 'Survived', 'Pclass', 'Name', 'Sex',\n",
       "       'Age', 'SibSp', 'Parch', 'Ticket', 'Fare', 'Cabin', 'Embarked'],\n",
       "      dtype=object)"
      ]
     },
     "execution_count": 196,
     "metadata": {},
     "output_type": "execute_result"
    }
   ],
   "source": [
    "# Nomi delle colonne\n",
    "data.columns.values"
   ]
  },
  {
   "cell_type": "code",
   "execution_count": 197,
   "id": "fc7e006d",
   "metadata": {},
   "outputs": [
    {
     "data": {
      "text/plain": [
       "0"
      ]
     },
     "execution_count": 197,
     "metadata": {},
     "output_type": "execute_result"
    }
   ],
   "source": [
    "# Controllo eventuali valori duplicati\n",
    "data.duplicated().sum()"
   ]
  },
  {
   "cell_type": "code",
   "execution_count": 198,
   "id": "63013811",
   "metadata": {},
   "outputs": [],
   "source": [
    "# Rimuovo le colonne\n",
    "data.drop('Unnamed: 0', inplace=True, axis=1)"
   ]
  },
  {
   "cell_type": "code",
   "execution_count": 199,
   "id": "9b0bfa5d",
   "metadata": {},
   "outputs": [],
   "source": [
    "data.drop('PassengerId', inplace=True, axis=1)"
   ]
  },
  {
   "cell_type": "code",
   "execution_count": 200,
   "id": "a6773dd3",
   "metadata": {},
   "outputs": [],
   "source": [
    "data.drop('Ticket', inplace=True, axis=1)"
   ]
  },
  {
   "cell_type": "code",
   "execution_count": 201,
   "id": "c9043ace",
   "metadata": {},
   "outputs": [],
   "source": [
    "data.drop('Name', inplace=True, axis=1)"
   ]
  },
  {
   "cell_type": "code",
   "execution_count": 202,
   "id": "25003520",
   "metadata": {},
   "outputs": [
    {
     "data": {
      "text/plain": [
       "(891, 9)"
      ]
     },
     "execution_count": 202,
     "metadata": {},
     "output_type": "execute_result"
    }
   ],
   "source": [
    "# Ricontrollo la dimensione del data set\n",
    "data.shape"
   ]
  },
  {
   "cell_type": "code",
   "execution_count": 203,
   "id": "60f408e2",
   "metadata": {},
   "outputs": [
    {
     "data": {
      "text/html": [
       "<div>\n",
       "<style scoped>\n",
       "    .dataframe tbody tr th:only-of-type {\n",
       "        vertical-align: middle;\n",
       "    }\n",
       "\n",
       "    .dataframe tbody tr th {\n",
       "        vertical-align: top;\n",
       "    }\n",
       "\n",
       "    .dataframe thead th {\n",
       "        text-align: right;\n",
       "    }\n",
       "</style>\n",
       "<table border=\"1\" class=\"dataframe\">\n",
       "  <thead>\n",
       "    <tr style=\"text-align: right;\">\n",
       "      <th></th>\n",
       "      <th>Survived</th>\n",
       "      <th>Pclass</th>\n",
       "      <th>Sex</th>\n",
       "      <th>Age</th>\n",
       "      <th>SibSp</th>\n",
       "      <th>Parch</th>\n",
       "      <th>Fare</th>\n",
       "      <th>Cabin</th>\n",
       "      <th>Embarked</th>\n",
       "    </tr>\n",
       "  </thead>\n",
       "  <tbody>\n",
       "    <tr>\n",
       "      <th>0</th>\n",
       "      <td>0</td>\n",
       "      <td>3</td>\n",
       "      <td>male</td>\n",
       "      <td>22.0</td>\n",
       "      <td>1</td>\n",
       "      <td>0</td>\n",
       "      <td>7.2500</td>\n",
       "      <td>NaN</td>\n",
       "      <td>S</td>\n",
       "    </tr>\n",
       "    <tr>\n",
       "      <th>1</th>\n",
       "      <td>1</td>\n",
       "      <td>1</td>\n",
       "      <td>female</td>\n",
       "      <td>38.0</td>\n",
       "      <td>1</td>\n",
       "      <td>0</td>\n",
       "      <td>71.2833</td>\n",
       "      <td>C85</td>\n",
       "      <td>C</td>\n",
       "    </tr>\n",
       "    <tr>\n",
       "      <th>2</th>\n",
       "      <td>1</td>\n",
       "      <td>3</td>\n",
       "      <td>female</td>\n",
       "      <td>26.0</td>\n",
       "      <td>0</td>\n",
       "      <td>0</td>\n",
       "      <td>7.9250</td>\n",
       "      <td>NaN</td>\n",
       "      <td>S</td>\n",
       "    </tr>\n",
       "    <tr>\n",
       "      <th>3</th>\n",
       "      <td>1</td>\n",
       "      <td>1</td>\n",
       "      <td>female</td>\n",
       "      <td>35.0</td>\n",
       "      <td>1</td>\n",
       "      <td>0</td>\n",
       "      <td>53.1000</td>\n",
       "      <td>C123</td>\n",
       "      <td>S</td>\n",
       "    </tr>\n",
       "    <tr>\n",
       "      <th>4</th>\n",
       "      <td>0</td>\n",
       "      <td>3</td>\n",
       "      <td>male</td>\n",
       "      <td>35.0</td>\n",
       "      <td>0</td>\n",
       "      <td>0</td>\n",
       "      <td>8.0500</td>\n",
       "      <td>NaN</td>\n",
       "      <td>S</td>\n",
       "    </tr>\n",
       "    <tr>\n",
       "      <th>...</th>\n",
       "      <td>...</td>\n",
       "      <td>...</td>\n",
       "      <td>...</td>\n",
       "      <td>...</td>\n",
       "      <td>...</td>\n",
       "      <td>...</td>\n",
       "      <td>...</td>\n",
       "      <td>...</td>\n",
       "      <td>...</td>\n",
       "    </tr>\n",
       "    <tr>\n",
       "      <th>886</th>\n",
       "      <td>0</td>\n",
       "      <td>2</td>\n",
       "      <td>male</td>\n",
       "      <td>27.0</td>\n",
       "      <td>0</td>\n",
       "      <td>0</td>\n",
       "      <td>13.0000</td>\n",
       "      <td>NaN</td>\n",
       "      <td>S</td>\n",
       "    </tr>\n",
       "    <tr>\n",
       "      <th>887</th>\n",
       "      <td>1</td>\n",
       "      <td>1</td>\n",
       "      <td>female</td>\n",
       "      <td>19.0</td>\n",
       "      <td>0</td>\n",
       "      <td>0</td>\n",
       "      <td>30.0000</td>\n",
       "      <td>B42</td>\n",
       "      <td>S</td>\n",
       "    </tr>\n",
       "    <tr>\n",
       "      <th>888</th>\n",
       "      <td>0</td>\n",
       "      <td>3</td>\n",
       "      <td>female</td>\n",
       "      <td>NaN</td>\n",
       "      <td>1</td>\n",
       "      <td>2</td>\n",
       "      <td>23.4500</td>\n",
       "      <td>NaN</td>\n",
       "      <td>S</td>\n",
       "    </tr>\n",
       "    <tr>\n",
       "      <th>889</th>\n",
       "      <td>1</td>\n",
       "      <td>1</td>\n",
       "      <td>male</td>\n",
       "      <td>26.0</td>\n",
       "      <td>0</td>\n",
       "      <td>0</td>\n",
       "      <td>30.0000</td>\n",
       "      <td>C148</td>\n",
       "      <td>C</td>\n",
       "    </tr>\n",
       "    <tr>\n",
       "      <th>890</th>\n",
       "      <td>0</td>\n",
       "      <td>3</td>\n",
       "      <td>male</td>\n",
       "      <td>32.0</td>\n",
       "      <td>0</td>\n",
       "      <td>0</td>\n",
       "      <td>7.7500</td>\n",
       "      <td>NaN</td>\n",
       "      <td>Q</td>\n",
       "    </tr>\n",
       "  </tbody>\n",
       "</table>\n",
       "<p>891 rows × 9 columns</p>\n",
       "</div>"
      ],
      "text/plain": [
       "     Survived  Pclass     Sex   Age  SibSp  Parch     Fare Cabin Embarked\n",
       "0           0       3    male  22.0      1      0   7.2500   NaN        S\n",
       "1           1       1  female  38.0      1      0  71.2833   C85        C\n",
       "2           1       3  female  26.0      0      0   7.9250   NaN        S\n",
       "3           1       1  female  35.0      1      0  53.1000  C123        S\n",
       "4           0       3    male  35.0      0      0   8.0500   NaN        S\n",
       "..        ...     ...     ...   ...    ...    ...      ...   ...      ...\n",
       "886         0       2    male  27.0      0      0  13.0000   NaN        S\n",
       "887         1       1  female  19.0      0      0  30.0000   B42        S\n",
       "888         0       3  female   NaN      1      2  23.4500   NaN        S\n",
       "889         1       1    male  26.0      0      0  30.0000  C148        C\n",
       "890         0       3    male  32.0      0      0   7.7500   NaN        Q\n",
       "\n",
       "[891 rows x 9 columns]"
      ]
     },
     "execution_count": 203,
     "metadata": {},
     "output_type": "execute_result"
    }
   ],
   "source": [
    "data"
   ]
  },
  {
   "cell_type": "code",
   "execution_count": 204,
   "id": "e86806e9",
   "metadata": {
    "scrolled": true
   },
   "outputs": [
    {
     "data": {
      "text/plain": [
       "['Sex', 'Cabin', 'Embarked']"
      ]
     },
     "execution_count": 204,
     "metadata": {},
     "output_type": "execute_result"
    }
   ],
   "source": [
    "list(data.select_dtypes(['object']).columns)"
   ]
  },
  {
   "cell_type": "code",
   "execution_count": 205,
   "id": "ec6969a9",
   "metadata": {},
   "outputs": [
    {
     "name": "stdout",
     "output_type": "stream",
     "text": [
      "<class 'pandas.core.frame.DataFrame'>\n",
      "RangeIndex: 891 entries, 0 to 890\n",
      "Data columns (total 9 columns):\n",
      " #   Column    Non-Null Count  Dtype  \n",
      "---  ------    --------------  -----  \n",
      " 0   Survived  891 non-null    int64  \n",
      " 1   Pclass    891 non-null    int64  \n",
      " 2   Sex       891 non-null    object \n",
      " 3   Age       714 non-null    float64\n",
      " 4   SibSp     891 non-null    int64  \n",
      " 5   Parch     891 non-null    int64  \n",
      " 6   Fare      891 non-null    float64\n",
      " 7   Cabin     204 non-null    object \n",
      " 8   Embarked  889 non-null    object \n",
      "dtypes: float64(2), int64(4), object(3)\n",
      "memory usage: 62.8+ KB\n"
     ]
    }
   ],
   "source": [
    "# Struttura del data set \n",
    "data.info()"
   ]
  },
  {
   "cell_type": "code",
   "execution_count": 206,
   "id": "42fe47bf",
   "metadata": {},
   "outputs": [
    {
     "data": {
      "text/plain": [
       "Survived      0\n",
       "Pclass        0\n",
       "Sex           0\n",
       "Age         177\n",
       "SibSp         0\n",
       "Parch         0\n",
       "Fare          0\n",
       "Cabin       687\n",
       "Embarked      2\n",
       "dtype: int64"
      ]
     },
     "execution_count": 206,
     "metadata": {},
     "output_type": "execute_result"
    }
   ],
   "source": [
    "# Controllo eventuali valori mancanti\n",
    "data.isnull().sum()"
   ]
  },
  {
   "cell_type": "code",
   "execution_count": 207,
   "id": "9155f552",
   "metadata": {},
   "outputs": [],
   "source": [
    "# Elimino la variabile Cabin \n",
    "data.drop('Cabin', inplace=True, axis=1)"
   ]
  },
  {
   "cell_type": "code",
   "execution_count": 208,
   "id": "d136d239",
   "metadata": {},
   "outputs": [],
   "source": [
    "# Elimino le due osservazioni in cui Embarked is null\n",
    "index = data[data['Embarked'].isnull()].index.tolist() # Indici\n",
    "data.drop(data.index[index], inplace=True)"
   ]
  },
  {
   "cell_type": "code",
   "execution_count": 209,
   "id": "5df22907",
   "metadata": {},
   "outputs": [],
   "source": [
    "# Metodo di imputazione per Age -> Mediana\n",
    "data['Age'] = data['Age'].fillna(data['Age'].median())"
   ]
  },
  {
   "cell_type": "code",
   "execution_count": 210,
   "id": "1bc4219e",
   "metadata": {},
   "outputs": [
    {
     "name": "stdout",
     "output_type": "stream",
     "text": [
      "Not survived 61.75%, while Survived is 38.25%.\n"
     ]
    }
   ],
   "source": [
    "# Data information and visualization\n",
    "not_survived = round((sum(data['Survived'] == 0) / transformed_data.shape[0]) * 100, 2) # Not Survived\n",
    "survived = round((sum(data['Survived'] == 1) / transformed_data.shape[0]) * 100, 2)  # Survived\n",
    "print(f\"Not survived {not_survived}%, while Survived is {survived}%.\")"
   ]
  },
  {
   "cell_type": "code",
   "execution_count": 211,
   "id": "22836b36",
   "metadata": {},
   "outputs": [
    {
     "data": {
      "text/plain": [
       "<AxesSubplot:xlabel='Sex', ylabel='counts'>"
      ]
     },
     "execution_count": 211,
     "metadata": {},
     "output_type": "execute_result"
    },
    {
     "data": {
      "image/png": "[encoded data removed]",
      "text/plain": [
       "<Figure size 432x288 with 1 Axes>"
      ]
     },
     "metadata": {
      "needs_background": "light"
     },
     "output_type": "display_data"
    }
   ],
   "source": [
    "# Survived vs Sex\n",
    "analytics_1 = data.groupby(['Survived','Sex']).size().reset_index(name='counts')\n",
    "sns.barplot(x='Sex',y='counts', hue='Survived',data = analytics_1)"
   ]
  },
  {
   "cell_type": "code",
   "execution_count": 212,
   "id": "b17d9636",
   "metadata": {},
   "outputs": [
    {
     "data": {
      "text/plain": [
       "<AxesSubplot:xlabel='Survived', ylabel='counts'>"
      ]
     },
     "execution_count": 212,
     "metadata": {},
     "output_type": "execute_result"
    },
    {
     "data": {
      "image/png": "[encoded data removed]",
      "text/plain": [
       "<Figure size 432x288 with 1 Axes>"
      ]
     },
     "metadata": {
      "needs_background": "light"
     },
     "output_type": "display_data"
    }
   ],
   "source": [
    "# Survived vs Pclass\n",
    "analytics_2 = data.groupby(['Survived', 'Pclass']).size().reset_index(name='counts')\n",
    "sns.barplot(x='Survived',y='counts', hue='Pclass',data = analytics_2)"
   ]
  },
  {
   "cell_type": "code",
   "execution_count": 213,
   "id": "0d7e3c16",
   "metadata": {},
   "outputs": [
    {
     "data": {
      "text/plain": [
       "count    889.000000\n",
       "mean      32.096681\n",
       "std       49.697504\n",
       "min        0.000000\n",
       "25%        7.895800\n",
       "50%       14.454200\n",
       "75%       31.000000\n",
       "max      512.329200\n",
       "Name: Fare, dtype: float64"
      ]
     },
     "execution_count": 213,
     "metadata": {},
     "output_type": "execute_result"
    }
   ],
   "source": [
    "# Fare  -> Descriptive statistics\n",
    "data['Fare'].describe()"
   ]
  },
  {
   "cell_type": "code",
   "execution_count": 214,
   "id": "61809a9e",
   "metadata": {},
   "outputs": [
    {
     "data": {
      "text/plain": [
       "<AxesSubplot:xlabel='Pclass', ylabel='Median'>"
      ]
     },
     "execution_count": 214,
     "metadata": {},
     "output_type": "execute_result"
    },
    {
     "data": {
      "image/png": "[encoded data removed]",
      "text/plain": [
       "<Figure size 432x288 with 1 Axes>"
      ]
     },
     "metadata": {
      "needs_background": "light"
     },
     "output_type": "display_data"
    }
   ],
   "source": [
    "# Fare vs Pclass\n",
    "analytics_3 = data.groupby(['Pclass']).Fare.median().reset_index(name='Median')\n",
    "sns.barplot(x='Pclass', y ='Median', data=analytics_3 )"
   ]
  },
  {
   "cell_type": "code",
   "execution_count": 215,
   "id": "8c6d68c0",
   "metadata": {},
   "outputs": [
    {
     "data": {
      "text/html": [
       "<div>\n",
       "<style scoped>\n",
       "    .dataframe tbody tr th:only-of-type {\n",
       "        vertical-align: middle;\n",
       "    }\n",
       "\n",
       "    .dataframe tbody tr th {\n",
       "        vertical-align: top;\n",
       "    }\n",
       "\n",
       "    .dataframe thead th {\n",
       "        text-align: right;\n",
       "    }\n",
       "</style>\n",
       "<table border=\"1\" class=\"dataframe\">\n",
       "  <thead>\n",
       "    <tr style=\"text-align: right;\">\n",
       "      <th></th>\n",
       "      <th>Sex</th>\n",
       "      <th>Median</th>\n",
       "    </tr>\n",
       "  </thead>\n",
       "  <tbody>\n",
       "    <tr>\n",
       "      <th>0</th>\n",
       "      <td>female</td>\n",
       "      <td>23.0</td>\n",
       "    </tr>\n",
       "    <tr>\n",
       "      <th>1</th>\n",
       "      <td>male</td>\n",
       "      <td>10.5</td>\n",
       "    </tr>\n",
       "  </tbody>\n",
       "</table>\n",
       "</div>"
      ],
      "text/plain": [
       "      Sex  Median\n",
       "0  female    23.0\n",
       "1    male    10.5"
      ]
     },
     "execution_count": 215,
     "metadata": {},
     "output_type": "execute_result"
    }
   ],
   "source": [
    "# Fare vs Sex\n",
    "analytics_4 = data.groupby(['Sex']).Fare.median().reset_index(name='Median')\n",
    "analytics_4"
   ]
  },
  {
   "cell_type": "code",
   "execution_count": 216,
   "id": "88be46a9",
   "metadata": {},
   "outputs": [
    {
     "data": {
      "text/plain": [
       "<AxesSubplot:xlabel='Sex', ylabel='Median'>"
      ]
     },
     "execution_count": 216,
     "metadata": {},
     "output_type": "execute_result"
    },
    {
     "data": {
      "image/png": "[encoded data removed]",
      "text/plain": [
       "<Figure size 432x288 with 1 Axes>"
      ]
     },
     "metadata": {
      "needs_background": "light"
     },
     "output_type": "display_data"
    }
   ],
   "source": [
    "# Fare  vs Sex vs Pclass\n",
    "analytics_5 = data.groupby(['Sex','Pclass']).Fare.median().reset_index(name='Median')\n",
    "sns.barplot(x='Sex', y='Median', hue='Pclass', data=analytics_5)"
   ]
  },
  {
   "cell_type": "code",
   "execution_count": 217,
   "id": "9af252b4",
   "metadata": {},
   "outputs": [
    {
     "data": {
      "text/plain": [
       "<AxesSubplot:xlabel='Embarked', ylabel='Median'>"
      ]
     },
     "execution_count": 217,
     "metadata": {},
     "output_type": "execute_result"
    },
    {
     "data": {
      "image/png": "[encoded data removed]",
      "text/plain": [
       "<Figure size 432x288 with 1 Axes>"
      ]
     },
     "metadata": {
      "needs_background": "light"
     },
     "output_type": "display_data"
    }
   ],
   "source": [
    "# Fare vs Embark\n",
    "analytics_6 = data.groupby(['Embarked']).Fare.median().reset_index(name='Median')\n",
    "sns.barplot(x='Embarked', y='Median', data=analytics_6)"
   ]
  },
  {
   "cell_type": "code",
   "execution_count": 218,
   "id": "4b17933f",
   "metadata": {},
   "outputs": [
    {
     "data": {
      "text/html": [
       "<style type=\"text/css\">\n",
       "#T_45e08_row0_col0, #T_45e08_row1_col1, #T_45e08_row2_col2, #T_45e08_row3_col3, #T_45e08_row4_col4, #T_45e08_row5_col5 {\n",
       "  background-color: #b40426;\n",
       "  color: #f1f1f1;\n",
       "}\n",
       "#T_45e08_row0_col1, #T_45e08_row2_col1 {\n",
       "  background-color: #6687ed;\n",
       "  color: #f1f1f1;\n",
       "}\n",
       "#T_45e08_row0_col2 {\n",
       "  background-color: #7b9ff9;\n",
       "  color: #f1f1f1;\n",
       "}\n",
       "#T_45e08_row0_col3, #T_45e08_row1_col4 {\n",
       "  background-color: #6e90f2;\n",
       "  color: #f1f1f1;\n",
       "}\n",
       "#T_45e08_row0_col4 {\n",
       "  background-color: #81a4fb;\n",
       "  color: #f1f1f1;\n",
       "}\n",
       "#T_45e08_row0_col5 {\n",
       "  background-color: #e1dad6;\n",
       "  color: #000000;\n",
       "}\n",
       "#T_45e08_row1_col0, #T_45e08_row1_col2, #T_45e08_row1_col5, #T_45e08_row2_col3, #T_45e08_row2_col4, #T_45e08_row5_col1 {\n",
       "  background-color: #3b4cc0;\n",
       "  color: #f1f1f1;\n",
       "}\n",
       "#T_45e08_row1_col3 {\n",
       "  background-color: #8fb1fe;\n",
       "  color: #000000;\n",
       "}\n",
       "#T_45e08_row2_col0 {\n",
       "  background-color: #7a9df8;\n",
       "  color: #f1f1f1;\n",
       "}\n",
       "#T_45e08_row2_col5 {\n",
       "  background-color: #c5d6f2;\n",
       "  color: #000000;\n",
       "}\n",
       "#T_45e08_row3_col0 {\n",
       "  background-color: #84a7fc;\n",
       "  color: #f1f1f1;\n",
       "}\n",
       "#T_45e08_row3_col1 {\n",
       "  background-color: #c3d5f4;\n",
       "  color: #000000;\n",
       "}\n",
       "#T_45e08_row3_col2 {\n",
       "  background-color: #516ddb;\n",
       "  color: #f1f1f1;\n",
       "}\n",
       "#T_45e08_row3_col4 {\n",
       "  background-color: #dddcdc;\n",
       "  color: #000000;\n",
       "}\n",
       "#T_45e08_row3_col5 {\n",
       "  background-color: #d2dbe8;\n",
       "  color: #000000;\n",
       "}\n",
       "#T_45e08_row4_col0 {\n",
       "  background-color: #a3c2fe;\n",
       "  color: #000000;\n",
       "}\n",
       "#T_45e08_row4_col1 {\n",
       "  background-color: #b5cdfa;\n",
       "  color: #000000;\n",
       "}\n",
       "#T_45e08_row4_col2 {\n",
       "  background-color: #6180e9;\n",
       "  color: #f1f1f1;\n",
       "}\n",
       "#T_45e08_row4_col3 {\n",
       "  background-color: #e3d9d3;\n",
       "  color: #000000;\n",
       "}\n",
       "#T_45e08_row4_col5 {\n",
       "  background-color: #dbdcde;\n",
       "  color: #000000;\n",
       "}\n",
       "#T_45e08_row5_col0 {\n",
       "  background-color: #cdd9ec;\n",
       "  color: #000000;\n",
       "}\n",
       "#T_45e08_row5_col2 {\n",
       "  background-color: #a6c4fe;\n",
       "  color: #000000;\n",
       "}\n",
       "#T_45e08_row5_col3 {\n",
       "  background-color: #a5c3fe;\n",
       "  color: #000000;\n",
       "}\n",
       "#T_45e08_row5_col4 {\n",
       "  background-color: #aac7fd;\n",
       "  color: #000000;\n",
       "}\n",
       "</style>\n",
       "<table id=\"T_45e08\">\n",
       "  <thead>\n",
       "    <tr>\n",
       "      <th class=\"blank level0\" >&nbsp;</th>\n",
       "      <th id=\"T_45e08_level0_col0\" class=\"col_heading level0 col0\" >Survived</th>\n",
       "      <th id=\"T_45e08_level0_col1\" class=\"col_heading level0 col1\" >Pclass</th>\n",
       "      <th id=\"T_45e08_level0_col2\" class=\"col_heading level0 col2\" >Age</th>\n",
       "      <th id=\"T_45e08_level0_col3\" class=\"col_heading level0 col3\" >SibSp</th>\n",
       "      <th id=\"T_45e08_level0_col4\" class=\"col_heading level0 col4\" >Parch</th>\n",
       "      <th id=\"T_45e08_level0_col5\" class=\"col_heading level0 col5\" >Fare</th>\n",
       "    </tr>\n",
       "  </thead>\n",
       "  <tbody>\n",
       "    <tr>\n",
       "      <th id=\"T_45e08_level0_row0\" class=\"row_heading level0 row0\" >Survived</th>\n",
       "      <td id=\"T_45e08_row0_col0\" class=\"data row0 col0\" >1.000000</td>\n",
       "      <td id=\"T_45e08_row0_col1\" class=\"data row0 col1\" >-0.335549</td>\n",
       "      <td id=\"T_45e08_row0_col2\" class=\"data row0 col2\" >-0.069822</td>\n",
       "      <td id=\"T_45e08_row0_col3\" class=\"data row0 col3\" >-0.034040</td>\n",
       "      <td id=\"T_45e08_row0_col4\" class=\"data row0 col4\" >0.083151</td>\n",
       "      <td id=\"T_45e08_row0_col5\" class=\"data row0 col5\" >0.255290</td>\n",
       "    </tr>\n",
       "    <tr>\n",
       "      <th id=\"T_45e08_level0_row1\" class=\"row_heading level0 row1\" >Pclass</th>\n",
       "      <td id=\"T_45e08_row1_col0\" class=\"data row1 col0\" >-0.335549</td>\n",
       "      <td id=\"T_45e08_row1_col1\" class=\"data row1 col1\" >1.000000</td>\n",
       "      <td id=\"T_45e08_row1_col2\" class=\"data row1 col2\" >-0.336512</td>\n",
       "      <td id=\"T_45e08_row1_col3\" class=\"data row1 col3\" >0.081656</td>\n",
       "      <td id=\"T_45e08_row1_col4\" class=\"data row1 col4\" >0.016824</td>\n",
       "      <td id=\"T_45e08_row1_col5\" class=\"data row1 col5\" >-0.548193</td>\n",
       "    </tr>\n",
       "    <tr>\n",
       "      <th id=\"T_45e08_level0_row2\" class=\"row_heading level0 row2\" >Age</th>\n",
       "      <td id=\"T_45e08_row2_col0\" class=\"data row2 col0\" >-0.069822</td>\n",
       "      <td id=\"T_45e08_row2_col1\" class=\"data row2 col1\" >-0.336512</td>\n",
       "      <td id=\"T_45e08_row2_col2\" class=\"data row2 col2\" >1.000000</td>\n",
       "      <td id=\"T_45e08_row2_col3\" class=\"data row2 col3\" >-0.232543</td>\n",
       "      <td id=\"T_45e08_row2_col4\" class=\"data row2 col4\" >-0.171485</td>\n",
       "      <td id=\"T_45e08_row2_col5\" class=\"data row2 col5\" >0.093707</td>\n",
       "    </tr>\n",
       "    <tr>\n",
       "      <th id=\"T_45e08_level0_row3\" class=\"row_heading level0 row3\" >SibSp</th>\n",
       "      <td id=\"T_45e08_row3_col0\" class=\"data row3 col0\" >-0.034040</td>\n",
       "      <td id=\"T_45e08_row3_col1\" class=\"data row3 col1\" >0.081656</td>\n",
       "      <td id=\"T_45e08_row3_col2\" class=\"data row3 col2\" >-0.232543</td>\n",
       "      <td id=\"T_45e08_row3_col3\" class=\"data row3 col3\" >1.000000</td>\n",
       "      <td id=\"T_45e08_row3_col4\" class=\"data row3 col4\" >0.414542</td>\n",
       "      <td id=\"T_45e08_row3_col5\" class=\"data row3 col5\" >0.160887</td>\n",
       "    </tr>\n",
       "    <tr>\n",
       "      <th id=\"T_45e08_level0_row4\" class=\"row_heading level0 row4\" >Parch</th>\n",
       "      <td id=\"T_45e08_row4_col0\" class=\"data row4 col0\" >0.083151</td>\n",
       "      <td id=\"T_45e08_row4_col1\" class=\"data row4 col1\" >0.016824</td>\n",
       "      <td id=\"T_45e08_row4_col2\" class=\"data row4 col2\" >-0.171485</td>\n",
       "      <td id=\"T_45e08_row4_col3\" class=\"data row4 col3\" >0.414542</td>\n",
       "      <td id=\"T_45e08_row4_col4\" class=\"data row4 col4\" >1.000000</td>\n",
       "      <td id=\"T_45e08_row4_col5\" class=\"data row4 col5\" >0.217532</td>\n",
       "    </tr>\n",
       "    <tr>\n",
       "      <th id=\"T_45e08_level0_row5\" class=\"row_heading level0 row5\" >Fare</th>\n",
       "      <td id=\"T_45e08_row5_col0\" class=\"data row5 col0\" >0.255290</td>\n",
       "      <td id=\"T_45e08_row5_col1\" class=\"data row5 col1\" >-0.548193</td>\n",
       "      <td id=\"T_45e08_row5_col2\" class=\"data row5 col2\" >0.093707</td>\n",
       "      <td id=\"T_45e08_row5_col3\" class=\"data row5 col3\" >0.160887</td>\n",
       "      <td id=\"T_45e08_row5_col4\" class=\"data row5 col4\" >0.217532</td>\n",
       "      <td id=\"T_45e08_row5_col5\" class=\"data row5 col5\" >1.000000</td>\n",
       "    </tr>\n",
       "  </tbody>\n",
       "</table>\n"
      ],
      "text/plain": [
       "<pandas.io.formats.style.Styler at 0x1bab58771c0>"
      ]
     },
     "execution_count": 218,
     "metadata": {},
     "output_type": "execute_result"
    }
   ],
   "source": [
    "# Correlation\n",
    "corr = data.corr()\n",
    "corr.style.background_gradient(cmap='coolwarm') #Corr(Pclass, Fare) = -0.54 -> When Pclass = 1 -> Fare + \n",
    "                                                                               # When Pclass = 2 -> Fare -\n",
    "                                                                               # When Pclass = 3 -> Fare --"
   ]
  },
  {
   "cell_type": "code",
   "execution_count": 219,
   "id": "debc4f8f",
   "metadata": {},
   "outputs": [],
   "source": [
    "# Machine learning"
   ]
  },
  {
   "cell_type": "code",
   "execution_count": 220,
   "id": "5da27bef",
   "metadata": {},
   "outputs": [],
   "source": [
    "# Cambio struttura del data set -> OneHotEncoding \n",
    "from sklearn.preprocessing import OneHotEncoder\n",
    "from sklearn.compose import make_column_transformer\n",
    "\n",
    "transformer = make_column_transformer(\n",
    "    (OneHotEncoder(drop='first', sparse=False), ['Pclass', 'Sex', 'Embarked']),\n",
    "    remainder='passthrough')\n",
    "\n",
    "transformed = transformer.fit_transform(data)\n",
    "transformed_data = pd.DataFrame(\n",
    "    transformed, \n",
    "    columns=transformer.get_feature_names_out()\n",
    ")\n"
   ]
  },
  {
   "cell_type": "code",
   "execution_count": 221,
   "id": "77929f1c",
   "metadata": {},
   "outputs": [
    {
     "data": {
      "text/plain": [
       "' Per evitare la trappola delle variabili dummy bisogna inserire nel modello un numero di dummy\\nche è sempre pari a uno in meno rispetto ai vari livelli che la variabile categoriale in esame\\nassume. Questo è importate per evitare il problema della multicollinearità'"
      ]
     },
     "execution_count": 221,
     "metadata": {},
     "output_type": "execute_result"
    }
   ],
   "source": [
    "transformed_data # Pclass1,Female, EmbarkedC -> Baseline\n",
    "\n",
    "''' Per evitare la trappola delle variabili dummy bisogna inserire nel modello un numero di dummy\n",
    "che è sempre pari a uno in meno rispetto ai vari livelli che la variabile categoriale in esame\n",
    "assume. Questo è importate per evitare il problema della multicollinearità'''"
   ]
  },
  {
   "cell_type": "code",
   "execution_count": 222,
   "id": "5dfb9e86",
   "metadata": {},
   "outputs": [
    {
     "data": {
      "text/plain": [
       "(889, 10)"
      ]
     },
     "execution_count": 222,
     "metadata": {},
     "output_type": "execute_result"
    }
   ],
   "source": [
    "# Nuove dimensioni del data set\n",
    "transformed_data.shape"
   ]
  },
  {
   "cell_type": "code",
   "execution_count": 223,
   "id": "fe3af0ea",
   "metadata": {},
   "outputs": [
    {
     "data": {
      "text/plain": [
       "array(['onehotencoder__Pclass_2', 'onehotencoder__Pclass_3',\n",
       "       'onehotencoder__Sex_male', 'onehotencoder__Embarked_Q',\n",
       "       'onehotencoder__Embarked_S', 'remainder__Survived',\n",
       "       'remainder__Age', 'remainder__SibSp', 'remainder__Parch',\n",
       "       'remainder__Fare'], dtype=object)"
      ]
     },
     "execution_count": 223,
     "metadata": {},
     "output_type": "execute_result"
    }
   ],
   "source": [
    "# Colonne del data set trasformato\n",
    "transformed_data.columns.values"
   ]
  },
  {
   "cell_type": "code",
   "execution_count": 224,
   "id": "9b17fa08",
   "metadata": {},
   "outputs": [],
   "source": [
    "# Rinominiamo le colonne del data set\n",
    "transformed_data.columns = ['Passenger Class2', 'Passenger Class3', 'Male',\n",
    "                           'Port_of_Embarkation_Q', 'Port_of_Embarkation_S', 'Survived', 'Age', 'SibSp', 'Parch', 'Fare']"
   ]
  },
  {
   "cell_type": "code",
   "execution_count": 225,
   "id": "17fe7a6c",
   "metadata": {},
   "outputs": [
    {
     "data": {
      "text/plain": [
       "array(['Passenger Class2', 'Passenger Class3', 'Male',\n",
       "       'Port_of_Embarkation_Q', 'Port_of_Embarkation_S', 'Survived',\n",
       "       'Age', 'SibSp', 'Parch', 'Fare'], dtype=object)"
      ]
     },
     "execution_count": 225,
     "metadata": {},
     "output_type": "execute_result"
    }
   ],
   "source": [
    "transformed_data.columns.values"
   ]
  },
  {
   "cell_type": "code",
   "execution_count": 226,
   "id": "80b3630a",
   "metadata": {},
   "outputs": [
    {
     "data": {
      "text/html": [
       "<div>\n",
       "<style scoped>\n",
       "    .dataframe tbody tr th:only-of-type {\n",
       "        vertical-align: middle;\n",
       "    }\n",
       "\n",
       "    .dataframe tbody tr th {\n",
       "        vertical-align: top;\n",
       "    }\n",
       "\n",
       "    .dataframe thead th {\n",
       "        text-align: right;\n",
       "    }\n",
       "</style>\n",
       "<table border=\"1\" class=\"dataframe\">\n",
       "  <thead>\n",
       "    <tr style=\"text-align: right;\">\n",
       "      <th></th>\n",
       "      <th>Passenger Class2</th>\n",
       "      <th>Passenger Class3</th>\n",
       "      <th>Male</th>\n",
       "      <th>Port_of_Embarkation_Q</th>\n",
       "      <th>Port_of_Embarkation_S</th>\n",
       "      <th>Survived</th>\n",
       "      <th>Age</th>\n",
       "      <th>SibSp</th>\n",
       "      <th>Parch</th>\n",
       "      <th>Fare</th>\n",
       "    </tr>\n",
       "  </thead>\n",
       "  <tbody>\n",
       "    <tr>\n",
       "      <th>0</th>\n",
       "      <td>0.0</td>\n",
       "      <td>1.0</td>\n",
       "      <td>1.0</td>\n",
       "      <td>0.0</td>\n",
       "      <td>1.0</td>\n",
       "      <td>0.0</td>\n",
       "      <td>22.0</td>\n",
       "      <td>1.0</td>\n",
       "      <td>0.0</td>\n",
       "      <td>7.2500</td>\n",
       "    </tr>\n",
       "    <tr>\n",
       "      <th>1</th>\n",
       "      <td>0.0</td>\n",
       "      <td>0.0</td>\n",
       "      <td>0.0</td>\n",
       "      <td>0.0</td>\n",
       "      <td>0.0</td>\n",
       "      <td>1.0</td>\n",
       "      <td>38.0</td>\n",
       "      <td>1.0</td>\n",
       "      <td>0.0</td>\n",
       "      <td>71.2833</td>\n",
       "    </tr>\n",
       "    <tr>\n",
       "      <th>2</th>\n",
       "      <td>0.0</td>\n",
       "      <td>1.0</td>\n",
       "      <td>0.0</td>\n",
       "      <td>0.0</td>\n",
       "      <td>1.0</td>\n",
       "      <td>1.0</td>\n",
       "      <td>26.0</td>\n",
       "      <td>0.0</td>\n",
       "      <td>0.0</td>\n",
       "      <td>7.9250</td>\n",
       "    </tr>\n",
       "    <tr>\n",
       "      <th>3</th>\n",
       "      <td>0.0</td>\n",
       "      <td>0.0</td>\n",
       "      <td>0.0</td>\n",
       "      <td>0.0</td>\n",
       "      <td>1.0</td>\n",
       "      <td>1.0</td>\n",
       "      <td>35.0</td>\n",
       "      <td>1.0</td>\n",
       "      <td>0.0</td>\n",
       "      <td>53.1000</td>\n",
       "    </tr>\n",
       "    <tr>\n",
       "      <th>4</th>\n",
       "      <td>0.0</td>\n",
       "      <td>1.0</td>\n",
       "      <td>1.0</td>\n",
       "      <td>0.0</td>\n",
       "      <td>1.0</td>\n",
       "      <td>0.0</td>\n",
       "      <td>35.0</td>\n",
       "      <td>0.0</td>\n",
       "      <td>0.0</td>\n",
       "      <td>8.0500</td>\n",
       "    </tr>\n",
       "    <tr>\n",
       "      <th>...</th>\n",
       "      <td>...</td>\n",
       "      <td>...</td>\n",
       "      <td>...</td>\n",
       "      <td>...</td>\n",
       "      <td>...</td>\n",
       "      <td>...</td>\n",
       "      <td>...</td>\n",
       "      <td>...</td>\n",
       "      <td>...</td>\n",
       "      <td>...</td>\n",
       "    </tr>\n",
       "    <tr>\n",
       "      <th>884</th>\n",
       "      <td>1.0</td>\n",
       "      <td>0.0</td>\n",
       "      <td>1.0</td>\n",
       "      <td>0.0</td>\n",
       "      <td>1.0</td>\n",
       "      <td>0.0</td>\n",
       "      <td>27.0</td>\n",
       "      <td>0.0</td>\n",
       "      <td>0.0</td>\n",
       "      <td>13.0000</td>\n",
       "    </tr>\n",
       "    <tr>\n",
       "      <th>885</th>\n",
       "      <td>0.0</td>\n",
       "      <td>0.0</td>\n",
       "      <td>0.0</td>\n",
       "      <td>0.0</td>\n",
       "      <td>1.0</td>\n",
       "      <td>1.0</td>\n",
       "      <td>19.0</td>\n",
       "      <td>0.0</td>\n",
       "      <td>0.0</td>\n",
       "      <td>30.0000</td>\n",
       "    </tr>\n",
       "    <tr>\n",
       "      <th>886</th>\n",
       "      <td>0.0</td>\n",
       "      <td>1.0</td>\n",
       "      <td>0.0</td>\n",
       "      <td>0.0</td>\n",
       "      <td>1.0</td>\n",
       "      <td>0.0</td>\n",
       "      <td>28.0</td>\n",
       "      <td>1.0</td>\n",
       "      <td>2.0</td>\n",
       "      <td>23.4500</td>\n",
       "    </tr>\n",
       "    <tr>\n",
       "      <th>887</th>\n",
       "      <td>0.0</td>\n",
       "      <td>0.0</td>\n",
       "      <td>1.0</td>\n",
       "      <td>0.0</td>\n",
       "      <td>0.0</td>\n",
       "      <td>1.0</td>\n",
       "      <td>26.0</td>\n",
       "      <td>0.0</td>\n",
       "      <td>0.0</td>\n",
       "      <td>30.0000</td>\n",
       "    </tr>\n",
       "    <tr>\n",
       "      <th>888</th>\n",
       "      <td>0.0</td>\n",
       "      <td>1.0</td>\n",
       "      <td>1.0</td>\n",
       "      <td>1.0</td>\n",
       "      <td>0.0</td>\n",
       "      <td>0.0</td>\n",
       "      <td>32.0</td>\n",
       "      <td>0.0</td>\n",
       "      <td>0.0</td>\n",
       "      <td>7.7500</td>\n",
       "    </tr>\n",
       "  </tbody>\n",
       "</table>\n",
       "<p>889 rows × 10 columns</p>\n",
       "</div>"
      ],
      "text/plain": [
       "     Passenger Class2  Passenger Class3  Male  Port_of_Embarkation_Q  \\\n",
       "0                 0.0               1.0   1.0                    0.0   \n",
       "1                 0.0               0.0   0.0                    0.0   \n",
       "2                 0.0               1.0   0.0                    0.0   \n",
       "3                 0.0               0.0   0.0                    0.0   \n",
       "4                 0.0               1.0   1.0                    0.0   \n",
       "..                ...               ...   ...                    ...   \n",
       "884               1.0               0.0   1.0                    0.0   \n",
       "885               0.0               0.0   0.0                    0.0   \n",
       "886               0.0               1.0   0.0                    0.0   \n",
       "887               0.0               0.0   1.0                    0.0   \n",
       "888               0.0               1.0   1.0                    1.0   \n",
       "\n",
       "     Port_of_Embarkation_S  Survived   Age  SibSp  Parch     Fare  \n",
       "0                      1.0       0.0  22.0    1.0    0.0   7.2500  \n",
       "1                      0.0       1.0  38.0    1.0    0.0  71.2833  \n",
       "2                      1.0       1.0  26.0    0.0    0.0   7.9250  \n",
       "3                      1.0       1.0  35.0    1.0    0.0  53.1000  \n",
       "4                      1.0       0.0  35.0    0.0    0.0   8.0500  \n",
       "..                     ...       ...   ...    ...    ...      ...  \n",
       "884                    1.0       0.0  27.0    0.0    0.0  13.0000  \n",
       "885                    1.0       1.0  19.0    0.0    0.0  30.0000  \n",
       "886                    1.0       0.0  28.0    1.0    2.0  23.4500  \n",
       "887                    0.0       1.0  26.0    0.0    0.0  30.0000  \n",
       "888                    0.0       0.0  32.0    0.0    0.0   7.7500  \n",
       "\n",
       "[889 rows x 10 columns]"
      ]
     },
     "execution_count": 226,
     "metadata": {},
     "output_type": "execute_result"
    }
   ],
   "source": [
    "transformed_data"
   ]
  },
  {
   "cell_type": "code",
   "execution_count": 227,
   "id": "4423cc95",
   "metadata": {},
   "outputs": [
    {
     "data": {
      "text/plain": [
       "Passenger Class2         0\n",
       "Passenger Class3         0\n",
       "Male                     0\n",
       "Port_of_Embarkation_Q    0\n",
       "Port_of_Embarkation_S    0\n",
       "Survived                 0\n",
       "Age                      0\n",
       "SibSp                    0\n",
       "Parch                    0\n",
       "Fare                     0\n",
       "dtype: int64"
      ]
     },
     "execution_count": 227,
     "metadata": {},
     "output_type": "execute_result"
    }
   ],
   "source": [
    "transformed_data.isnull().sum()"
   ]
  },
  {
   "cell_type": "code",
   "execution_count": 228,
   "id": "252a4636",
   "metadata": {},
   "outputs": [
    {
     "name": "stdout",
     "output_type": "stream",
     "text": [
      "<class 'pandas.core.frame.DataFrame'>\n",
      "RangeIndex: 889 entries, 0 to 888\n",
      "Data columns (total 10 columns):\n",
      " #   Column                 Non-Null Count  Dtype  \n",
      "---  ------                 --------------  -----  \n",
      " 0   Passenger Class2       889 non-null    float64\n",
      " 1   Passenger Class3       889 non-null    float64\n",
      " 2   Male                   889 non-null    float64\n",
      " 3   Port_of_Embarkation_Q  889 non-null    float64\n",
      " 4   Port_of_Embarkation_S  889 non-null    float64\n",
      " 5   Survived               889 non-null    float64\n",
      " 6   Age                    889 non-null    float64\n",
      " 7   SibSp                  889 non-null    float64\n",
      " 8   Parch                  889 non-null    float64\n",
      " 9   Fare                   889 non-null    float64\n",
      "dtypes: float64(10)\n",
      "memory usage: 69.6 KB\n"
     ]
    }
   ],
   "source": [
    "transformed_data.info()"
   ]
  },
  {
   "cell_type": "code",
   "execution_count": 229,
   "id": "92723119",
   "metadata": {},
   "outputs": [],
   "source": [
    "# Split data in Train and Test set \n",
    "features = ['Passenger Class2','Passenger Class3', 'Male', 'Port_of_Embarkation_Q', 'Port_of_Embarkation_S',\n",
    "           'Age', 'SibSp', 'Parch', 'Fare']\n",
    "\n",
    "X = transformed_data.loc[:, features]\n",
    "\n",
    "y = transformed_data.loc[:, ['Survived']]"
   ]
  },
  {
   "cell_type": "code",
   "execution_count": 230,
   "id": "105a7ba0",
   "metadata": {},
   "outputs": [],
   "source": [
    "from sklearn.model_selection import train_test_split\n",
    "X_train, X_test, y_train, y_test = train_test_split(X, y, random_state=0, train_size = .75)"
   ]
  },
  {
   "cell_type": "code",
   "execution_count": 231,
   "id": "9fcd2823",
   "metadata": {},
   "outputs": [],
   "source": [
    "# Standardization\n",
    "from sklearn.preprocessing import StandardScaler\n",
    "X_train[['Age', 'Fare']] = StandardScaler().fit_transform(X_train[['Age', 'Fare']])\n",
    "X_test[['Age', 'Fare']] = StandardScaler().fit_transform(X_test[['Age', 'Fare']])\n"
   ]
  },
  {
   "cell_type": "code",
   "execution_count": 232,
   "id": "be41c76d",
   "metadata": {},
   "outputs": [],
   "source": [
    "# Models "
   ]
  },
  {
   "cell_type": "code",
   "execution_count": 233,
   "id": "3a61101d",
   "metadata": {},
   "outputs": [
    {
     "data": {
      "text/plain": [
       "KNeighborsClassifier()"
      ]
     },
     "execution_count": 233,
     "metadata": {},
     "output_type": "execute_result"
    }
   ],
   "source": [
    "# KNN -> K = 5 Train set\n",
    "from sklearn import neighbors\n",
    "knn_5 = neighbors.KNeighborsClassifier(n_neighbors=5)\n",
    "knn_5.fit(X_train, y_train.values.ravel())"
   ]
  },
  {
   "cell_type": "code",
   "execution_count": 234,
   "id": "20fd1ae3",
   "metadata": {},
   "outputs": [
    {
     "data": {
      "text/plain": [
       "KNeighborsClassifier(n_neighbors=10)"
      ]
     },
     "execution_count": 234,
     "metadata": {},
     "output_type": "execute_result"
    }
   ],
   "source": [
    "# KNN -> K = 10 Train set\n",
    "knn_10 = neighbors.KNeighborsClassifier(n_neighbors=10)\n",
    "knn_10.fit(X_train, y_train.values.ravel())"
   ]
  },
  {
   "cell_type": "code",
   "execution_count": 235,
   "id": "31a41bc5",
   "metadata": {},
   "outputs": [],
   "source": [
    "# Predict on Test set"
   ]
  },
  {
   "cell_type": "code",
   "execution_count": 236,
   "id": "9149292f",
   "metadata": {},
   "outputs": [
    {
     "data": {
      "text/plain": [
       "array([1., 0., 1., 0., 0., 0., 0., 0., 0., 1., 0., 1., 1., 1., 1., 0., 1.,\n",
       "       0., 0., 1., 1., 1., 0., 0., 0., 0., 0., 1., 0., 0., 1., 0., 0., 1.,\n",
       "       0., 0., 0., 0., 0., 0., 1., 0., 1., 0., 1., 0., 0., 0., 0., 0., 0.,\n",
       "       0., 0., 0., 0., 0., 1., 0., 0., 0., 1., 0., 0., 0., 0., 0., 1., 1.,\n",
       "       1., 1., 1., 0., 0., 1., 1., 0., 0., 0., 1., 0., 0., 1., 1., 1., 1.,\n",
       "       1., 0., 0., 0., 0., 0., 0., 1., 0., 0., 1., 1., 1., 1., 1., 0., 1.,\n",
       "       0., 1., 0., 1., 0., 0., 1., 1., 1., 1., 0., 0., 0., 0., 0., 0., 0.,\n",
       "       0., 0., 0., 0., 0., 0., 0., 0., 0., 0., 0., 0., 0., 1., 0., 0., 1.,\n",
       "       0., 1., 1., 0., 0., 0., 1., 1., 1., 0., 0., 0., 0., 0., 0., 0., 1.,\n",
       "       0., 0., 0., 1., 1., 1., 0., 0., 0., 1., 0., 0., 0., 0., 1., 0., 1.,\n",
       "       0., 0., 0., 0., 0., 0., 0., 0., 0., 1., 0., 1., 0., 1., 0., 0., 0.,\n",
       "       0., 1., 0., 0., 0., 0., 0., 0., 0., 0., 1., 0., 0., 1., 1., 1., 0.,\n",
       "       0., 1., 0., 1., 0., 0., 1., 1., 1., 1., 1., 1., 1., 0., 1., 1., 1.,\n",
       "       0., 1.])"
      ]
     },
     "execution_count": 236,
     "metadata": {},
     "output_type": "execute_result"
    }
   ],
   "source": [
    "knn_5.predict(X_test)"
   ]
  },
  {
   "cell_type": "code",
   "execution_count": 237,
   "id": "4301a87f",
   "metadata": {},
   "outputs": [
    {
     "data": {
      "text/plain": [
       "array([0., 0., 1., 0., 0., 0., 0., 0., 0., 1., 0., 1., 0., 0., 1., 0., 1.,\n",
       "       0., 0., 1., 0., 1., 0., 0., 0., 0., 1., 0., 0., 0., 1., 0., 0., 1.,\n",
       "       0., 0., 0., 0., 0., 0., 1., 0., 1., 0., 1., 0., 0., 0., 0., 0., 0.,\n",
       "       0., 0., 1., 0., 0., 1., 1., 0., 0., 0., 0., 0., 0., 0., 0., 1., 1.,\n",
       "       1., 1., 1., 0., 0., 1., 1., 0., 0., 0., 1., 0., 0., 1., 0., 1., 1.,\n",
       "       0., 0., 0., 0., 0., 0., 0., 1., 0., 0., 1., 1., 1., 0., 1., 0., 1.,\n",
       "       0., 1., 0., 1., 0., 0., 0., 1., 1., 1., 0., 0., 0., 0., 0., 0., 0.,\n",
       "       0., 0., 0., 0., 0., 0., 0., 0., 0., 0., 0., 0., 0., 1., 0., 0., 1.,\n",
       "       0., 1., 1., 0., 0., 0., 1., 1., 1., 0., 0., 0., 0., 0., 0., 0., 1.,\n",
       "       0., 0., 0., 1., 1., 1., 0., 0., 0., 1., 0., 0., 0., 0., 1., 0., 1.,\n",
       "       0., 0., 0., 0., 0., 0., 0., 0., 0., 1., 0., 1., 0., 0., 0., 0., 0.,\n",
       "       0., 0., 0., 0., 0., 0., 0., 0., 0., 0., 0., 0., 0., 1., 0., 1., 0.,\n",
       "       0., 1., 0., 1., 0., 0., 1., 1., 0., 1., 1., 0., 1., 0., 0., 1., 0.,\n",
       "       0., 1.])"
      ]
     },
     "execution_count": 237,
     "metadata": {},
     "output_type": "execute_result"
    }
   ],
   "source": [
    "knn_10.predict(X_test)"
   ]
  },
  {
   "cell_type": "code",
   "execution_count": 238,
   "id": "3b6b25ce",
   "metadata": {},
   "outputs": [
    {
     "data": {
      "text/plain": [
       "0.75"
      ]
     },
     "execution_count": 238,
     "metadata": {},
     "output_type": "execute_result"
    }
   ],
   "source": [
    "# Accuracy Score Test set KNN -> K = 5 \n",
    "round(knn_5.score(X_test, y_test),2) # 75 % Accuracy "
   ]
  },
  {
   "cell_type": "code",
   "execution_count": 239,
   "id": "c907f36f",
   "metadata": {},
   "outputs": [],
   "source": [
    "# Confusion Matrix KNN -> K = 5 on Test set"
   ]
  },
  {
   "cell_type": "code",
   "execution_count": 240,
   "id": "689d947c",
   "metadata": {},
   "outputs": [
    {
     "name": "stdout",
     "output_type": "stream",
     "text": [
      "[[110  22]\n",
      " [ 33  58]]\n"
     ]
    }
   ],
   "source": [
    "from sklearn.metrics import confusion_matrix\n",
    "print(confusion_matrix(y_test, knn_5.predict(X_test)))"
   ]
  },
  {
   "cell_type": "code",
   "execution_count": 241,
   "id": "7d4ee897",
   "metadata": {},
   "outputs": [],
   "source": [
    "# Classification Report KNN -> K = 5 on Test set"
   ]
  },
  {
   "cell_type": "code",
   "execution_count": 242,
   "id": "10678bd2",
   "metadata": {},
   "outputs": [
    {
     "name": "stdout",
     "output_type": "stream",
     "text": [
      "              precision    recall  f1-score   support\n",
      "\n",
      "         0.0       0.77      0.83      0.80       132\n",
      "         1.0       0.72      0.64      0.68        91\n",
      "\n",
      "    accuracy                           0.75       223\n",
      "   macro avg       0.75      0.74      0.74       223\n",
      "weighted avg       0.75      0.75      0.75       223\n",
      "\n"
     ]
    }
   ],
   "source": [
    "from sklearn.metrics import classification_report\n",
    "print(classification_report(y_test, knn_5.predict(X_test)))"
   ]
  },
  {
   "cell_type": "code",
   "execution_count": 243,
   "id": "3bd2253c",
   "metadata": {},
   "outputs": [
    {
     "data": {
      "text/plain": [
       "0.77"
      ]
     },
     "execution_count": 243,
     "metadata": {},
     "output_type": "execute_result"
    }
   ],
   "source": [
    "# Accuracy Score Test set KNN -> K = 10 \n",
    "round(knn_10.score(X_test, y_test),2) # 77 % Accuracy"
   ]
  },
  {
   "cell_type": "code",
   "execution_count": 244,
   "id": "e917a091",
   "metadata": {},
   "outputs": [],
   "source": [
    "# Confusion Matrix KNN -> K = 10 on Test set"
   ]
  },
  {
   "cell_type": "code",
   "execution_count": 245,
   "id": "5465950b",
   "metadata": {},
   "outputs": [
    {
     "name": "stdout",
     "output_type": "stream",
     "text": [
      "[[119  13]\n",
      " [ 39  52]]\n"
     ]
    }
   ],
   "source": [
    "print(confusion_matrix(y_test, knn_10.predict(X_test)))"
   ]
  },
  {
   "cell_type": "code",
   "execution_count": 246,
   "id": "414ebc21",
   "metadata": {},
   "outputs": [],
   "source": [
    "# Classification Report KNN -> K = 10 on Test set"
   ]
  },
  {
   "cell_type": "code",
   "execution_count": 247,
   "id": "7ad2fc2a",
   "metadata": {},
   "outputs": [
    {
     "name": "stdout",
     "output_type": "stream",
     "text": [
      "              precision    recall  f1-score   support\n",
      "\n",
      "         0.0       0.75      0.90      0.82       132\n",
      "         1.0       0.80      0.57      0.67        91\n",
      "\n",
      "    accuracy                           0.77       223\n",
      "   macro avg       0.78      0.74      0.74       223\n",
      "weighted avg       0.77      0.77      0.76       223\n",
      "\n"
     ]
    }
   ],
   "source": [
    "print(classification_report(y_test, knn_10.predict(X_test)))"
   ]
  },
  {
   "cell_type": "code",
   "execution_count": 274,
   "id": "b597d72d",
   "metadata": {},
   "outputs": [],
   "source": [
    "# Try \n",
    "# creating the Numpy array\n",
    "array = np.array([[0, 1, 1, 0, 1, 40, 0, 0, 31.0], [1, 0, 0, 1, 0, 20, 0, 0, 31],\n",
    "                 [0, 1, 1, 0, 1, 35, 1, 1, 7 ], \n",
    "                 [0, 0, 0, 1, 0, 15, 0, 0, 31]])\n",
    "  \n",
    "# creating a list of index names\n",
    "index_values = ['first', 'second', 'third', 'fourth']\n",
    "   \n",
    "# creating a list of column names\n",
    "column_values = ['Passenger Class2', 'Passenger Class3', 'Male',\n",
    "       'Port_of_Embarkation_Q', 'Port_of_Embarkation_S', 'Age', 'SibSp',\n",
    "       'Parch', 'Fare']\n",
    "  \n",
    "# creating the dataframe\n",
    "df = pd.DataFrame(data = array, \n",
    "                  index = index_values, \n",
    "                  columns = column_values)\n",
    "\n",
    "# First observation -> Pclass3 - Male - Port_of_Embarkation_S - 40 Age - 31 Fare\n",
    "# Second observation -> Pclass2- Female - Port_of_Embarkation_Q - 20 Age - 31 Fare  \n",
    "# Third observation -> Pclass3 - Male- "
   ]
  },
  {
   "cell_type": "code",
   "execution_count": 275,
   "id": "c0debac5",
   "metadata": {},
   "outputs": [
    {
     "data": {
      "text/html": [
       "<div>\n",
       "<style scoped>\n",
       "    .dataframe tbody tr th:only-of-type {\n",
       "        vertical-align: middle;\n",
       "    }\n",
       "\n",
       "    .dataframe tbody tr th {\n",
       "        vertical-align: top;\n",
       "    }\n",
       "\n",
       "    .dataframe thead th {\n",
       "        text-align: right;\n",
       "    }\n",
       "</style>\n",
       "<table border=\"1\" class=\"dataframe\">\n",
       "  <thead>\n",
       "    <tr style=\"text-align: right;\">\n",
       "      <th></th>\n",
       "      <th>Passenger Class2</th>\n",
       "      <th>Passenger Class3</th>\n",
       "      <th>Male</th>\n",
       "      <th>Port_of_Embarkation_Q</th>\n",
       "      <th>Port_of_Embarkation_S</th>\n",
       "      <th>Age</th>\n",
       "      <th>SibSp</th>\n",
       "      <th>Parch</th>\n",
       "      <th>Fare</th>\n",
       "    </tr>\n",
       "  </thead>\n",
       "  <tbody>\n",
       "    <tr>\n",
       "      <th>first</th>\n",
       "      <td>0.0</td>\n",
       "      <td>1.0</td>\n",
       "      <td>1.0</td>\n",
       "      <td>0.0</td>\n",
       "      <td>1.0</td>\n",
       "      <td>40.0</td>\n",
       "      <td>0.0</td>\n",
       "      <td>0.0</td>\n",
       "      <td>31.0</td>\n",
       "    </tr>\n",
       "    <tr>\n",
       "      <th>second</th>\n",
       "      <td>1.0</td>\n",
       "      <td>0.0</td>\n",
       "      <td>0.0</td>\n",
       "      <td>1.0</td>\n",
       "      <td>0.0</td>\n",
       "      <td>20.0</td>\n",
       "      <td>0.0</td>\n",
       "      <td>0.0</td>\n",
       "      <td>31.0</td>\n",
       "    </tr>\n",
       "    <tr>\n",
       "      <th>third</th>\n",
       "      <td>0.0</td>\n",
       "      <td>1.0</td>\n",
       "      <td>1.0</td>\n",
       "      <td>0.0</td>\n",
       "      <td>1.0</td>\n",
       "      <td>35.0</td>\n",
       "      <td>1.0</td>\n",
       "      <td>1.0</td>\n",
       "      <td>7.0</td>\n",
       "    </tr>\n",
       "    <tr>\n",
       "      <th>fourth</th>\n",
       "      <td>0.0</td>\n",
       "      <td>0.0</td>\n",
       "      <td>0.0</td>\n",
       "      <td>1.0</td>\n",
       "      <td>0.0</td>\n",
       "      <td>15.0</td>\n",
       "      <td>0.0</td>\n",
       "      <td>0.0</td>\n",
       "      <td>31.0</td>\n",
       "    </tr>\n",
       "  </tbody>\n",
       "</table>\n",
       "</div>"
      ],
      "text/plain": [
       "        Passenger Class2  Passenger Class3  Male  Port_of_Embarkation_Q  \\\n",
       "first                0.0               1.0   1.0                    0.0   \n",
       "second               1.0               0.0   0.0                    1.0   \n",
       "third                0.0               1.0   1.0                    0.0   \n",
       "fourth               0.0               0.0   0.0                    1.0   \n",
       "\n",
       "        Port_of_Embarkation_S   Age  SibSp  Parch  Fare  \n",
       "first                     1.0  40.0    0.0    0.0  31.0  \n",
       "second                    0.0  20.0    0.0    0.0  31.0  \n",
       "third                     1.0  35.0    1.0    1.0   7.0  \n",
       "fourth                    0.0  15.0    0.0    0.0  31.0  "
      ]
     },
     "execution_count": 275,
     "metadata": {},
     "output_type": "execute_result"
    }
   ],
   "source": [
    " df"
   ]
  },
  {
   "cell_type": "code",
   "execution_count": 276,
   "id": "224f62fd",
   "metadata": {},
   "outputs": [
    {
     "data": {
      "text/plain": [
       "array([1., 1., 0., 1.])"
      ]
     },
     "execution_count": 276,
     "metadata": {},
     "output_type": "execute_result"
    }
   ],
   "source": [
    "# Predict on df KNN -> K = 5\n",
    "knn_5.predict(df) # Survived, Survived, Not Survived, Survived"
   ]
  },
  {
   "cell_type": "code",
   "execution_count": 277,
   "id": "51f177ba",
   "metadata": {},
   "outputs": [
    {
     "data": {
      "text/plain": [
       "array([1., 1., 0., 1.])"
      ]
     },
     "execution_count": 277,
     "metadata": {},
     "output_type": "execute_result"
    }
   ],
   "source": [
    "# Predict on df KNN -> K = 10\n",
    "knn_10.predict(df) # Survived, Survived, Not Survived, Survived"
   ]
  },
  {
   "cell_type": "code",
   "execution_count": null,
   "id": "0d252cb7",
   "metadata": {},
   "outputs": [],
   "source": []
  },
  {
   "cell_type": "code",
   "execution_count": null,
   "id": "f994c932",
   "metadata": {},
   "outputs": [],
   "source": []
  },
  {
   "cell_type": "code",
   "execution_count": null,
   "id": "9802fa33",
   "metadata": {},
   "outputs": [],
   "source": []
  }
 ],
 "metadata": {
  "kernelspec": {
   "display_name": "Python 3 (ipykernel)",
   "language": "python",
   "name": "python3"
  },
  "language_info": {
   "codemirror_mode": {
    "name": "ipython",
    "version": 3
   },
   "file_extension": ".py",
   "mimetype": "text/x-python",
   "name": "python",
   "nbconvert_exporter": "python",
   "pygments_lexer": "ipython3",
   "version": "3.9.12"
  }
 },
 "nbformat": 4,
 "nbformat_minor": 5
}
